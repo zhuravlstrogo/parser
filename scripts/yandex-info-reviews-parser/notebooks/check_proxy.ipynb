{
 "cells": [
  {
   "cell_type": "code",
   "execution_count": 20,
   "metadata": {},
   "outputs": [],
   "source": [
    "import re\n",
    "import json\n",
    "from random import randrange\n",
    "from datetime import datetime, date, time, timedelta\n",
    "import requests\n",
    "from requests.auth import HTTPBasicAuth\n",
    "import numpy as np\n",
    "import pandas as pd\n",
    "import pandas as pd\n",
    "from bs4 import BeautifulSoup\n",
    "from tqdm import tqdm\n",
    "import warnings\n",
    "warnings.filterwarnings(\"ignore\")"
   ]
  },
  {
   "cell_type": "code",
   "execution_count": 2,
   "metadata": {},
   "outputs": [
    {
     "data": {
      "text/plain": [
       "100"
      ]
     },
     "execution_count": 2,
     "metadata": {},
     "output_type": "execute_result"
    }
   ],
   "source": [
    "\n",
    "len(ip)"
   ]
  },
  {
   "cell_type": "code",
   "execution_count": 16,
   "metadata": {},
   "outputs": [],
   "source": []
  },
  {
   "cell_type": "code",
   "execution_count": 33,
   "metadata": {},
   "outputs": [],
   "source": [
    "def get_random_proxy():\n",
    "    df = pd.read_json('Free_Proxy_List.json')\n",
    "    ips = df['ip'].to_list()\n",
    "    idx = randrange(len(df))\n",
    "    proxies = {'http': f'http://{ips[idx]}'}\n",
    "    return  proxies"
   ]
  },
  {
   "cell_type": "code",
   "execution_count": 41,
   "metadata": {},
   "outputs": [],
   "source": [
    "def get_proxies_list():\n",
    "    \n",
    "    proxies_list = []\n",
    "    \n",
    "    df = pd.read_json('Free_Proxy_List.json')\n",
    "    ips = df['ip'].to_list()\n",
    "    for ip in ips:\n",
    "        proxies_list.append(f'http://{ip}')\n",
    "    return proxies_list"
   ]
  },
  {
   "cell_type": "code",
   "execution_count": 46,
   "metadata": {},
   "outputs": [],
   "source": [
    "ips = df['ip'].to_list()"
   ]
  },
  {
   "cell_type": "code",
   "execution_count": 42,
   "metadata": {},
   "outputs": [],
   "source": [
    "proxies_list = get_proxies_list()"
   ]
  },
  {
   "cell_type": "code",
   "execution_count": 52,
   "metadata": {},
   "outputs": [
    {
     "data": {
      "text/plain": [
       "'116.102.244.96'"
      ]
     },
     "execution_count": 52,
     "metadata": {},
     "output_type": "execute_result"
    }
   ],
   "source": [
    "proxy = '116.102.244.96'\n",
    "proxy"
   ]
  },
  {
   "cell_type": "code",
   "execution_count": 62,
   "metadata": {},
   "outputs": [
    {
     "data": {
      "text/plain": [
       "{'http': 'socks5://116.102.244.96', 'https': 'socks5://116.102.244.96'}"
      ]
     },
     "execution_count": 62,
     "metadata": {},
     "output_type": "execute_result"
    }
   ],
   "source": [
    "proxies = {\n",
    "               'http':  \"socks5://\" + proxy,\n",
    "                'https': \"socks5://\" + proxy,\n",
    "            }\n",
    "proxies"
   ]
  },
  {
   "cell_type": "code",
   "execution_count": 63,
   "metadata": {},
   "outputs": [],
   "source": [
    "proxies = get_random_proxy()\n",
    "url = 'https://ifconfig.me/all.json'\n",
    "r = requests.get(url=url, proxies=proxies)"
   ]
  },
  {
   "cell_type": "code",
   "execution_count": 64,
   "metadata": {},
   "outputs": [
    {
     "data": {
      "text/plain": [
       "200"
      ]
     },
     "execution_count": 64,
     "metadata": {},
     "output_type": "execute_result"
    }
   ],
   "source": [
    "r.status_code"
   ]
  },
  {
   "cell_type": "code",
   "execution_count": 56,
   "metadata": {},
   "outputs": [
    {
     "data": {
      "text/plain": [
       "{'ip_addr': '46.138.26.78',\n",
       " 'remote_host': 'unavailable',\n",
       " 'user_agent': 'python-requests/2.31.0',\n",
       " 'port': '43204',\n",
       " 'method': 'GET',\n",
       " 'encoding': 'gzip, deflate, br',\n",
       " 'mime': '*/*',\n",
       " 'via': '1.1 google',\n",
       " 'forwarded': '46.138.26.78,34.117.118.44'}"
      ]
     },
     "execution_count": 56,
     "metadata": {},
     "output_type": "execute_result"
    }
   ],
   "source": [
    "json.loads(r.content)"
   ]
  },
  {
   "cell_type": "code",
   "execution_count": null,
   "metadata": {},
   "outputs": [],
   "source": [
    "# import requests\n",
    "\n",
    "# login = 'my_login'\n",
    "# password = 'my_password'\n",
    "# address = '207.164.21.34'\n",
    "# port = '3128'\n",
    "\n",
    "# proxies = {\n",
    "#     'http': f'http://{login}:{password}@{address}:{port}',\n",
    "#     'https': f'https://{login}:{password}@{address}:{port}',\n",
    "# }"
   ]
  },
  {
   "cell_type": "code",
   "execution_count": null,
   "metadata": {},
   "outputs": [],
   "source": [
    "# https://ru.stackoverflow.com/questions/1244744/%D0%9A%D0%B0%D0%BA-%D0%BE%D1%82%D0%BF%D1%80%D0%B0%D0%B2%D0%BB%D1%8F%D1%82%D1%8C-%D0%B7%D0%B0%D0%BF%D1%80%D0%BE%D1%81%D1%8B-%D1%87%D0%B5%D1%80%D0%B5%D0%B7-%D0%BF%D1%80%D0%BE%D0%BA%D1%81%D0%B8\n",
    "\n",
    "# работоспособость прокси "
   ]
  },
  {
   "cell_type": "code",
   "execution_count": null,
   "metadata": {},
   "outputs": [],
   "source": [
    "# https://ru.stackoverflow.com/questions/1244744/%D0%9A%D0%B0%D0%BA-%D0%BE%D1%82%D0%BF%D1%80%D0%B0%D0%B2%D0%BB%D1%8F%D1%82%D1%8C-%D0%B7%D0%B0%D0%BF%D1%80%D0%BE%D1%81%D1%8B-%D1%87%D0%B5%D1%80%D0%B5%D0%B7-%D0%BF%D1%80%D0%BE%D0%BA%D1%81%D0%B8"
   ]
  },
  {
   "cell_type": "code",
   "execution_count": null,
   "metadata": {},
   "outputs": [],
   "source": []
  }
 ],
 "metadata": {
  "kernelspec": {
   "display_name": "Python 3 (ipykernel)",
   "language": "python",
   "name": "python3"
  },
  "language_info": {
   "codemirror_mode": {
    "name": "ipython",
    "version": 3
   },
   "file_extension": ".py",
   "mimetype": "text/x-python",
   "name": "python",
   "nbconvert_exporter": "python",
   "pygments_lexer": "ipython3",
   "version": "3.9.18"
  }
 },
 "nbformat": 4,
 "nbformat_minor": 4
}
