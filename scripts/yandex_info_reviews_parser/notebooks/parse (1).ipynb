{
  "metadata": {
    "kernelspec": {
      "name": "python",
      "display_name": "Python (Pyodide)",
      "language": "python"
    },
    "language_info": {
      "codemirror_mode": {
        "name": "python",
        "version": 3
      },
      "file_extension": ".py",
      "mimetype": "text/x-python",
      "name": "python",
      "nbconvert_exporter": "python",
      "pygments_lexer": "ipython3",
      "version": "3.8"
    }
  },
  "nbformat_minor": 4,
  "nbformat": 4,
  "cells": [
    {
      "cell_type": "code",
      "source": "import pandas as pd\nimport re\nimport warnings\nwarnings.filterwarnings(\"ignore\")",
      "metadata": {
        "trusted": true
      },
      "outputs": [],
      "execution_count": 519
    },
    {
      "cell_type": "code",
      "source": "df = pd.read_csv('Сбер.csv')\nnot_dop_office = df[df['Тип'] != 'Доп офис']\ndop_office = df[df['Тип'] == 'Доп офис']\ndf.shape, dop_office.shape",
      "metadata": {
        "trusted": true
      },
      "outputs": [
        {
          "ename": "<class 'pandas.errors.ParserError'>",
          "evalue": "Error tokenizing data. C error: EOF inside string starting at row 4908",
          "traceback": [
            "\u001b[0;31m---------------------------------------------------------------------------\u001b[0m",
            "\u001b[0;31mParserError\u001b[0m                               Traceback (most recent call last)",
            "Cell \u001b[0;32mIn[521], line 1\u001b[0m\n\u001b[0;32m----> 1\u001b[0m df \u001b[38;5;241m=\u001b[39m \u001b[43mpd\u001b[49m\u001b[38;5;241;43m.\u001b[39;49m\u001b[43mread_csv\u001b[49m\u001b[43m(\u001b[49m\u001b[38;5;124;43m'\u001b[39;49m\u001b[38;5;124;43mСбер.csv\u001b[39;49m\u001b[38;5;124;43m'\u001b[39;49m\u001b[43m)\u001b[49m\n\u001b[1;32m      2\u001b[0m not_dop_office \u001b[38;5;241m=\u001b[39m df[df[\u001b[38;5;124m'\u001b[39m\u001b[38;5;124mТип\u001b[39m\u001b[38;5;124m'\u001b[39m] \u001b[38;5;241m!=\u001b[39m \u001b[38;5;124m'\u001b[39m\u001b[38;5;124mДоп офис\u001b[39m\u001b[38;5;124m'\u001b[39m]\n\u001b[1;32m      3\u001b[0m dop_office \u001b[38;5;241m=\u001b[39m df[df[\u001b[38;5;124m'\u001b[39m\u001b[38;5;124mТип\u001b[39m\u001b[38;5;124m'\u001b[39m] \u001b[38;5;241m==\u001b[39m \u001b[38;5;124m'\u001b[39m\u001b[38;5;124mДоп офис\u001b[39m\u001b[38;5;124m'\u001b[39m]\n",
            "File \u001b[0;32m/lib/python3.11/site-packages/pandas/util/_decorators.py:211\u001b[0m, in \u001b[0;36mdeprecate_kwarg.<locals>._deprecate_kwarg.<locals>.wrapper\u001b[0;34m(*args, **kwargs)\u001b[0m\n\u001b[1;32m    209\u001b[0m     \u001b[38;5;28;01melse\u001b[39;00m:\n\u001b[1;32m    210\u001b[0m         kwargs[new_arg_name] \u001b[38;5;241m=\u001b[39m new_arg_value\n\u001b[0;32m--> 211\u001b[0m \u001b[38;5;28;01mreturn\u001b[39;00m \u001b[43mfunc\u001b[49m\u001b[43m(\u001b[49m\u001b[38;5;241;43m*\u001b[39;49m\u001b[43margs\u001b[49m\u001b[43m,\u001b[49m\u001b[43m \u001b[49m\u001b[38;5;241;43m*\u001b[39;49m\u001b[38;5;241;43m*\u001b[39;49m\u001b[43mkwargs\u001b[49m\u001b[43m)\u001b[49m\n",
            "File \u001b[0;32m/lib/python3.11/site-packages/pandas/util/_decorators.py:331\u001b[0m, in \u001b[0;36mdeprecate_nonkeyword_arguments.<locals>.decorate.<locals>.wrapper\u001b[0;34m(*args, **kwargs)\u001b[0m\n\u001b[1;32m    325\u001b[0m \u001b[38;5;28;01mif\u001b[39;00m \u001b[38;5;28mlen\u001b[39m(args) \u001b[38;5;241m>\u001b[39m num_allow_args:\n\u001b[1;32m    326\u001b[0m     warnings\u001b[38;5;241m.\u001b[39mwarn(\n\u001b[1;32m    327\u001b[0m         msg\u001b[38;5;241m.\u001b[39mformat(arguments\u001b[38;5;241m=\u001b[39m_format_argument_list(allow_args)),\n\u001b[1;32m    328\u001b[0m         \u001b[38;5;167;01mFutureWarning\u001b[39;00m,\n\u001b[1;32m    329\u001b[0m         stacklevel\u001b[38;5;241m=\u001b[39mfind_stack_level(),\n\u001b[1;32m    330\u001b[0m     )\n\u001b[0;32m--> 331\u001b[0m \u001b[38;5;28;01mreturn\u001b[39;00m \u001b[43mfunc\u001b[49m\u001b[43m(\u001b[49m\u001b[38;5;241;43m*\u001b[39;49m\u001b[43margs\u001b[49m\u001b[43m,\u001b[49m\u001b[43m \u001b[49m\u001b[38;5;241;43m*\u001b[39;49m\u001b[38;5;241;43m*\u001b[39;49m\u001b[43mkwargs\u001b[49m\u001b[43m)\u001b[49m\n",
            "File \u001b[0;32m/lib/python3.11/site-packages/pandas/io/parsers/readers.py:950\u001b[0m, in \u001b[0;36mread_csv\u001b[0;34m(filepath_or_buffer, sep, delimiter, header, names, index_col, usecols, squeeze, prefix, mangle_dupe_cols, dtype, engine, converters, true_values, false_values, skipinitialspace, skiprows, skipfooter, nrows, na_values, keep_default_na, na_filter, verbose, skip_blank_lines, parse_dates, infer_datetime_format, keep_date_col, date_parser, dayfirst, cache_dates, iterator, chunksize, compression, thousands, decimal, lineterminator, quotechar, quoting, doublequote, escapechar, comment, encoding, encoding_errors, dialect, error_bad_lines, warn_bad_lines, on_bad_lines, delim_whitespace, low_memory, memory_map, float_precision, storage_options)\u001b[0m\n\u001b[1;32m    935\u001b[0m kwds_defaults \u001b[38;5;241m=\u001b[39m _refine_defaults_read(\n\u001b[1;32m    936\u001b[0m     dialect,\n\u001b[1;32m    937\u001b[0m     delimiter,\n\u001b[0;32m   (...)\u001b[0m\n\u001b[1;32m    946\u001b[0m     defaults\u001b[38;5;241m=\u001b[39m{\u001b[38;5;124m\"\u001b[39m\u001b[38;5;124mdelimiter\u001b[39m\u001b[38;5;124m\"\u001b[39m: \u001b[38;5;124m\"\u001b[39m\u001b[38;5;124m,\u001b[39m\u001b[38;5;124m\"\u001b[39m},\n\u001b[1;32m    947\u001b[0m )\n\u001b[1;32m    948\u001b[0m kwds\u001b[38;5;241m.\u001b[39mupdate(kwds_defaults)\n\u001b[0;32m--> 950\u001b[0m \u001b[38;5;28;01mreturn\u001b[39;00m \u001b[43m_read\u001b[49m\u001b[43m(\u001b[49m\u001b[43mfilepath_or_buffer\u001b[49m\u001b[43m,\u001b[49m\u001b[43m \u001b[49m\u001b[43mkwds\u001b[49m\u001b[43m)\u001b[49m\n",
            "File \u001b[0;32m/lib/python3.11/site-packages/pandas/io/parsers/readers.py:611\u001b[0m, in \u001b[0;36m_read\u001b[0;34m(filepath_or_buffer, kwds)\u001b[0m\n\u001b[1;32m    608\u001b[0m     \u001b[38;5;28;01mreturn\u001b[39;00m parser\n\u001b[1;32m    610\u001b[0m \u001b[38;5;28;01mwith\u001b[39;00m parser:\n\u001b[0;32m--> 611\u001b[0m     \u001b[38;5;28;01mreturn\u001b[39;00m \u001b[43mparser\u001b[49m\u001b[38;5;241;43m.\u001b[39;49m\u001b[43mread\u001b[49m\u001b[43m(\u001b[49m\u001b[43mnrows\u001b[49m\u001b[43m)\u001b[49m\n",
            "File \u001b[0;32m/lib/python3.11/site-packages/pandas/io/parsers/readers.py:1778\u001b[0m, in \u001b[0;36mTextFileReader.read\u001b[0;34m(self, nrows)\u001b[0m\n\u001b[1;32m   1771\u001b[0m nrows \u001b[38;5;241m=\u001b[39m validate_integer(\u001b[38;5;124m\"\u001b[39m\u001b[38;5;124mnrows\u001b[39m\u001b[38;5;124m\"\u001b[39m, nrows)\n\u001b[1;32m   1772\u001b[0m \u001b[38;5;28;01mtry\u001b[39;00m:\n\u001b[1;32m   1773\u001b[0m     \u001b[38;5;66;03m# error: \"ParserBase\" has no attribute \"read\"\u001b[39;00m\n\u001b[1;32m   1774\u001b[0m     (\n\u001b[1;32m   1775\u001b[0m         index,\n\u001b[1;32m   1776\u001b[0m         columns,\n\u001b[1;32m   1777\u001b[0m         col_dict,\n\u001b[0;32m-> 1778\u001b[0m     ) \u001b[38;5;241m=\u001b[39m \u001b[38;5;28;43mself\u001b[39;49m\u001b[38;5;241;43m.\u001b[39;49m\u001b[43m_engine\u001b[49m\u001b[38;5;241;43m.\u001b[39;49m\u001b[43mread\u001b[49m\u001b[43m(\u001b[49m\u001b[43m  \u001b[49m\u001b[38;5;66;43;03m# type: ignore[attr-defined]\u001b[39;49;00m\n\u001b[1;32m   1779\u001b[0m \u001b[43m        \u001b[49m\u001b[43mnrows\u001b[49m\n\u001b[1;32m   1780\u001b[0m \u001b[43m    \u001b[49m\u001b[43m)\u001b[49m\n\u001b[1;32m   1781\u001b[0m \u001b[38;5;28;01mexcept\u001b[39;00m \u001b[38;5;167;01mException\u001b[39;00m:\n\u001b[1;32m   1782\u001b[0m     \u001b[38;5;28mself\u001b[39m\u001b[38;5;241m.\u001b[39mclose()\n",
            "File \u001b[0;32m/lib/python3.11/site-packages/pandas/io/parsers/c_parser_wrapper.py:230\u001b[0m, in \u001b[0;36mCParserWrapper.read\u001b[0;34m(self, nrows)\u001b[0m\n\u001b[1;32m    228\u001b[0m \u001b[38;5;28;01mtry\u001b[39;00m:\n\u001b[1;32m    229\u001b[0m     \u001b[38;5;28;01mif\u001b[39;00m \u001b[38;5;28mself\u001b[39m\u001b[38;5;241m.\u001b[39mlow_memory:\n\u001b[0;32m--> 230\u001b[0m         chunks \u001b[38;5;241m=\u001b[39m \u001b[38;5;28mself\u001b[39m\u001b[38;5;241m.\u001b[39m_reader\u001b[38;5;241m.\u001b[39mread_low_memory(nrows)\n\u001b[1;32m    231\u001b[0m         \u001b[38;5;66;03m# destructive to chunks\u001b[39;00m\n\u001b[1;32m    232\u001b[0m         data \u001b[38;5;241m=\u001b[39m _concatenate_chunks(chunks)\n",
            "File \u001b[0;32m/lib/python3.11/site-packages/pandas/_libs/parsers.pyx:808\u001b[0m, in \u001b[0;36mpandas._libs.parsers.TextReader.read_low_memory\u001b[0;34m()\u001b[0m\n",
            "File \u001b[0;32m/lib/python3.11/site-packages/pandas/_libs/parsers.pyx:866\u001b[0m, in \u001b[0;36mpandas._libs.parsers.TextReader._read_rows\u001b[0;34m()\u001b[0m\n",
            "File \u001b[0;32m/lib/python3.11/site-packages/pandas/_libs/parsers.pyx:852\u001b[0m, in \u001b[0;36mpandas._libs.parsers.TextReader._tokenize_rows\u001b[0;34m()\u001b[0m\n",
            "File \u001b[0;32m/lib/python3.11/site-packages/pandas/_libs/parsers.pyx:1973\u001b[0m, in \u001b[0;36mpandas._libs.parsers.raise_parser_error\u001b[0;34m()\u001b[0m\n",
            "\u001b[0;31mParserError\u001b[0m: Error tokenizing data. C error: EOF inside string starting at row 4908"
          ],
          "output_type": "error"
        }
      ],
      "execution_count": 521
    },
    {
      "cell_type": "code",
      "source": "",
      "metadata": {
        "trusted": true
      },
      "outputs": [
        {
          "execution_count": 508,
          "output_type": "execute_result",
          "data": {
            "text/plain": "(3639, 6)"
          },
          "metadata": {}
        }
      ],
      "execution_count": 508
    },
    {
      "cell_type": "code",
      "source": "# (первый \n# первый этаж\n# ,(комната\n# \"инв\",",
      "metadata": {
        "trusted": true
      },
      "outputs": [],
      "execution_count": 509
    },
    {
      "cell_type": "code",
      "source": "s = 'saf (000) sfaf'\ns.find(\"(\")",
      "metadata": {
        "trusted": true
      },
      "outputs": [
        {
          "execution_count": 510,
          "output_type": "execute_result",
          "data": {
            "text/plain": "4"
          },
          "metadata": {}
        }
      ],
      "execution_count": 510
    },
    {
      "cell_type": "code",
      "source": "excluded = [\"пом\", \"(Помещения\", \" (ком.\", \"литер\", \"Литер\", \"(\", \"офис\", \n     \"первый этаж\", \"второй этаж\", \"третрий этаж\", \"цокольный этаж\", \"1 эт\", \"2 эт\", \"3 эт\",\n    \"литер\", \"каб\", \"блок\", \"напротив\", \"комн\", \" оф.\",  \"б/н\", \"цок.\",  \"пом.\",\n           \"подвальный этаж\", \"нежилые пом\", \"аптеки\", \"гостиница\",\"кв.\", \"инв.\", \"встроенное\",\n           \"часть нежилого\", \"Военный городок\",  \"часть\", \"КОЦ\", \"нежилые\", \"в 15 метрах\",\n           \"номер на\"] ",
      "metadata": {
        "trusted": true
      },
      "outputs": [],
      "execution_count": 511
    },
    {
      "cell_type": "code",
      "source": "dop_office['Адрес'] = dop_office['Адрес'].apply(lambda s: s[:s.find(\"(\")] + s[s.find(\")\")+1 :]\n                                                if s.find(\"(\") != -1 and s.find(\")\") != -1 else s)\n\nfor e in excluded:\n\n    dop_office['Адрес'] = dop_office['Адрес'].str.replace(\"№\", \"\")\n    dop_office['Адрес'] = dop_office['Адрес'].str.replace(\" №\", \"\")\n    dop_office['Адрес'] = dop_office['Адрес'].str.replace(\" № \", \"\")\n    dop_office['Адрес'] = dop_office['Адрес'].str.replace(\"здание\", \"\")\n    dop_office['Адрес'] = dop_office['Адрес'].str.replace(\"Здание\", \"\")\n    dop_office['Адрес'] = dop_office['Адрес'].str.replace(\"зд.\", \"\")\n    dop_office['Адрес'] = dop_office['Адрес'].str.replace(\"строение\", \"стр.\")\n    dop_office['Адрес'] = dop_office['Адрес'].str.replace(\"строен.\", \"стр.\")\n    dop_office['Адрес'] = dop_office['Адрес'].str.replace(\"з/у\", \"\")\n    dop_office['Адрес'] = dop_office['Адрес'].str.replace(\"  \", \" \")\n    dop_office['Адрес'] = dop_office['Адрес'].str.replace(\"   \", \" \")\n\n    dop_office['Адрес'] = dop_office['Адрес'].apply(lambda s: s[:s.find(e)] if s.find(e) != -1 else s)\n    e_plus = ', ' + e \n    dop_office['Адрес'] = dop_office['Адрес'].apply(lambda s: s[:s.find(e_plus)] if s.find(e_plus) != -1 else s)\n    e_plus = ',' + e \n    dop_office['Адрес'] = dop_office['Адрес'].apply(lambda s: s[:s.find(e_plus)] if s.find(e_plus) != -1 else s)\n\nfor row in dop_office.itertuples():\n  \n    if row.Адрес[-1] == ',' or row.Адрес[-1] == ';' or row.Адрес[-1] == '.' or row.Адрес[-1] == ')':\n        dop_office.loc[row.Index, 'Адрес'] = row.Адрес[:-1]\n    elif row.Адрес[-2:] == ' ,' or row.Адрес[-2:] == '. ' or row.Адрес[-2:] == '; ' or row.Адрес[-2:] == ', ' or row.Адрес[-2:] == '; ':\n        dop_office.loc[row.Index, 'Адрес'] = row.Адрес[:-2]\n    elif row.Адрес[-3:] == '  ,' or row.Адрес[-3:] == ' , ' or row.Адрес[-3:] == ',  ':\n        dop_office.loc[row.Index, 'Адрес'] = row.Адрес[:-3]",
      "metadata": {
        "trusted": true
      },
      "outputs": [],
      "execution_count": 512
    },
    {
      "cell_type": "code",
      "source": "ex = '№8598/0244'\ndf[df['Номер ТП.1'] == ex]['Адрес'].values",
      "metadata": {
        "trusted": true
      },
      "outputs": [
        {
          "execution_count": 513,
          "output_type": "execute_result",
          "data": {
            "text/plain": "array(['450056, Республика Башкортостан, Уфимский район, с.Булгаково, микрорайон Аэропорт'],\n      dtype=object)"
          },
          "metadata": {}
        }
      ],
      "execution_count": 513
    },
    {
      "cell_type": "code",
      "source": "dop_office[dop_office['Номер ТП.1'] == ex]['Адрес'].values",
      "metadata": {
        "trusted": true
      },
      "outputs": [
        {
          "execution_count": 514,
          "output_type": "execute_result",
          "data": {
            "text/plain": "array(['450056, Республика Башкортостан, Уфимский район, с.Булгаково, микрорайон Аэропорт'],\n      dtype=object)"
          },
          "metadata": {}
        }
      ],
      "execution_count": 514
    },
    {
      "cell_type": "code",
      "source": "dop_office[['Адрес', 'Номер ТП.1']].sample(15).values",
      "metadata": {
        "trusted": true
      },
      "outputs": [
        {
          "execution_count": 515,
          "output_type": "execute_result",
          "data": {
            "text/plain": "array([['162700, Вологодская обл., Череповецкий р-н, Судский п/с, п. Суда, ул. Гагарина, д. 30',\n        '№ 8638/0174'],\n       ['601810, Владимирская область, Юрьев-Польский район, с. Небылое, ул. Первомайская, д. 2',\n        '8611/0414'],\n       ['385061, Республика Адыгея , г. Майкоп, ст-ца Ханская, ул. Верещагина, д. 105',\n        '8620/015'],\n       ['358000, Республика Калмыкия, г.Элиста, ул.В.И.Ленина, 305',\n        '№ 8579/022 кассово-инкассаторский центр \"Элистинский\"'],\n       ['242611, Брянская область, г. Фокино, ул. Карла Маркса, д. 1',\n        '8605/0164'],\n       ['649750, Республика Алтай, Улаганский район, с.Улаган, ул.А.В.Санаа, 16',\n        '№8558/018'],\n       ['453147, Республика Башкортостан, Стерлитамакский р-н, с. Октябрьское, ул. Мира, д. 9',\n        '8598/0385'],\n       ['658616, Алтайский край, Завьяловский район, с. Харитоново, ул. Советская, 21',\n        '8644/0619'],\n       ['414000, Астраханская обл., г. Астрахань, ул. Кирова, д. 30',\n        '8625/0142'],\n       ['249300, Калужская область пос. Думиничи, ул. Ленина, 6',\n        '№ 8608/0194'],\n       ['385322, Республика Адыгея, аул Хатукай, ул. 50 лет Октября, 4',\n        '8620/050'],\n       ['671251, Республика Бурятия, Прибайкальский р-н, станция Татаурово, ул. Трактовая, д. 15',\n        '8601/0164'],\n       ['682400, Хабаровский край, Ульчский район, с.Богородское, ул.Партизанская, 5',\n        '90'],\n       ['416207, Астраханская область, Енотаевский р-н, с. Иваново-Николаевка, ул. Ленина, 30',\n        '8625/0284'],\n       ['659662, Алтайский край, Петропавловский район, с. Паутово, ул. Ленина, 76-а',\n        '8644/0578']], dtype=object)"
          },
          "metadata": {}
        }
      ],
      "execution_count": 515
    },
    {
      "cell_type": "code",
      "source": "res = pd.concat([not_dop_office, dop_office])",
      "metadata": {
        "trusted": true
      },
      "outputs": [],
      "execution_count": 502
    },
    {
      "cell_type": "code",
      "source": "res.shape",
      "metadata": {
        "trusted": true
      },
      "outputs": [
        {
          "execution_count": 516,
          "output_type": "execute_result",
          "data": {
            "text/plain": "(3639, 6)"
          },
          "metadata": {}
        }
      ],
      "execution_count": 516
    },
    {
      "cell_type": "code",
      "source": "res.to_csv(\"Сбер_без_пом_и_пр.csv\", index=False)",
      "metadata": {
        "trusted": true
      },
      "outputs": [],
      "execution_count": 505
    },
    {
      "cell_type": "code",
      "source": "dop_office.to_csv(\"dop_office.csv\")",
      "metadata": {
        "trusted": true
      },
      "outputs": [],
      "execution_count": 504
    },
    {
      "cell_type": "code",
      "source": "",
      "metadata": {
        "trusted": true
      },
      "outputs": [],
      "execution_count": null
    },
    {
      "cell_type": "code",
      "source": "",
      "metadata": {
        "trusted": true
      },
      "outputs": [],
      "execution_count": null
    }
  ]
}