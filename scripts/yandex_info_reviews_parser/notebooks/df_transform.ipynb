{
 "cells": [
  {
   "cell_type": "code",
   "execution_count": 1,
   "metadata": {},
   "outputs": [],
   "source": [
    "import pandas as pd\n",
    "import numpy as np"
   ]
  },
  {
   "cell_type": "code",
   "execution_count": 2,
   "metadata": {},
   "outputs": [
    {
     "data": {
      "text/html": [
       "<div>\n",
       "<style scoped>\n",
       "    .dataframe tbody tr th:only-of-type {\n",
       "        vertical-align: middle;\n",
       "    }\n",
       "\n",
       "    .dataframe tbody tr th {\n",
       "        vertical-align: top;\n",
       "    }\n",
       "\n",
       "    .dataframe thead th {\n",
       "        text-align: right;\n",
       "    }\n",
       "</style>\n",
       "<table border=\"1\" class=\"dataframe\">\n",
       "  <thead>\n",
       "    <tr style=\"text-align: right;\">\n",
       "      <th></th>\n",
       "      <th>Unnamed: 0</th>\n",
       "      <th>outputs</th>\n",
       "    </tr>\n",
       "  </thead>\n",
       "  <tbody>\n",
       "    <tr>\n",
       "      <th>0</th>\n",
       "      <td>0</td>\n",
       "      <td>{'ID': 1, 'name': '', 'address': '', 'website'...</td>\n",
       "    </tr>\n",
       "    <tr>\n",
       "      <th>1</th>\n",
       "      <td>1</td>\n",
       "      <td>{'ID': 2, 'name': '', 'address': '', 'website'...</td>\n",
       "    </tr>\n",
       "    <tr>\n",
       "      <th>2</th>\n",
       "      <td>2</td>\n",
       "      <td>{'ID': 3, 'name': '', 'address': '', 'website'...</td>\n",
       "    </tr>\n",
       "    <tr>\n",
       "      <th>3</th>\n",
       "      <td>3</td>\n",
       "      <td>{'ID': 4, 'name': '', 'address': '', 'website'...</td>\n",
       "    </tr>\n",
       "    <tr>\n",
       "      <th>4</th>\n",
       "      <td>4</td>\n",
       "      <td>{'ID': 5, 'name': '', 'address': '', 'website'...</td>\n",
       "    </tr>\n",
       "  </tbody>\n",
       "</table>\n",
       "</div>"
      ],
      "text/plain": [
       "   Unnamed: 0                                            outputs\n",
       "0           0  {'ID': 1, 'name': '', 'address': '', 'website'...\n",
       "1           1  {'ID': 2, 'name': '', 'address': '', 'website'...\n",
       "2           2  {'ID': 3, 'name': '', 'address': '', 'website'...\n",
       "3           3  {'ID': 4, 'name': '', 'address': '', 'website'...\n",
       "4           4  {'ID': 5, 'name': '', 'address': '', 'website'..."
      ]
     },
     "execution_count": 2,
     "metadata": {},
     "output_type": "execute_result"
    }
   ],
   "source": [
    "df = pd.read_csv('info_output/bank_outputs_2024_04_04.csv')\n",
    "df.head()"
   ]
  },
  {
   "cell_type": "code",
   "execution_count": 8,
   "metadata": {},
   "outputs": [
    {
     "data": {
      "text/plain": [
       "\"{'ID': 1, 'name': '', 'address': '', 'website': '', 'opening_hours': {'mon': 'выходной', 'tue': 'выходной', 'wed': 'выходной', 'thu': 'выходной', 'fri': 'выходной', 'sat': 'выходной', 'sun': 'выходной'}, 'ypage': 'https://yandex.ru/showcaptcha?mt=DC65A41B3C34EBD0B6472245A5EF4BE0FC1D72ADF8EC6A65DBD1F5F60FC253F9960981331A06EF43C879A52FBA7ED5D409D8EA5E4A9A615F74834DBDC73B9D76EB873696791156F6D1D0F722E4EAEFC10ED2D3C518C4A16BDE1906C918D3CD1EF6ABF215EDA82FEF576DB1319636A34726657240083B9F29A57C77BAE971B0FFE80C9DC6F9D762C65E85A270384E2C13AD2AE9916B0E806EE6C319D138CEDBD40700323DEF13EF3883061F8574099CC8396A1BBAF5384FCA2D29D2BAD1B7A54FA075CA1AB287AD39C831768C92B2A8DEA95473B51F10FE64925923&retpath=aHR0cHM6Ly95YW5kZXgucnUvbWFwcy9vcmcvYmFua192dGIvMTMxOTgwNDQ2ND8%2C_b77b5c621bebb841de75e9ef519b9e68&t=2/1712216207/03d760969bbea22e88a91ec6a201d427&u=3b57a9d9-dee4e842-3bddda8f-cc3944d0&s=4f79cb599466f93e57636c7b09a8c561', 'goods': None, 'rating': '', 'reviews': None, 'phone': [], 'social': []}\""
      ]
     },
     "execution_count": 8,
     "metadata": {},
     "output_type": "execute_result"
    }
   ],
   "source": [
    "df.loc[0, 'outputs']"
   ]
  },
  {
   "cell_type": "code",
   "execution_count": 9,
   "metadata": {},
   "outputs": [],
   "source": [
    "s = {'ID': 1, 'name': '', 'address': '', 'website': '', 'opening_hours': {'mon': 'выходной', 'tue': 'выходной', 'wed': 'выходной', 'thu': 'выходной', 'fri': 'выходной', 'sat': 'выходной', 'sun': 'выходной'}, 'ypage': 'https://yandex.ru/showcaptcha?mt=DC65A41B3C34EBD0B6472245A5EF4BE0FC1D72ADF8EC6A65DBD1F5F60FC253F9960981331A06EF43C879A52FBA7ED5D409D8EA5E4A9A615F74834DBDC73B9D76EB873696791156F6D1D0F722E4EAEFC10ED2D3C518C4A16BDE1906C918D3CD1EF6ABF215EDA82FEF576DB1319636A34726657240083B9F29A57C77BAE971B0FFE80C9DC6F9D762C65E85A270384E2C13AD2AE9916B0E806EE6C319D138CEDBD40700323DEF13EF3883061F8574099CC8396A1BBAF5384FCA2D29D2BAD1B7A54FA075CA1AB287AD39C831768C92B2A8DEA95473B51F10FE64925923&retpath=aHR0cHM6Ly95YW5kZXgucnUvbWFwcy9vcmcvYmFua192dGIvMTMxOTgwNDQ2ND8%2C_b77b5c621bebb841de75e9ef519b9e68&t=2/1712216207/03d760969bbea22e88a91ec6a201d427&u=3b57a9d9-dee4e842-3bddda8f-cc3944d0&s=4f79cb599466f93e57636c7b09a8c561', 'goods': None, 'rating': '', 'reviews': None, 'phone': [], 'social': []}"
   ]
  },
  {
   "cell_type": "code",
   "execution_count": 11,
   "metadata": {},
   "outputs": [],
   "source": [
    "outputs = [{'ID': 1, 'name': '', 'address': '', 'website': '', 'opening_hours': {'mon': 'выходной', 'tue': 'выходной', 'wed': 'выходной', 'thu': 'выходной', 'fri': 'выходной', 'sat': 'выходной', 'sun': 'выходной'}, 'ypage': 'https://yandex.ru/showcaptcha?mt=DC65A41B3C34EBD0B6472245A5EF4BE0FC1D72ADF8EC6A65DBD1F5F60FC253F9960981331A06EF43C879A52FBA7ED5D409D8EA5E4A9A615F74834DBDC73B9D76EB873696791156F6D1D0F722E4EAEFC10ED2D3C518C4A16BDE1906C918D3CD1EF6ABF215EDA82FEF576DB1319636A34726657240083B9F29A57C77BAE971B0FFE80C9DC6F9D762C65E85A270384E2C13AD2AE9916B0E806EE6C319D138CEDBD40700323DEF13EF3883061F8574099CC8396A1BBAF5384FCA2D29D2BAD1B7A54FA075CA1AB287AD39C831768C92B2A8DEA95473B51F10FE64925923&retpath=aHR0cHM6Ly95YW5kZXgucnUvbWFwcy9vcmcvYmFua192dGIvMTMxOTgwNDQ2ND8%2C_b77b5c621bebb841de75e9ef519b9e68&t=2/1712216207/03d760969bbea22e88a91ec6a201d427&u=3b57a9d9-dee4e842-3bddda8f-cc3944d0&s=4f79cb599466f93e57636c7b09a8c561', 'goods': None, 'rating': '', 'reviews': None, 'phone': [], 'social': []}, {'ID': 1, 'name': '', 'address': '', 'website': '', 'opening_hours': {'mon': 'выходной', 'tue': 'выходной', 'wed': 'выходной', 'thu': 'выходной', 'fri': 'выходной', 'sat': 'выходной', 'sun': 'выходной'}, 'ypage': 'https://yandex.ru/showcaptcha?mt=DC65A41B3C34EBD0B6472245A5EF4BE0FC1D72ADF8EC6A65DBD1F5F60FC253F9960981331A06EF43C879A52FBA7ED5D409D8EA5E4A9A615F74834DBDC73B9D76EB873696791156F6D1D0F722E4EAEFC10ED2D3C518C4A16BDE1906C918D3CD1EF6ABF215EDA82FEF576DB1319636A34726657240083B9F29A57C77BAE971B0FFE80C9DC6F9D762C65E85A270384E2C13AD2AE9916B0E806EE6C319D138CEDBD40700323DEF13EF3883061F8574099CC8396A1BBAF5384FCA2D29D2BAD1B7A54FA075CA1AB287AD39C831768C92B2A8DEA95473B51F10FE64925923&retpath=aHR0cHM6Ly95YW5kZXgucnUvbWFwcy9vcmcvYmFua192dGIvMTMxOTgwNDQ2ND8%2C_b77b5c621bebb841de75e9ef519b9e68&t=2/1712216207/03d760969bbea22e88a91ec6a201d427&u=3b57a9d9-dee4e842-3bddda8f-cc3944d0&s=4f79cb599466f93e57636c7b09a8c561', 'goods': None, 'rating': '', 'reviews': None, 'phone': [], 'social': []}]"
   ]
  },
  {
   "cell_type": "code",
   "execution_count": 12,
   "metadata": {},
   "outputs": [
    {
     "data": {
      "text/html": [
       "<div>\n",
       "<style scoped>\n",
       "    .dataframe tbody tr th:only-of-type {\n",
       "        vertical-align: middle;\n",
       "    }\n",
       "\n",
       "    .dataframe tbody tr th {\n",
       "        vertical-align: top;\n",
       "    }\n",
       "\n",
       "    .dataframe thead th {\n",
       "        text-align: right;\n",
       "    }\n",
       "</style>\n",
       "<table border=\"1\" class=\"dataframe\">\n",
       "  <thead>\n",
       "    <tr style=\"text-align: right;\">\n",
       "      <th></th>\n",
       "      <th>ID</th>\n",
       "      <th>name</th>\n",
       "      <th>address</th>\n",
       "      <th>website</th>\n",
       "      <th>ypage</th>\n",
       "      <th>goods</th>\n",
       "      <th>rating</th>\n",
       "      <th>reviews</th>\n",
       "      <th>phone</th>\n",
       "      <th>social</th>\n",
       "      <th>opening_hours.mon</th>\n",
       "      <th>opening_hours.tue</th>\n",
       "      <th>opening_hours.wed</th>\n",
       "      <th>opening_hours.thu</th>\n",
       "      <th>opening_hours.fri</th>\n",
       "      <th>opening_hours.sat</th>\n",
       "      <th>opening_hours.sun</th>\n",
       "    </tr>\n",
       "  </thead>\n",
       "  <tbody>\n",
       "    <tr>\n",
       "      <th>0</th>\n",
       "      <td>1</td>\n",
       "      <td></td>\n",
       "      <td></td>\n",
       "      <td></td>\n",
       "      <td>https://yandex.ru/showcaptcha?mt=DC65A41B3C34E...</td>\n",
       "      <td>None</td>\n",
       "      <td></td>\n",
       "      <td>None</td>\n",
       "      <td>[]</td>\n",
       "      <td>[]</td>\n",
       "      <td>выходной</td>\n",
       "      <td>выходной</td>\n",
       "      <td>выходной</td>\n",
       "      <td>выходной</td>\n",
       "      <td>выходной</td>\n",
       "      <td>выходной</td>\n",
       "      <td>выходной</td>\n",
       "    </tr>\n",
       "    <tr>\n",
       "      <th>1</th>\n",
       "      <td>1</td>\n",
       "      <td></td>\n",
       "      <td></td>\n",
       "      <td></td>\n",
       "      <td>https://yandex.ru/showcaptcha?mt=DC65A41B3C34E...</td>\n",
       "      <td>None</td>\n",
       "      <td></td>\n",
       "      <td>None</td>\n",
       "      <td>[]</td>\n",
       "      <td>[]</td>\n",
       "      <td>выходной</td>\n",
       "      <td>выходной</td>\n",
       "      <td>выходной</td>\n",
       "      <td>выходной</td>\n",
       "      <td>выходной</td>\n",
       "      <td>выходной</td>\n",
       "      <td>выходной</td>\n",
       "    </tr>\n",
       "  </tbody>\n",
       "</table>\n",
       "</div>"
      ],
      "text/plain": [
       "   ID name address website                                              ypage  \\\n",
       "0   1                       https://yandex.ru/showcaptcha?mt=DC65A41B3C34E...   \n",
       "1   1                       https://yandex.ru/showcaptcha?mt=DC65A41B3C34E...   \n",
       "\n",
       "  goods rating reviews phone social opening_hours.mon opening_hours.tue  \\\n",
       "0  None           None    []     []          выходной          выходной   \n",
       "1  None           None    []     []          выходной          выходной   \n",
       "\n",
       "  opening_hours.wed opening_hours.thu opening_hours.fri opening_hours.sat  \\\n",
       "0          выходной          выходной          выходной          выходной   \n",
       "1          выходной          выходной          выходной          выходной   \n",
       "\n",
       "  opening_hours.sun  \n",
       "0          выходной  \n",
       "1          выходной  "
      ]
     },
     "execution_count": 12,
     "metadata": {},
     "output_type": "execute_result"
    }
   ],
   "source": [
    "pd.json_normalize(outputs)"
   ]
  },
  {
   "cell_type": "code",
   "execution_count": null,
   "metadata": {},
   "outputs": [],
   "source": []
  }
 ],
 "metadata": {
  "kernelspec": {
   "display_name": "main",
   "language": "python",
   "name": "python3"
  },
  "language_info": {
   "codemirror_mode": {
    "name": "ipython",
    "version": 3
   },
   "file_extension": ".py",
   "mimetype": "text/x-python",
   "name": "python",
   "nbconvert_exporter": "python",
   "pygments_lexer": "ipython3",
   "version": "3.9.18"
  }
 },
 "nbformat": 4,
 "nbformat_minor": 2
}
