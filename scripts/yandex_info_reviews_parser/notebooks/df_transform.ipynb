{
 "cells": [
  {
   "cell_type": "code",
   "execution_count": 1,
   "metadata": {},
   "outputs": [],
   "source": [
    "import pandas as pd\n",
    "import numpy as np"
   ]
  },
  {
   "cell_type": "code",
   "execution_count": 6,
   "metadata": {},
   "outputs": [
    {
     "data": {
      "text/html": [
       "<div>\n",
       "<style scoped>\n",
       "    .dataframe tbody tr th:only-of-type {\n",
       "        vertical-align: middle;\n",
       "    }\n",
       "\n",
       "    .dataframe tbody tr th {\n",
       "        vertical-align: top;\n",
       "    }\n",
       "\n",
       "    .dataframe thead th {\n",
       "        text-align: right;\n",
       "    }\n",
       "</style>\n",
       "<table border=\"1\" class=\"dataframe\">\n",
       "  <thead>\n",
       "    <tr style=\"text-align: right;\">\n",
       "      <th></th>\n",
       "      <th>ID</th>\n",
       "      <th>name</th>\n",
       "      <th>region</th>\n",
       "      <th>city</th>\n",
       "      <th>address</th>\n",
       "      <th>opening_hours</th>\n",
       "      <th>lat</th>\n",
       "      <th>lon</th>\n",
       "      <th>rating</th>\n",
       "      <th>service</th>\n",
       "      <th>...</th>\n",
       "      <th>location</th>\n",
       "      <th>deposit</th>\n",
       "      <th>insurance</th>\n",
       "      <th>atmosphere</th>\n",
       "      <th>cleanliness</th>\n",
       "      <th>interior</th>\n",
       "      <th>queue</th>\n",
       "      <th>repair</th>\n",
       "      <th>mortgage</th>\n",
       "      <th>load_time</th>\n",
       "    </tr>\n",
       "  </thead>\n",
       "  <tbody>\n",
       "    <tr>\n",
       "      <th>498</th>\n",
       "      <td>alfa_bank/1079158923</td>\n",
       "      <td>Альфа-Банк</td>\n",
       "      <td>Москва</td>\n",
       "      <td>Москва</td>\n",
       "      <td>ул. Перерва, 56/2, Москва</td>\n",
       "      <td>'mon': выходной, 'tue': выходной, 'wed': выход...</td>\n",
       "      <td>55.65785</td>\n",
       "      <td>37.74773</td>\n",
       "      <td>NaN</td>\n",
       "      <td>NaN</td>\n",
       "      <td>...</td>\n",
       "      <td>NaN</td>\n",
       "      <td>NaN</td>\n",
       "      <td>NaN</td>\n",
       "      <td>NaN</td>\n",
       "      <td>NaN</td>\n",
       "      <td>NaN</td>\n",
       "      <td>NaN</td>\n",
       "      <td>NaN</td>\n",
       "      <td>NaN</td>\n",
       "      <td>2024-08-06 11:44:29</td>\n",
       "    </tr>\n",
       "  </tbody>\n",
       "</table>\n",
       "<p>1 rows × 25 columns</p>\n",
       "</div>"
      ],
      "text/plain": [
       "                       ID        name  region    city  \\\n",
       "498  alfa_bank/1079158923  Альфа-Банк  Москва  Москва   \n",
       "\n",
       "                       address  \\\n",
       "498  ул. Перерва, 56/2, Москва   \n",
       "\n",
       "                                         opening_hours       lat       lon  \\\n",
       "498  'mon': выходной, 'tue': выходной, 'wed': выход...  55.65785  37.74773   \n",
       "\n",
       "     rating  service  ...  location  deposit  insurance  atmosphere  \\\n",
       "498     NaN      NaN  ...       NaN      NaN        NaN         NaN   \n",
       "\n",
       "     cleanliness  interior  queue  repair  mortgage            load_time  \n",
       "498          NaN       NaN    NaN     NaN       NaN  2024-08-06 11:44:29  \n",
       "\n",
       "[1 rows x 25 columns]"
      ]
     },
     "execution_count": 6,
     "metadata": {},
     "output_type": "execute_result"
    }
   ],
   "source": [
    "df = pd.read_csv('../info_all/yndx_info_alfa_bank.csv', sep=';')\n",
    "df.sample()"
   ]
  },
  {
   "cell_type": "code",
   "execution_count": 7,
   "metadata": {},
   "outputs": [
    {
     "data": {
      "text/plain": [
       "732"
      ]
     },
     "execution_count": 7,
     "metadata": {},
     "output_type": "execute_result"
    }
   ],
   "source": [
    "len(df)"
   ]
  },
  {
   "cell_type": "code",
   "execution_count": 9,
   "metadata": {},
   "outputs": [
    {
     "data": {
      "text/plain": [
       "444"
      ]
     },
     "execution_count": 9,
     "metadata": {},
     "output_type": "execute_result"
    }
   ],
   "source": [
    "len(np.unique(df['city']))"
   ]
  },
  {
   "cell_type": "code",
   "execution_count": 6,
   "metadata": {},
   "outputs": [
    {
     "data": {
      "text/html": [
       "<div>\n",
       "<style scoped>\n",
       "    .dataframe tbody tr th:only-of-type {\n",
       "        vertical-align: middle;\n",
       "    }\n",
       "\n",
       "    .dataframe tbody tr th {\n",
       "        vertical-align: top;\n",
       "    }\n",
       "\n",
       "    .dataframe thead th {\n",
       "        text-align: right;\n",
       "    }\n",
       "</style>\n",
       "<table border=\"1\" class=\"dataframe\">\n",
       "  <thead>\n",
       "    <tr style=\"text-align: right;\">\n",
       "      <th></th>\n",
       "      <th>ID</th>\n",
       "      <th>name</th>\n",
       "      <th>region</th>\n",
       "      <th>city</th>\n",
       "      <th>address</th>\n",
       "      <th>opening_hours</th>\n",
       "      <th>lat</th>\n",
       "      <th>lon</th>\n",
       "      <th>rating</th>\n",
       "      <th>service</th>\n",
       "      <th>...</th>\n",
       "      <th>location</th>\n",
       "      <th>deposit</th>\n",
       "      <th>insurance</th>\n",
       "      <th>atmosphere</th>\n",
       "      <th>cleanliness</th>\n",
       "      <th>interior</th>\n",
       "      <th>queue</th>\n",
       "      <th>repair</th>\n",
       "      <th>mortgage</th>\n",
       "      <th>load_time</th>\n",
       "    </tr>\n",
       "  </thead>\n",
       "  <tbody>\n",
       "    <tr>\n",
       "      <th>2956</th>\n",
       "      <td>sberbank/165143711287</td>\n",
       "      <td>СберБанк</td>\n",
       "      <td>Красноярский край</td>\n",
       "      <td>Красноярск</td>\n",
       "      <td>ул. Академика Павлова, 48, Красноярск</td>\n",
       "      <td>'mon': 09:00-18:30, 'tue': 09:00-18:30, 'wed':...</td>\n",
       "      <td>55.99505</td>\n",
       "      <td>92.948476</td>\n",
       "      <td>4.6</td>\n",
       "      <td>NaN</td>\n",
       "      <td>...</td>\n",
       "      <td>NaN</td>\n",
       "      <td>NaN</td>\n",
       "      <td>NaN</td>\n",
       "      <td>NaN</td>\n",
       "      <td>NaN</td>\n",
       "      <td>NaN</td>\n",
       "      <td>NaN</td>\n",
       "      <td>NaN</td>\n",
       "      <td>NaN</td>\n",
       "      <td>2024-08-05 05:43:10</td>\n",
       "    </tr>\n",
       "  </tbody>\n",
       "</table>\n",
       "<p>1 rows × 25 columns</p>\n",
       "</div>"
      ],
      "text/plain": [
       "                         ID      name             region        city  \\\n",
       "2956  sberbank/165143711287  СберБанк  Красноярский край  Красноярск   \n",
       "\n",
       "                                    address  \\\n",
       "2956  ул. Академика Павлова, 48, Красноярск   \n",
       "\n",
       "                                          opening_hours       lat        lon  \\\n",
       "2956  'mon': 09:00-18:30, 'tue': 09:00-18:30, 'wed':...  55.99505  92.948476   \n",
       "\n",
       "      rating  service  ...  location  deposit  insurance  atmosphere  \\\n",
       "2956     4.6      NaN  ...       NaN      NaN        NaN         NaN   \n",
       "\n",
       "      cleanliness  interior  queue  repair  mortgage            load_time  \n",
       "2956          NaN       NaN    NaN     NaN       NaN  2024-08-05 05:43:10  \n",
       "\n",
       "[1 rows x 25 columns]"
      ]
     },
     "execution_count": 6,
     "metadata": {},
     "output_type": "execute_result"
    }
   ],
   "source": [
    "with open('../links/alfa_bank/', 'rb') as f:\n",
    "    all_hrefs = pickle.load(f)"
   ]
  },
  {
   "cell_type": "code",
   "execution_count": 22,
   "metadata": {},
   "outputs": [
    {
     "ename": "EOFError",
     "evalue": "Ran out of input",
     "output_type": "error",
     "traceback": [
      "\u001b[0;31m---------------------------------------------------------------------------\u001b[0m",
      "\u001b[0;31mEOFError\u001b[0m                                  Traceback (most recent call last)",
      "Cell \u001b[0;32mIn[22], line 3\u001b[0m\n\u001b[1;32m      1\u001b[0m \u001b[38;5;28;01mimport\u001b[39;00m \u001b[38;5;21;01mpickle\u001b[39;00m\n\u001b[1;32m      2\u001b[0m \u001b[38;5;28;01mwith\u001b[39;00m \u001b[38;5;28mopen\u001b[39m(\u001b[38;5;124m'\u001b[39m\u001b[38;5;124m../links/alfa_bank/link_Звенигово.pkl\u001b[39m\u001b[38;5;124m'\u001b[39m, \u001b[38;5;124m'\u001b[39m\u001b[38;5;124mrb\u001b[39m\u001b[38;5;124m'\u001b[39m) \u001b[38;5;28;01mas\u001b[39;00m f:\n\u001b[0;32m----> 3\u001b[0m     all_hrefs \u001b[38;5;241m=\u001b[39m \u001b[43mpickle\u001b[49m\u001b[38;5;241;43m.\u001b[39;49m\u001b[43mload\u001b[49m\u001b[43m(\u001b[49m\u001b[43mf\u001b[49m\u001b[43m)\u001b[49m\n",
      "\u001b[0;31mEOFError\u001b[0m: Ran out of input"
     ]
    }
   ],
   "source": [
    "import pickle\n",
    "with open('../links/alfa_bank/link_Звенигово.pkl', 'rb') as f:\n",
    "    all_hrefs = pickle.load(f)"
   ]
  },
  {
   "cell_type": "code",
   "execution_count": 18,
   "metadata": {},
   "outputs": [
    {
     "name": "stdout",
     "output_type": "stream",
     "text": [
      "<_io.BufferedReader name='../links/alfa_bank/link_Звенигово.pkl'>\n",
      "<_io.BufferedReader name='../links/alfa_bank/.DS_Store'>\n"
     ]
    }
   ],
   "source": [
    "from os import listdir\n",
    "from os.path import isfile, join\n",
    "\n",
    "links_path = f'../links/alfa_bank/'\n",
    "only_links_files = [f for f in listdir(links_path) if isfile(join(links_path, f))]\n",
    "\n",
    "for f in only_links_files:\n",
    "\n",
    "    try:\n",
    "    \n",
    "        p = '../links/alfa_bank/' + f\n",
    "        \n",
    "        with open(p, 'rb') as f:\n",
    "            all_hrefs = pickle.load(f)\n",
    "    \n",
    "        new_refs = [refs.replace('{bank_name}', 'alfa_bank')  for refs in all_hrefs]\n",
    "        \n",
    "        with open(p, 'wb') as handle:\n",
    "            pickle.dump(new_refs, handle)\n",
    "    except:\n",
    "        print(f)\n",
    "\n",
    "        "
   ]
  },
  {
   "cell_type": "code",
   "execution_count": 21,
   "metadata": {},
   "outputs": [
    {
     "data": {
      "text/plain": [
       "['https://yandex.ru/maps/org/alfa_bank/97853639834',\n",
       " 'https://yandex.ru/maps/org/alfa_bank/203411068455',\n",
       " 'https://yandex.ru/maps/org/alfa_bank/56586818540',\n",
       " 'https://yandex.ru/maps/org/alfa_bank/1061556597',\n",
       " 'https://yandex.ru/maps/org/alfa_bank/61225441096',\n",
       " 'https://yandex.ru/maps/org/alfa_bank/150348626165',\n",
       " 'https://yandex.ru/maps/org/alfa_bank/185369707954',\n",
       " 'https://yandex.ru/maps/org/alfa_bank/73419427780',\n",
       " 'https://yandex.ru/maps/org/alfa_bank/107518028325',\n",
       " 'https://yandex.ru/maps/org/alfa_bank/1318665127',\n",
       " 'https://yandex.ru/maps/org/alfa_bank/1152425281',\n",
       " 'https://yandex.ru/maps/org/alfa_bank/1066499300',\n",
       " 'https://yandex.ru/maps/org/alfa_bank/1688718057',\n",
       " 'https://yandex.ru/maps/org/alfa_bank/1008428784',\n",
       " 'https://yandex.ru/maps/org/alfa_bank/1180569314',\n",
       " 'https://yandex.ru/maps/org/alfa_bank/74527019611',\n",
       " 'https://yandex.ru/maps/org/alfa_bank/135440115187',\n",
       " 'https://yandex.ru/maps/org/alfa_bank/1184112859',\n",
       " 'https://yandex.ru/maps/org/alfa_bank/91699299995',\n",
       " 'https://yandex.ru/maps/org/alfa_bank/217601592560',\n",
       " 'https://yandex.ru/maps/org/alfa_bank/31839489013',\n",
       " 'https://yandex.ru/maps/org/alfa_bank/1061346448',\n",
       " 'https://yandex.ru/maps/org/alfa_bank/1049195804',\n",
       " 'https://yandex.ru/maps/org/alfa_bank/1578298930',\n",
       " 'https://yandex.ru/maps/org/alfa_bank/111745564445']"
      ]
     },
     "execution_count": 21,
     "metadata": {},
     "output_type": "execute_result"
    }
   ],
   "source": [
    "all_hrefs"
   ]
  },
  {
   "cell_type": "code",
   "execution_count": null,
   "metadata": {},
   "outputs": [],
   "source": []
  }
 ],
 "metadata": {
  "kernelspec": {
   "display_name": "Python 3 (ipykernel)",
   "language": "python",
   "name": "python3"
  },
  "language_info": {
   "codemirror_mode": {
    "name": "ipython",
    "version": 3
   },
   "file_extension": ".py",
   "mimetype": "text/x-python",
   "name": "python",
   "nbconvert_exporter": "python",
   "pygments_lexer": "ipython3",
   "version": "3.9.18"
  }
 },
 "nbformat": 4,
 "nbformat_minor": 4
}
