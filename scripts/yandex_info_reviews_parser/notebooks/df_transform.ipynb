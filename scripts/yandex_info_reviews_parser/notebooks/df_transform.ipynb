{
 "cells": [
  {
   "cell_type": "code",
   "execution_count": 1,
   "metadata": {},
   "outputs": [],
   "source": [
    "import pandas as pd\n",
    "import numpy as np"
   ]
  },
  {
   "cell_type": "code",
   "execution_count": 4,
   "metadata": {},
   "outputs": [
    {
     "data": {
      "text/html": [
       "<div>\n",
       "<style scoped>\n",
       "    .dataframe tbody tr th:only-of-type {\n",
       "        vertical-align: middle;\n",
       "    }\n",
       "\n",
       "    .dataframe tbody tr th {\n",
       "        vertical-align: top;\n",
       "    }\n",
       "\n",
       "    .dataframe thead th {\n",
       "        text-align: right;\n",
       "    }\n",
       "</style>\n",
       "<table border=\"1\" class=\"dataframe\">\n",
       "  <thead>\n",
       "    <tr style=\"text-align: right;\">\n",
       "      <th></th>\n",
       "      <th>ID</th>\n",
       "      <th>name</th>\n",
       "      <th>address</th>\n",
       "      <th>website</th>\n",
       "      <th>opening_hours</th>\n",
       "      <th>lat</th>\n",
       "      <th>lon</th>\n",
       "      <th>rating</th>\n",
       "      <th>phone</th>\n",
       "      <th>social</th>\n",
       "      <th>...</th>\n",
       "      <th>Обслуживание</th>\n",
       "      <th>Отношение к клиентам</th>\n",
       "      <th>Страхование</th>\n",
       "      <th>Вклад</th>\n",
       "      <th>Атмосфера</th>\n",
       "      <th>Эпиляция</th>\n",
       "      <th>Чистота</th>\n",
       "      <th>Интерьер</th>\n",
       "      <th>Очереди</th>\n",
       "      <th>region</th>\n",
       "    </tr>\n",
       "  </thead>\n",
       "  <tbody>\n",
       "    <tr>\n",
       "      <th>242</th>\n",
       "      <td>84075129479</td>\n",
       "      <td>Альфа-Банк</td>\n",
       "      <td>ул. Революции 1905 года, 12/26, Грязи</td>\n",
       "      <td>alfabank.ru</td>\n",
       "      <td>'mon': 10:00-19:00, 'tue': 10:00-19:00, 'wed':...</td>\n",
       "      <td>52.492666</td>\n",
       "      <td>39.947623</td>\n",
       "      <td>4,7</td>\n",
       "      <td>['8 (800) 200-00-00Показать телефон']</td>\n",
       "      <td>['https://ok.ru/alfabank', 'https://t.me/alfab...</td>\n",
       "      <td>...</td>\n",
       "      <td>NaN</td>\n",
       "      <td>NaN</td>\n",
       "      <td>NaN</td>\n",
       "      <td>NaN</td>\n",
       "      <td>NaN</td>\n",
       "      <td>NaN</td>\n",
       "      <td>NaN</td>\n",
       "      <td>NaN</td>\n",
       "      <td>NaN</td>\n",
       "      <td>Липецкая область</td>\n",
       "    </tr>\n",
       "  </tbody>\n",
       "</table>\n",
       "<p>1 rows × 30 columns</p>\n",
       "</div>"
      ],
      "text/plain": [
       "              ID        name                                address  \\\n",
       "242  84075129479  Альфа-Банк  ул. Революции 1905 года, 12/26, Грязи   \n",
       "\n",
       "         website                                      opening_hours  \\\n",
       "242  alfabank.ru  'mon': 10:00-19:00, 'tue': 10:00-19:00, 'wed':...   \n",
       "\n",
       "           lat        lon rating                                  phone  \\\n",
       "242  52.492666  39.947623    4,7  ['8 (800) 200-00-00Показать телефон']   \n",
       "\n",
       "                                                social  ...  Обслуживание  \\\n",
       "242  ['https://ok.ru/alfabank', 'https://t.me/alfab...  ...           NaN   \n",
       "\n",
       "     Отношение к клиентам  Страхование  Вклад  Атмосфера Эпиляция Чистота  \\\n",
       "242                   NaN          NaN    NaN        NaN      NaN     NaN   \n",
       "\n",
       "     Интерьер  Очереди            region  \n",
       "242       NaN      NaN  Липецкая область  \n",
       "\n",
       "[1 rows x 30 columns]"
      ]
     },
     "execution_count": 4,
     "metadata": {},
     "output_type": "execute_result"
    }
   ],
   "source": [
    "df = pd.read_csv('../info_all/alfa_bank_info_all.csv', sep=',')\n",
    "df.sample()"
   ]
  },
  {
   "cell_type": "code",
   "execution_count": 5,
   "metadata": {},
   "outputs": [
    {
     "data": {
      "text/plain": [
       "True"
      ]
     },
     "execution_count": 5,
     "metadata": {},
     "output_type": "execute_result"
    }
   ],
   "source": [
    "'region' in df.columns"
   ]
  },
  {
   "cell_type": "code",
   "execution_count": 22,
   "metadata": {},
   "outputs": [],
   "source": [
    "df['city'] = df['city'].str.replace('-На-', '-на-')\n",
    "df['city'] = df['city'].str.replace('П.', 'п.')"
   ]
  },
  {
   "cell_type": "code",
   "execution_count": 23,
   "metadata": {},
   "outputs": [
    {
     "data": {
      "text/html": [
       "<div>\n",
       "<style scoped>\n",
       "    .dataframe tbody tr th:only-of-type {\n",
       "        vertical-align: middle;\n",
       "    }\n",
       "\n",
       "    .dataframe tbody tr th {\n",
       "        vertical-align: top;\n",
       "    }\n",
       "\n",
       "    .dataframe thead th {\n",
       "        text-align: right;\n",
       "    }\n",
       "</style>\n",
       "<table border=\"1\" class=\"dataframe\">\n",
       "  <thead>\n",
       "    <tr style=\"text-align: right;\">\n",
       "      <th></th>\n",
       "      <th>city</th>\n",
       "      <th>region</th>\n",
       "    </tr>\n",
       "  </thead>\n",
       "  <tbody>\n",
       "    <tr>\n",
       "      <th>596</th>\n",
       "      <td>Южноуральск</td>\n",
       "      <td>Челябинская область</td>\n",
       "    </tr>\n",
       "    <tr>\n",
       "      <th>275</th>\n",
       "      <td>Курган</td>\n",
       "      <td>Курганская область</td>\n",
       "    </tr>\n",
       "  </tbody>\n",
       "</table>\n",
       "</div>"
      ],
      "text/plain": [
       "            city               region\n",
       "596  Южноуральск  Челябинская область\n",
       "275       Курган   Курганская область"
      ]
     },
     "execution_count": 23,
     "metadata": {},
     "output_type": "execute_result"
    }
   ],
   "source": [
    "regions = pd.read_excel('../city_region.xlsx')\n",
    "regions.sample(2)"
   ]
  },
  {
   "cell_type": "code",
   "execution_count": 24,
   "metadata": {},
   "outputs": [
    {
     "data": {
      "text/html": [
       "<div>\n",
       "<style scoped>\n",
       "    .dataframe tbody tr th:only-of-type {\n",
       "        vertical-align: middle;\n",
       "    }\n",
       "\n",
       "    .dataframe tbody tr th {\n",
       "        vertical-align: top;\n",
       "    }\n",
       "\n",
       "    .dataframe thead th {\n",
       "        text-align: right;\n",
       "    }\n",
       "</style>\n",
       "<table border=\"1\" class=\"dataframe\">\n",
       "  <thead>\n",
       "    <tr style=\"text-align: right;\">\n",
       "      <th></th>\n",
       "      <th>city</th>\n",
       "      <th>region</th>\n",
       "    </tr>\n",
       "  </thead>\n",
       "  <tbody>\n",
       "    <tr>\n",
       "      <th>4</th>\n",
       "      <td>Азов</td>\n",
       "      <td>Ростовская область</td>\n",
       "    </tr>\n",
       "    <tr>\n",
       "      <th>5</th>\n",
       "      <td>Аксай</td>\n",
       "      <td>Ростовская область</td>\n",
       "    </tr>\n",
       "    <tr>\n",
       "      <th>44</th>\n",
       "      <td>Батайск</td>\n",
       "      <td>Ростовская область</td>\n",
       "    </tr>\n",
       "    <tr>\n",
       "      <th>45</th>\n",
       "      <td>Белая Калитва</td>\n",
       "      <td>Ростовская область</td>\n",
       "    </tr>\n",
       "    <tr>\n",
       "      <th>95</th>\n",
       "      <td>Волгодонск</td>\n",
       "      <td>Ростовская область</td>\n",
       "    </tr>\n",
       "    <tr>\n",
       "      <th>127</th>\n",
       "      <td>Гуково</td>\n",
       "      <td>Ростовская область</td>\n",
       "    </tr>\n",
       "    <tr>\n",
       "      <th>144</th>\n",
       "      <td>Донецк</td>\n",
       "      <td>Ростовская область</td>\n",
       "    </tr>\n",
       "    <tr>\n",
       "      <th>204</th>\n",
       "      <td>Каменск-Шахтинский</td>\n",
       "      <td>Ростовская область</td>\n",
       "    </tr>\n",
       "    <tr>\n",
       "      <th>264</th>\n",
       "      <td>Красный Сулин</td>\n",
       "      <td>Ростовская область</td>\n",
       "    </tr>\n",
       "    <tr>\n",
       "      <th>319</th>\n",
       "      <td>Миллерово</td>\n",
       "      <td>Ростовская область</td>\n",
       "    </tr>\n",
       "    <tr>\n",
       "      <th>369</th>\n",
       "      <td>Новочеркасск</td>\n",
       "      <td>Ростовская область</td>\n",
       "    </tr>\n",
       "    <tr>\n",
       "      <th>370</th>\n",
       "      <td>Новошахтинск</td>\n",
       "      <td>Ростовская область</td>\n",
       "    </tr>\n",
       "    <tr>\n",
       "      <th>430</th>\n",
       "      <td>Ростов-на-Дону</td>\n",
       "      <td>Ростовская область</td>\n",
       "    </tr>\n",
       "    <tr>\n",
       "      <th>439</th>\n",
       "      <td>Сальск</td>\n",
       "      <td>Ростовская область</td>\n",
       "    </tr>\n",
       "    <tr>\n",
       "      <th>497</th>\n",
       "      <td>Таганрог</td>\n",
       "      <td>Ростовская область</td>\n",
       "    </tr>\n",
       "    <tr>\n",
       "      <th>581</th>\n",
       "      <td>Шахты</td>\n",
       "      <td>Ростовская область</td>\n",
       "    </tr>\n",
       "    <tr>\n",
       "      <th>624</th>\n",
       "      <td>пос. Персиановский</td>\n",
       "      <td>Ростовская область</td>\n",
       "    </tr>\n",
       "  </tbody>\n",
       "</table>\n",
       "</div>"
      ],
      "text/plain": [
       "                   city              region\n",
       "4                  Азов  Ростовская область\n",
       "5                 Аксай  Ростовская область\n",
       "44              Батайск  Ростовская область\n",
       "45        Белая Калитва  Ростовская область\n",
       "95           Волгодонск  Ростовская область\n",
       "127              Гуково  Ростовская область\n",
       "144              Донецк  Ростовская область\n",
       "204  Каменск-Шахтинский  Ростовская область\n",
       "264       Красный Сулин  Ростовская область\n",
       "319           Миллерово  Ростовская область\n",
       "369        Новочеркасск  Ростовская область\n",
       "370        Новошахтинск  Ростовская область\n",
       "430      Ростов-на-Дону  Ростовская область\n",
       "439              Сальск  Ростовская область\n",
       "497            Таганрог  Ростовская область\n",
       "581               Шахты  Ростовская область\n",
       "624  пос. Персиановский  Ростовская область"
      ]
     },
     "execution_count": 24,
     "metadata": {},
     "output_type": "execute_result"
    }
   ],
   "source": [
    "regions[regions['region'].str.contains('Ростов')]"
   ]
  },
  {
   "cell_type": "code",
   "execution_count": 25,
   "metadata": {},
   "outputs": [
    {
     "data": {
      "text/html": [
       "<div>\n",
       "<style scoped>\n",
       "    .dataframe tbody tr th:only-of-type {\n",
       "        vertical-align: middle;\n",
       "    }\n",
       "\n",
       "    .dataframe tbody tr th {\n",
       "        vertical-align: top;\n",
       "    }\n",
       "\n",
       "    .dataframe thead th {\n",
       "        text-align: right;\n",
       "    }\n",
       "</style>\n",
       "<table border=\"1\" class=\"dataframe\">\n",
       "  <thead>\n",
       "    <tr style=\"text-align: right;\">\n",
       "      <th></th>\n",
       "      <th>city</th>\n",
       "      <th>region</th>\n",
       "    </tr>\n",
       "  </thead>\n",
       "  <tbody>\n",
       "    <tr>\n",
       "      <th>408</th>\n",
       "      <td>Краснодар</td>\n",
       "      <td>Краснодарский край</td>\n",
       "    </tr>\n",
       "    <tr>\n",
       "      <th>435</th>\n",
       "      <td>Мурманск</td>\n",
       "      <td>Мурманская область</td>\n",
       "    </tr>\n",
       "    <tr>\n",
       "      <th>11</th>\n",
       "      <td>Иркутск</td>\n",
       "      <td>Иркутская область</td>\n",
       "    </tr>\n",
       "    <tr>\n",
       "      <th>56</th>\n",
       "      <td>Канск</td>\n",
       "      <td>Красноярский край</td>\n",
       "    </tr>\n",
       "    <tr>\n",
       "      <th>239</th>\n",
       "      <td>Барнаул</td>\n",
       "      <td>Алтайский край</td>\n",
       "    </tr>\n",
       "    <tr>\n",
       "      <th>467</th>\n",
       "      <td>Чехов</td>\n",
       "      <td>Московская область</td>\n",
       "    </tr>\n",
       "    <tr>\n",
       "      <th>218</th>\n",
       "      <td>Кемеровская Берёзовский</td>\n",
       "      <td>Кемеровская область</td>\n",
       "    </tr>\n",
       "  </tbody>\n",
       "</table>\n",
       "</div>"
      ],
      "text/plain": [
       "                        city               region\n",
       "408                Краснодар   Краснодарский край\n",
       "435                 Мурманск   Мурманская область\n",
       "11                   Иркутск    Иркутская область\n",
       "56                     Канск    Красноярский край\n",
       "239                  Барнаул       Алтайский край\n",
       "467                    Чехов   Московская область\n",
       "218  Кемеровская Берёзовский  Кемеровская область"
      ]
     },
     "execution_count": 25,
     "metadata": {},
     "output_type": "execute_result"
    }
   ],
   "source": [
    "df = pd.merge(df, regions, on='city', how='left')\n",
    "df[['city', 'region']].sample(7)"
   ]
  },
  {
   "cell_type": "code",
   "execution_count": 26,
   "metadata": {},
   "outputs": [
    {
     "data": {
      "text/html": [
       "<div>\n",
       "<style scoped>\n",
       "    .dataframe tbody tr th:only-of-type {\n",
       "        vertical-align: middle;\n",
       "    }\n",
       "\n",
       "    .dataframe tbody tr th {\n",
       "        vertical-align: top;\n",
       "    }\n",
       "\n",
       "    .dataframe thead th {\n",
       "        text-align: right;\n",
       "    }\n",
       "</style>\n",
       "<table border=\"1\" class=\"dataframe\">\n",
       "  <thead>\n",
       "    <tr style=\"text-align: right;\">\n",
       "      <th></th>\n",
       "      <th>address</th>\n",
       "      <th>city</th>\n",
       "      <th>region</th>\n",
       "    </tr>\n",
       "  </thead>\n",
       "  <tbody>\n",
       "    <tr>\n",
       "      <th>136</th>\n",
       "      <td>просп. Губкина, 1, Старый Оскол</td>\n",
       "      <td>Губкин</td>\n",
       "      <td>NaN</td>\n",
       "    </tr>\n",
       "    <tr>\n",
       "      <th>137</th>\n",
       "      <td>ул. Кирова, 53, Губкин</td>\n",
       "      <td>Губкин</td>\n",
       "      <td>NaN</td>\n",
       "    </tr>\n",
       "    <tr>\n",
       "      <th>138</th>\n",
       "      <td>ул. Космонавтов, 14, Губкин</td>\n",
       "      <td>Губкин</td>\n",
       "      <td>NaN</td>\n",
       "    </tr>\n",
       "    <tr>\n",
       "      <th>181</th>\n",
       "      <td>Театральная ул., 6, Берёзовский</td>\n",
       "      <td>Берёзовский</td>\n",
       "      <td>NaN</td>\n",
       "    </tr>\n",
       "    <tr>\n",
       "      <th>182</th>\n",
       "      <td>Восточная ул., 11А, Берёзовский</td>\n",
       "      <td>Берёзовский</td>\n",
       "      <td>NaN</td>\n",
       "    </tr>\n",
       "    <tr>\n",
       "      <th>273</th>\n",
       "      <td>Колхозная ул., 1, Городец</td>\n",
       "      <td>Заволжье</td>\n",
       "      <td>NaN</td>\n",
       "    </tr>\n",
       "    <tr>\n",
       "      <th>304</th>\n",
       "      <td>просп. 22-го Партсъезда, 94/1, Минеральные Воды</td>\n",
       "      <td>Минеральные Воды</td>\n",
       "      <td>NaN</td>\n",
       "    </tr>\n",
       "    <tr>\n",
       "      <th>412</th>\n",
       "      <td>бул. Менделеева, 11, корп. 1, Мурино</td>\n",
       "      <td>П. Мурино</td>\n",
       "      <td>NaN</td>\n",
       "    </tr>\n",
       "    <tr>\n",
       "      <th>610</th>\n",
       "      <td>площадь Ленина, 1, корп. 3, Барановичи</td>\n",
       "      <td>Барановичи</td>\n",
       "      <td>NaN</td>\n",
       "    </tr>\n",
       "    <tr>\n",
       "      <th>667</th>\n",
       "      <td>просп. Ленина, 5, Октябрьский</td>\n",
       "      <td>Октябрьский</td>\n",
       "      <td>NaN</td>\n",
       "    </tr>\n",
       "  </tbody>\n",
       "</table>\n",
       "</div>"
      ],
      "text/plain": [
       "                                             address              city region\n",
       "136                  просп. Губкина, 1, Старый Оскол           Губкин     NaN\n",
       "137                           ул. Кирова, 53, Губкин           Губкин     NaN\n",
       "138                      ул. Космонавтов, 14, Губкин           Губкин     NaN\n",
       "181                  Театральная ул., 6, Берёзовский       Берёзовский    NaN\n",
       "182                  Восточная ул., 11А, Берёзовский       Берёзовский    NaN\n",
       "273                        Колхозная ул., 1, Городец         Заволжье     NaN\n",
       "304  просп. 22-го Партсъезда, 94/1, Минеральные Воды  Минеральные Воды    NaN\n",
       "412             бул. Менделеева, 11, корп. 1, Мурино         П. Мурино    NaN\n",
       "610           площадь Ленина, 1, корп. 3, Барановичи        Барановичи    NaN\n",
       "667                    просп. Ленина, 5, Октябрьский       Октябрьский    NaN"
      ]
     },
     "execution_count": 26,
     "metadata": {},
     "output_type": "execute_result"
    }
   ],
   "source": [
    "df[df['region'].isnull()][['address', 'city', 'region']]"
   ]
  },
  {
   "cell_type": "code",
   "execution_count": 15,
   "metadata": {},
   "outputs": [],
   "source": [
    "# for row in df.itertuples():\n",
    "#     s = row.opening_hours.strip()\n",
    "#     if \",\" in s[-1]:\n",
    "#         s = s[:-1]\n",
    "\n",
    "#         df.loc[row.Index, 'opening_hours'] = s\n"
   ]
  },
  {
   "cell_type": "code",
   "execution_count": 17,
   "metadata": {},
   "outputs": [],
   "source": []
  },
  {
   "cell_type": "code",
   "execution_count": null,
   "metadata": {},
   "outputs": [],
   "source": []
  },
  {
   "cell_type": "code",
   "execution_count": 213,
   "metadata": {},
   "outputs": [],
   "source": [
    "df[ 'opening_hours'] = \\\n",
    "df[ 'opening_hours'].replace(\"'mon': выходной, 'tue': выходной, 'wed': выходной, 'thu': выходной, 'fri': выходной, 'sat': выходной, 'sun': выходной, \", \"\")"
   ]
  },
  {
   "cell_type": "code",
   "execution_count": 214,
   "metadata": {},
   "outputs": [],
   "source": [
    "df['address'] = df['address'].str.replace('Бердянськ', \\\n",
    "                                          'Бердянск').str.replace('Макіївка', \\\n",
    "                                        'Макеевка').str.replace('Горлівка', \\\n",
    "                                        'Горловка').str.replace('Мелітополь', 'Мелитополь')"
   ]
  },
  {
   "cell_type": "code",
   "execution_count": 215,
   "metadata": {},
   "outputs": [
    {
     "data": {
      "text/html": [
       "<div>\n",
       "<style scoped>\n",
       "    .dataframe tbody tr th:only-of-type {\n",
       "        vertical-align: middle;\n",
       "    }\n",
       "\n",
       "    .dataframe tbody tr th {\n",
       "        vertical-align: top;\n",
       "    }\n",
       "\n",
       "    .dataframe thead th {\n",
       "        text-align: right;\n",
       "    }\n",
       "</style>\n",
       "<table border=\"1\" class=\"dataframe\">\n",
       "  <thead>\n",
       "    <tr style=\"text-align: right;\">\n",
       "      <th></th>\n",
       "      <th>ID</th>\n",
       "      <th>name</th>\n",
       "      <th>address</th>\n",
       "      <th>website</th>\n",
       "      <th>opening_hours</th>\n",
       "      <th>lat</th>\n",
       "      <th>lon</th>\n",
       "      <th>rating</th>\n",
       "      <th>phone</th>\n",
       "      <th>social</th>\n",
       "      <th>load_time</th>\n",
       "      <th>city</th>\n",
       "      <th>Время ожидания</th>\n",
       "      <th>Персонал</th>\n",
       "    </tr>\n",
       "  </thead>\n",
       "  <tbody>\n",
       "    <tr>\n",
       "      <th>145</th>\n",
       "      <td>tsentralny_respublikanskiy_bank/93795765810/</td>\n",
       "      <td>Центральный республиканский банк</td>\n",
       "      <td>вулиця Черняховського, 58, Горловка</td>\n",
       "      <td>NaN</td>\n",
       "      <td></td>\n",
       "      <td>48.360209</td>\n",
       "      <td>38.001495</td>\n",
       "      <td>NaN</td>\n",
       "      <td>[]</td>\n",
       "      <td>[]</td>\n",
       "      <td>2024-07-17 16:17:30</td>\n",
       "      <td>Горловка</td>\n",
       "      <td>NaN</td>\n",
       "      <td>NaN</td>\n",
       "    </tr>\n",
       "  </tbody>\n",
       "</table>\n",
       "</div>"
      ],
      "text/plain": [
       "                                               ID  \\\n",
       "145  tsentralny_respublikanskiy_bank/93795765810/   \n",
       "\n",
       "                                 name                              address  \\\n",
       "145  Центральный республиканский банк  вулиця Черняховського, 58, Горловка   \n",
       "\n",
       "    website opening_hours        lat        lon rating phone social  \\\n",
       "145     NaN                48.360209  38.001495    NaN    []     []   \n",
       "\n",
       "               load_time      city  Время ожидания  Персонал  \n",
       "145  2024-07-17 16:17:30  Горловка             NaN       NaN  "
      ]
     },
     "execution_count": 215,
     "metadata": {},
     "output_type": "execute_result"
    }
   ],
   "source": [
    "df[df['ID']  == 'tsentralny_respublikanskiy_bank/93795765810/']"
   ]
  },
  {
   "cell_type": "code",
   "execution_count": 216,
   "metadata": {},
   "outputs": [],
   "source": [
    "df.drop(['Время ожидания', 'Время ожидания', 'Персонал'], axis=1, inplace=True) "
   ]
  },
  {
   "cell_type": "code",
   "execution_count": 217,
   "metadata": {},
   "outputs": [
    {
     "data": {
      "text/plain": [
       "' Ясиноватая'"
      ]
     },
     "execution_count": 217,
     "metadata": {},
     "output_type": "execute_result"
    }
   ],
   "source": [
    "s = 'Заводская ул., 94, Ясиноватая'\n",
    "s.split(',')[-1]"
   ]
  },
  {
   "cell_type": "code",
   "execution_count": 218,
   "metadata": {},
   "outputs": [],
   "source": [
    "cities_list = [\n",
    "        'Донецк',\n",
    "        'Бердянск',\n",
    "        'Мариуполь',\n",
    "        'Макеевка',\n",
    "        'Горловка',\n",
    "        'Енакиево',\n",
    "        'Шахтёрск',\n",
    "        'Торез', \n",
    "        'Луганск',\n",
    "        'Алчевск',\n",
    "        'Мелитополь',\n",
    "        'Берянск',\n",
    "        'Каланчак', \n",
    "        'Скадовск',\n",
    "        'Геническ']"
   ]
  },
  {
   "cell_type": "code",
   "execution_count": 219,
   "metadata": {},
   "outputs": [],
   "source": [
    "def extract_city(s):\n",
    "    try: \n",
    "        city = s.split(',')[-1].strip()\n",
    "    except:\n",
    "        city = None\n",
    "\n",
    "    for c in ['Донецк', 'Макеевка', 'Енакиево', 'Мариуполь', 'Бердянск',\n",
    "        'Макеевка',\n",
    "        'Горловка',\n",
    "        'Енакиево',\n",
    "        'Шахтёрск',\n",
    "        'Торез',  \n",
    "        'Луганск',\n",
    "        'Алчевск',\n",
    "        'Мелитополь',\n",
    "        'Берянск',\n",
    "        'Каланчак', \n",
    "        'Скадовск',\n",
    "        'Геническ']:\n",
    "        if type(s) == str  and c in s:\n",
    "            city = c\n",
    "    # if type(s) ==str and 'Макеевка' in s:\n",
    "    #     city = 'Макеевка'\n",
    "    # if type(s) ==str and 'Алчевск' in s:\n",
    "        # city = 'Алчевск'\n",
    "    return city"
   ]
  },
  {
   "cell_type": "code",
   "execution_count": 220,
   "metadata": {},
   "outputs": [],
   "source": [
    "df['city'] = df['address'].apply(extract_city)"
   ]
  },
  {
   "cell_type": "code",
   "execution_count": 221,
   "metadata": {},
   "outputs": [
    {
     "data": {
      "text/html": [
       "<div>\n",
       "<style scoped>\n",
       "    .dataframe tbody tr th:only-of-type {\n",
       "        vertical-align: middle;\n",
       "    }\n",
       "\n",
       "    .dataframe tbody tr th {\n",
       "        vertical-align: top;\n",
       "    }\n",
       "\n",
       "    .dataframe thead th {\n",
       "        text-align: right;\n",
       "    }\n",
       "</style>\n",
       "<table border=\"1\" class=\"dataframe\">\n",
       "  <thead>\n",
       "    <tr style=\"text-align: right;\">\n",
       "      <th></th>\n",
       "      <th>address</th>\n",
       "      <th>city</th>\n",
       "    </tr>\n",
       "  </thead>\n",
       "  <tbody>\n",
       "    <tr>\n",
       "      <th>53</th>\n",
       "      <td>Полоцкая ул., 13, Донецк</td>\n",
       "      <td>Донецк</td>\n",
       "    </tr>\n",
       "    <tr>\n",
       "      <th>315</th>\n",
       "      <td>Азовский просп., 2, Бердянск</td>\n",
       "      <td>Бердянск</td>\n",
       "    </tr>\n",
       "    <tr>\n",
       "      <th>418</th>\n",
       "      <td>просп. Мира, 130, Мариуполь</td>\n",
       "      <td>Мариуполь</td>\n",
       "    </tr>\n",
       "    <tr>\n",
       "      <th>127</th>\n",
       "      <td>Донецк, Цветочный микрорайон</td>\n",
       "      <td>Донецк</td>\n",
       "    </tr>\n",
       "    <tr>\n",
       "      <th>11</th>\n",
       "      <td>бул. Шахтостроителей, 7Б, Донецк</td>\n",
       "      <td>Донецк</td>\n",
       "    </tr>\n",
       "    <tr>\n",
       "      <th>185</th>\n",
       "      <td>ул. Карла Либкнехта, 62, Луганск</td>\n",
       "      <td>Луганск</td>\n",
       "    </tr>\n",
       "    <tr>\n",
       "      <th>244</th>\n",
       "      <td>Вокзальная ул., 70, Харцызск</td>\n",
       "      <td>Харцызск</td>\n",
       "    </tr>\n",
       "  </tbody>\n",
       "</table>\n",
       "</div>"
      ],
      "text/plain": [
       "                              address       city\n",
       "53           Полоцкая ул., 13, Донецк     Донецк\n",
       "315      Азовский просп., 2, Бердянск   Бердянск\n",
       "418       просп. Мира, 130, Мариуполь  Мариуполь\n",
       "127      Донецк, Цветочный микрорайон     Донецк\n",
       "11   бул. Шахтостроителей, 7Б, Донецк     Донецк\n",
       "185  ул. Карла Либкнехта, 62, Луганск    Луганск\n",
       "244      Вокзальная ул., 70, Харцызск   Харцызск"
      ]
     },
     "execution_count": 221,
     "metadata": {},
     "output_type": "execute_result"
    }
   ],
   "source": [
    "df[['address', 'city']].sample(7)"
   ]
  },
  {
   "cell_type": "code",
   "execution_count": 223,
   "metadata": {},
   "outputs": [],
   "source": [
    "# df[df['name']== 'Скамейка']"
   ]
  },
  {
   "cell_type": "code",
   "execution_count": 207,
   "metadata": {},
   "outputs": [
    {
     "data": {
      "text/plain": [
       "396"
      ]
     },
     "execution_count": 207,
     "metadata": {},
     "output_type": "execute_result"
    }
   ],
   "source": [
    "df = df[df['name']!= 'Скамейка']\n",
    "len(df)"
   ]
  },
  {
   "cell_type": "code",
   "execution_count": 208,
   "metadata": {},
   "outputs": [
    {
     "data": {
      "text/plain": [
       "367"
      ]
     },
     "execution_count": 208,
     "metadata": {},
     "output_type": "execute_result"
    }
   ],
   "source": [
    "f = df[df['city'].isin(cities_list)].sort_values('city')\n",
    "len(f)"
   ]
  },
  {
   "cell_type": "code",
   "execution_count": 209,
   "metadata": {},
   "outputs": [],
   "source": [
    "f.to_excel(\"new_russia_banks.xlsx\", index=False)"
   ]
  },
  {
   "cell_type": "code",
   "execution_count": 155,
   "metadata": {},
   "outputs": [
    {
     "data": {
      "text/plain": [
       "27"
      ]
     },
     "execution_count": 155,
     "metadata": {},
     "output_type": "execute_result"
    }
   ],
   "source": [
    "len(f[f['city'] == 'Бердянск'])"
   ]
  },
  {
   "cell_type": "code",
   "execution_count": 2,
   "metadata": {},
   "outputs": [
    {
     "data": {
      "text/html": [
       "<div>\n",
       "<style scoped>\n",
       "    .dataframe tbody tr th:only-of-type {\n",
       "        vertical-align: middle;\n",
       "    }\n",
       "\n",
       "    .dataframe tbody tr th {\n",
       "        vertical-align: top;\n",
       "    }\n",
       "\n",
       "    .dataframe thead th {\n",
       "        text-align: right;\n",
       "    }\n",
       "</style>\n",
       "<table border=\"1\" class=\"dataframe\">\n",
       "  <thead>\n",
       "    <tr style=\"text-align: right;\">\n",
       "      <th></th>\n",
       "      <th>Unnamed: 0</th>\n",
       "      <th>outputs</th>\n",
       "    </tr>\n",
       "  </thead>\n",
       "  <tbody>\n",
       "    <tr>\n",
       "      <th>0</th>\n",
       "      <td>0</td>\n",
       "      <td>{'ID': 1, 'name': '', 'address': '', 'website'...</td>\n",
       "    </tr>\n",
       "    <tr>\n",
       "      <th>1</th>\n",
       "      <td>1</td>\n",
       "      <td>{'ID': 2, 'name': '', 'address': '', 'website'...</td>\n",
       "    </tr>\n",
       "    <tr>\n",
       "      <th>2</th>\n",
       "      <td>2</td>\n",
       "      <td>{'ID': 3, 'name': '', 'address': '', 'website'...</td>\n",
       "    </tr>\n",
       "    <tr>\n",
       "      <th>3</th>\n",
       "      <td>3</td>\n",
       "      <td>{'ID': 4, 'name': '', 'address': '', 'website'...</td>\n",
       "    </tr>\n",
       "    <tr>\n",
       "      <th>4</th>\n",
       "      <td>4</td>\n",
       "      <td>{'ID': 5, 'name': '', 'address': '', 'website'...</td>\n",
       "    </tr>\n",
       "  </tbody>\n",
       "</table>\n",
       "</div>"
      ],
      "text/plain": [
       "   Unnamed: 0                                            outputs\n",
       "0           0  {'ID': 1, 'name': '', 'address': '', 'website'...\n",
       "1           1  {'ID': 2, 'name': '', 'address': '', 'website'...\n",
       "2           2  {'ID': 3, 'name': '', 'address': '', 'website'...\n",
       "3           3  {'ID': 4, 'name': '', 'address': '', 'website'...\n",
       "4           4  {'ID': 5, 'name': '', 'address': '', 'website'..."
      ]
     },
     "execution_count": 2,
     "metadata": {},
     "output_type": "execute_result"
    }
   ],
   "source": [
    "df = pd.read_csv('info_output/bank_outputs_2024_04_04.csv')\n",
    "df.head()"
   ]
  },
  {
   "cell_type": "code",
   "execution_count": 8,
   "metadata": {},
   "outputs": [
    {
     "data": {
      "text/plain": [
       "\"{'ID': 1, 'name': '', 'address': '', 'website': '', 'opening_hours': {'mon': 'выходной', 'tue': 'выходной', 'wed': 'выходной', 'thu': 'выходной', 'fri': 'выходной', 'sat': 'выходной', 'sun': 'выходной'}, 'ypage': 'https://yandex.ru/showcaptcha?mt=DC65A41B3C34EBD0B6472245A5EF4BE0FC1D72ADF8EC6A65DBD1F5F60FC253F9960981331A06EF43C879A52FBA7ED5D409D8EA5E4A9A615F74834DBDC73B9D76EB873696791156F6D1D0F722E4EAEFC10ED2D3C518C4A16BDE1906C918D3CD1EF6ABF215EDA82FEF576DB1319636A34726657240083B9F29A57C77BAE971B0FFE80C9DC6F9D762C65E85A270384E2C13AD2AE9916B0E806EE6C319D138CEDBD40700323DEF13EF3883061F8574099CC8396A1BBAF5384FCA2D29D2BAD1B7A54FA075CA1AB287AD39C831768C92B2A8DEA95473B51F10FE64925923&retpath=aHR0cHM6Ly95YW5kZXgucnUvbWFwcy9vcmcvYmFua192dGIvMTMxOTgwNDQ2ND8%2C_b77b5c621bebb841de75e9ef519b9e68&t=2/1712216207/03d760969bbea22e88a91ec6a201d427&u=3b57a9d9-dee4e842-3bddda8f-cc3944d0&s=4f79cb599466f93e57636c7b09a8c561', 'goods': None, 'rating': '', 'reviews': None, 'phone': [], 'social': []}\""
      ]
     },
     "execution_count": 8,
     "metadata": {},
     "output_type": "execute_result"
    }
   ],
   "source": [
    "df.loc[0, 'outputs']"
   ]
  },
  {
   "cell_type": "code",
   "execution_count": 9,
   "metadata": {},
   "outputs": [],
   "source": [
    "s = {'ID': 1, 'name': '', 'address': '', 'website': '', 'opening_hours': {'mon': 'выходной', 'tue': 'выходной', 'wed': 'выходной', 'thu': 'выходной', 'fri': 'выходной', 'sat': 'выходной', 'sun': 'выходной'}, 'ypage': 'https://yandex.ru/showcaptcha?mt=DC65A41B3C34EBD0B6472245A5EF4BE0FC1D72ADF8EC6A65DBD1F5F60FC253F9960981331A06EF43C879A52FBA7ED5D409D8EA5E4A9A615F74834DBDC73B9D76EB873696791156F6D1D0F722E4EAEFC10ED2D3C518C4A16BDE1906C918D3CD1EF6ABF215EDA82FEF576DB1319636A34726657240083B9F29A57C77BAE971B0FFE80C9DC6F9D762C65E85A270384E2C13AD2AE9916B0E806EE6C319D138CEDBD40700323DEF13EF3883061F8574099CC8396A1BBAF5384FCA2D29D2BAD1B7A54FA075CA1AB287AD39C831768C92B2A8DEA95473B51F10FE64925923&retpath=aHR0cHM6Ly95YW5kZXgucnUvbWFwcy9vcmcvYmFua192dGIvMTMxOTgwNDQ2ND8%2C_b77b5c621bebb841de75e9ef519b9e68&t=2/1712216207/03d760969bbea22e88a91ec6a201d427&u=3b57a9d9-dee4e842-3bddda8f-cc3944d0&s=4f79cb599466f93e57636c7b09a8c561', 'goods': None, 'rating': '', 'reviews': None, 'phone': [], 'social': []}"
   ]
  },
  {
   "cell_type": "code",
   "execution_count": 11,
   "metadata": {},
   "outputs": [],
   "source": [
    "outputs = [{'ID': 1, 'name': '', 'address': '', 'website': '', 'opening_hours': {'mon': 'выходной', 'tue': 'выходной', 'wed': 'выходной', 'thu': 'выходной', 'fri': 'выходной', 'sat': 'выходной', 'sun': 'выходной'}, 'ypage': 'https://yandex.ru/showcaptcha?mt=DC65A41B3C34EBD0B6472245A5EF4BE0FC1D72ADF8EC6A65DBD1F5F60FC253F9960981331A06EF43C879A52FBA7ED5D409D8EA5E4A9A615F74834DBDC73B9D76EB873696791156F6D1D0F722E4EAEFC10ED2D3C518C4A16BDE1906C918D3CD1EF6ABF215EDA82FEF576DB1319636A34726657240083B9F29A57C77BAE971B0FFE80C9DC6F9D762C65E85A270384E2C13AD2AE9916B0E806EE6C319D138CEDBD40700323DEF13EF3883061F8574099CC8396A1BBAF5384FCA2D29D2BAD1B7A54FA075CA1AB287AD39C831768C92B2A8DEA95473B51F10FE64925923&retpath=aHR0cHM6Ly95YW5kZXgucnUvbWFwcy9vcmcvYmFua192dGIvMTMxOTgwNDQ2ND8%2C_b77b5c621bebb841de75e9ef519b9e68&t=2/1712216207/03d760969bbea22e88a91ec6a201d427&u=3b57a9d9-dee4e842-3bddda8f-cc3944d0&s=4f79cb599466f93e57636c7b09a8c561', 'goods': None, 'rating': '', 'reviews': None, 'phone': [], 'social': []}, {'ID': 1, 'name': '', 'address': '', 'website': '', 'opening_hours': {'mon': 'выходной', 'tue': 'выходной', 'wed': 'выходной', 'thu': 'выходной', 'fri': 'выходной', 'sat': 'выходной', 'sun': 'выходной'}, 'ypage': 'https://yandex.ru/showcaptcha?mt=DC65A41B3C34EBD0B6472245A5EF4BE0FC1D72ADF8EC6A65DBD1F5F60FC253F9960981331A06EF43C879A52FBA7ED5D409D8EA5E4A9A615F74834DBDC73B9D76EB873696791156F6D1D0F722E4EAEFC10ED2D3C518C4A16BDE1906C918D3CD1EF6ABF215EDA82FEF576DB1319636A34726657240083B9F29A57C77BAE971B0FFE80C9DC6F9D762C65E85A270384E2C13AD2AE9916B0E806EE6C319D138CEDBD40700323DEF13EF3883061F8574099CC8396A1BBAF5384FCA2D29D2BAD1B7A54FA075CA1AB287AD39C831768C92B2A8DEA95473B51F10FE64925923&retpath=aHR0cHM6Ly95YW5kZXgucnUvbWFwcy9vcmcvYmFua192dGIvMTMxOTgwNDQ2ND8%2C_b77b5c621bebb841de75e9ef519b9e68&t=2/1712216207/03d760969bbea22e88a91ec6a201d427&u=3b57a9d9-dee4e842-3bddda8f-cc3944d0&s=4f79cb599466f93e57636c7b09a8c561', 'goods': None, 'rating': '', 'reviews': None, 'phone': [], 'social': []}]"
   ]
  },
  {
   "cell_type": "code",
   "execution_count": 12,
   "metadata": {},
   "outputs": [
    {
     "data": {
      "text/html": [
       "<div>\n",
       "<style scoped>\n",
       "    .dataframe tbody tr th:only-of-type {\n",
       "        vertical-align: middle;\n",
       "    }\n",
       "\n",
       "    .dataframe tbody tr th {\n",
       "        vertical-align: top;\n",
       "    }\n",
       "\n",
       "    .dataframe thead th {\n",
       "        text-align: right;\n",
       "    }\n",
       "</style>\n",
       "<table border=\"1\" class=\"dataframe\">\n",
       "  <thead>\n",
       "    <tr style=\"text-align: right;\">\n",
       "      <th></th>\n",
       "      <th>ID</th>\n",
       "      <th>name</th>\n",
       "      <th>address</th>\n",
       "      <th>website</th>\n",
       "      <th>ypage</th>\n",
       "      <th>goods</th>\n",
       "      <th>rating</th>\n",
       "      <th>reviews</th>\n",
       "      <th>phone</th>\n",
       "      <th>social</th>\n",
       "      <th>opening_hours.mon</th>\n",
       "      <th>opening_hours.tue</th>\n",
       "      <th>opening_hours.wed</th>\n",
       "      <th>opening_hours.thu</th>\n",
       "      <th>opening_hours.fri</th>\n",
       "      <th>opening_hours.sat</th>\n",
       "      <th>opening_hours.sun</th>\n",
       "    </tr>\n",
       "  </thead>\n",
       "  <tbody>\n",
       "    <tr>\n",
       "      <th>0</th>\n",
       "      <td>1</td>\n",
       "      <td></td>\n",
       "      <td></td>\n",
       "      <td></td>\n",
       "      <td>https://yandex.ru/showcaptcha?mt=DC65A41B3C34E...</td>\n",
       "      <td>None</td>\n",
       "      <td></td>\n",
       "      <td>None</td>\n",
       "      <td>[]</td>\n",
       "      <td>[]</td>\n",
       "      <td>выходной</td>\n",
       "      <td>выходной</td>\n",
       "      <td>выходной</td>\n",
       "      <td>выходной</td>\n",
       "      <td>выходной</td>\n",
       "      <td>выходной</td>\n",
       "      <td>выходной</td>\n",
       "    </tr>\n",
       "    <tr>\n",
       "      <th>1</th>\n",
       "      <td>1</td>\n",
       "      <td></td>\n",
       "      <td></td>\n",
       "      <td></td>\n",
       "      <td>https://yandex.ru/showcaptcha?mt=DC65A41B3C34E...</td>\n",
       "      <td>None</td>\n",
       "      <td></td>\n",
       "      <td>None</td>\n",
       "      <td>[]</td>\n",
       "      <td>[]</td>\n",
       "      <td>выходной</td>\n",
       "      <td>выходной</td>\n",
       "      <td>выходной</td>\n",
       "      <td>выходной</td>\n",
       "      <td>выходной</td>\n",
       "      <td>выходной</td>\n",
       "      <td>выходной</td>\n",
       "    </tr>\n",
       "  </tbody>\n",
       "</table>\n",
       "</div>"
      ],
      "text/plain": [
       "   ID name address website                                              ypage  \\\n",
       "0   1                       https://yandex.ru/showcaptcha?mt=DC65A41B3C34E...   \n",
       "1   1                       https://yandex.ru/showcaptcha?mt=DC65A41B3C34E...   \n",
       "\n",
       "  goods rating reviews phone social opening_hours.mon opening_hours.tue  \\\n",
       "0  None           None    []     []          выходной          выходной   \n",
       "1  None           None    []     []          выходной          выходной   \n",
       "\n",
       "  opening_hours.wed opening_hours.thu opening_hours.fri opening_hours.sat  \\\n",
       "0          выходной          выходной          выходной          выходной   \n",
       "1          выходной          выходной          выходной          выходной   \n",
       "\n",
       "  opening_hours.sun  \n",
       "0          выходной  \n",
       "1          выходной  "
      ]
     },
     "execution_count": 12,
     "metadata": {},
     "output_type": "execute_result"
    }
   ],
   "source": [
    "pd.json_normalize(outputs)"
   ]
  },
  {
   "cell_type": "code",
   "execution_count": null,
   "metadata": {},
   "outputs": [],
   "source": []
  }
 ],
 "metadata": {
  "kernelspec": {
   "display_name": "Python 3 (ipykernel)",
   "language": "python",
   "name": "python3"
  },
  "language_info": {
   "codemirror_mode": {
    "name": "ipython",
    "version": 3
   },
   "file_extension": ".py",
   "mimetype": "text/x-python",
   "name": "python",
   "nbconvert_exporter": "python",
   "pygments_lexer": "ipython3",
   "version": "3.9.18"
  }
 },
 "nbformat": 4,
 "nbformat_minor": 4
}
