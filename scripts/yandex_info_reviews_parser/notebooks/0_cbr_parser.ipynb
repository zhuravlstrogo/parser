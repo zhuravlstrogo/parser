{
 "cells": [
  {
   "cell_type": "code",
   "execution_count": 2,
   "id": "59ecf81a",
   "metadata": {},
   "outputs": [],
   "source": [
    "#Сбор списка банков для дальнейшего отбора ТП\n",
    "import re\n",
    "from datetime import datetime, date, time, timedelta\n",
    "import requests\n",
    "from requests.auth import HTTPBasicAuth\n",
    "import numpy as np\n",
    "import pandas as pd\n",
    "import pandas as pd\n",
    "from bs4 import BeautifulSoup\n",
    "from tqdm import tqdm\n",
    "import math"
   ]
  },
  {
   "cell_type": "code",
   "execution_count": 4,
   "id": "473d9f38-6ed7-40df-ae91-34842fcf2ea7",
   "metadata": {},
   "outputs": [],
   "source": [
    "filial_list = []\n",
    "\n",
    "url_com = f\"https://www.cbr.ru/finorg/foinfo/branches/?id=1315037839212\"\n",
    "res_com = requests.get(url_com)\n",
    "soup_com = BeautifulSoup(res_com.text, 'lxml')\n",
    "filial = soup_com.findAll(class_='SubFilials')\n",
    "\n",
    "for i in range(len(filial)):\n",
    "    str_filial = str(filial[i])\n",
    "    # filial_list.append(int(str_filial[32:45]))\n",
    "    filial_list.append(re.search(f\"{'data-cid'}.*?(\\d+)\", str_filial).group(1))"
   ]
  },
  {
   "cell_type": "code",
   "execution_count": 5,
   "id": "176db29e-7f2d-494e-8c6a-aaf6ea1e25bb",
   "metadata": {},
   "outputs": [
    {
     "data": {
      "text/plain": [
       "['2000000241064',\n",
       " '1315038917989',\n",
       " '2000000264480',\n",
       " '2000000267269',\n",
       " '2000000264455',\n",
       " '1315038914641',\n",
       " '1315038917180',\n",
       " '2000000267270',\n",
       " '1315038919468',\n",
       " '1315038918407',\n",
       " '1315038918110',\n",
       " '1315038917505',\n",
       " '1315038917485',\n",
       " '1315040436674',\n",
       " '2000000243457',\n",
       " '2000000272452',\n",
       " '1315040439604',\n",
       " '2000000280113',\n",
       " '1315040436627',\n",
       " '1326363486555']"
      ]
     },
     "execution_count": 5,
     "metadata": {},
     "output_type": "execute_result"
    }
   ],
   "source": [
    "filial_list"
   ]
  },
  {
   "cell_type": "code",
   "execution_count": 42,
   "id": "783503be-5673-47c3-992f-c80e2fb8b537",
   "metadata": {},
   "outputs": [
    {
     "name": "stderr",
     "output_type": "stream",
     "text": [
      "  2%|█                                           | 2/86 [00:00<00:16,  5.00it/s]"
     ]
    },
    {
     "name": "stdout",
     "output_type": "stream",
     "text": [
      "1315038923967 35\n",
      "1315038922458 55\n"
     ]
    },
    {
     "name": "stderr",
     "output_type": "stream",
     "text": [
      "  3%|█▌                                          | 3/86 [00:00<00:20,  4.02it/s]"
     ]
    },
    {
     "name": "stdout",
     "output_type": "stream",
     "text": [
      "1315038912551 411\n",
      "1315038913701 110\n"
     ]
    },
    {
     "name": "stderr",
     "output_type": "stream",
     "text": [
      "  7%|███                                         | 6/86 [00:01<00:16,  4.73it/s]"
     ]
    },
    {
     "name": "stdout",
     "output_type": "stream",
     "text": [
      "1315038913802 98\n",
      "1315038914850 10\n"
     ]
    },
    {
     "name": "stderr",
     "output_type": "stream",
     "text": [
      "  8%|███▌                                        | 7/86 [00:01<00:20,  3.84it/s]"
     ]
    },
    {
     "name": "stdout",
     "output_type": "stream",
     "text": [
      "1315038922515 417\n"
     ]
    },
    {
     "name": "stderr",
     "output_type": "stream",
     "text": [
      " 10%|████▌                                       | 9/86 [00:02<00:16,  4.59it/s]"
     ]
    },
    {
     "name": "stdout",
     "output_type": "stream",
     "text": [
      "1315038913855 216\n",
      "1315038924222 20\n"
     ]
    },
    {
     "name": "stderr",
     "output_type": "stream",
     "text": [
      " 12%|█████                                      | 10/86 [00:02<00:18,  4.21it/s]"
     ]
    },
    {
     "name": "stdout",
     "output_type": "stream",
     "text": [
      "1315038913598 71\n"
     ]
    },
    {
     "name": "stderr",
     "output_type": "stream",
     "text": [
      " 13%|█████▌                                     | 11/86 [00:02<00:17,  4.19it/s]"
     ]
    },
    {
     "name": "stdout",
     "output_type": "stream",
     "text": [
      "1315038913938 74\n"
     ]
    },
    {
     "name": "stderr",
     "output_type": "stream",
     "text": [
      " 14%|██████                                     | 12/86 [00:05<01:06,  1.11it/s]"
     ]
    },
    {
     "name": "stdout",
     "output_type": "stream",
     "text": [
      "1315038922750 77\n",
      "1315038914042 126\n"
     ]
    },
    {
     "name": "stderr",
     "output_type": "stream",
     "text": [
      " 16%|███████                                    | 14/86 [00:05<00:40,  1.78it/s]"
     ]
    },
    {
     "name": "stdout",
     "output_type": "stream",
     "text": [
      "1315038914576 302\n"
     ]
    },
    {
     "name": "stderr",
     "output_type": "stream",
     "text": [
      " 19%|████████                                   | 16/86 [00:06<00:28,  2.43it/s]"
     ]
    },
    {
     "name": "stdout",
     "output_type": "stream",
     "text": [
      "1315038914159 245\n",
      "1315038914295 133\n"
     ]
    },
    {
     "name": "stderr",
     "output_type": "stream",
     "text": [
      " 20%|████████▌                                  | 17/86 [00:06<00:22,  3.05it/s]"
     ]
    },
    {
     "name": "stdout",
     "output_type": "stream",
     "text": [
      "1315038923093 23\n"
     ]
    },
    {
     "name": "stderr",
     "output_type": "stream",
     "text": [
      " 21%|█████████                                  | 18/86 [00:06<00:20,  3.33it/s]"
     ]
    },
    {
     "name": "stdout",
     "output_type": "stream",
     "text": [
      "1315038917259 46\n",
      "1315038913533 99\n"
     ]
    },
    {
     "name": "stderr",
     "output_type": "stream",
     "text": [
      " 23%|██████████                                 | 20/86 [00:06<00:17,  3.85it/s]"
     ]
    },
    {
     "name": "stdout",
     "output_type": "stream",
     "text": [
      "1315038921868 99\n"
     ]
    },
    {
     "name": "stderr",
     "output_type": "stream",
     "text": [
      " 26%|███████████                                | 22/86 [00:07<00:14,  4.41it/s]"
     ]
    },
    {
     "name": "stdout",
     "output_type": "stream",
     "text": [
      "1315038914724 82\n",
      "1315038914975 9\n"
     ]
    },
    {
     "name": "stderr",
     "output_type": "stream",
     "text": [
      " 28%|████████████                               | 24/86 [00:07<00:13,  4.67it/s]"
     ]
    },
    {
     "name": "stdout",
     "output_type": "stream",
     "text": [
      "1315038914905 169\n",
      "1315038923064 43\n"
     ]
    },
    {
     "name": "stderr",
     "output_type": "stream",
     "text": [
      " 30%|█████████████                              | 26/86 [00:08<00:12,  4.95it/s]"
     ]
    },
    {
     "name": "stdout",
     "output_type": "stream",
     "text": [
      "1315038915036 65\n",
      "1315038923132 20\n"
     ]
    },
    {
     "name": "stderr",
     "output_type": "stream",
     "text": [
      " 33%|██████████████                             | 28/86 [00:08<00:11,  5.18it/s]"
     ]
    },
    {
     "name": "stdout",
     "output_type": "stream",
     "text": [
      "1315038915233 80\n",
      "1315038915327 37\n"
     ]
    },
    {
     "name": "stderr",
     "output_type": "stream",
     "text": [
      " 35%|███████████████                            | 30/86 [00:08<00:11,  4.84it/s]"
     ]
    },
    {
     "name": "stdout",
     "output_type": "stream",
     "text": [
      "1315038923537 19\n",
      "1315038923187 72\n"
     ]
    },
    {
     "name": "stderr",
     "output_type": "stream",
     "text": [
      " 36%|███████████████▍                           | 31/86 [00:09<00:12,  4.51it/s]"
     ]
    },
    {
     "name": "stdout",
     "output_type": "stream",
     "text": [
      "1315038915418 178\n"
     ]
    },
    {
     "name": "stderr",
     "output_type": "stream",
     "text": [
      " 37%|████████████████                           | 32/86 [00:09<00:12,  4.29it/s]"
     ]
    },
    {
     "name": "stdout",
     "output_type": "stream",
     "text": [
      "1315038915548 142\n"
     ]
    },
    {
     "name": "stderr",
     "output_type": "stream",
     "text": [
      " 38%|████████████████▌                          | 33/86 [00:09<00:12,  4.13it/s]"
     ]
    },
    {
     "name": "stdout",
     "output_type": "stream",
     "text": [
      "1315038923248 119\n"
     ]
    },
    {
     "name": "stderr",
     "output_type": "stream",
     "text": [
      " 40%|█████████████████                          | 34/86 [00:09<00:13,  3.95it/s]"
     ]
    },
    {
     "name": "stdout",
     "output_type": "stream",
     "text": [
      "1315038915624 62\n"
     ]
    },
    {
     "name": "stderr",
     "output_type": "stream",
     "text": [
      " 41%|█████████████████▌                         | 35/86 [00:10<00:13,  3.65it/s]"
     ]
    },
    {
     "name": "stdout",
     "output_type": "stream",
     "text": [
      "1315038912715 472\n"
     ]
    },
    {
     "name": "stderr",
     "output_type": "stream",
     "text": [
      " 42%|██████████████████                         | 36/86 [00:10<00:13,  3.59it/s]"
     ]
    },
    {
     "name": "stdout",
     "output_type": "stream",
     "text": [
      "1315038913055 227\n"
     ]
    },
    {
     "name": "stderr",
     "output_type": "stream",
     "text": [
      " 43%|██████████████████▌                        | 37/86 [00:10<00:13,  3.57it/s]"
     ]
    },
    {
     "name": "stdout",
     "output_type": "stream",
     "text": [
      "1315038915965 166\n"
     ]
    },
    {
     "name": "stderr",
     "output_type": "stream",
     "text": [
      " 45%|███████████████████▌                       | 39/86 [00:11<00:11,  4.25it/s]"
     ]
    },
    {
     "name": "stdout",
     "output_type": "stream",
     "text": [
      "1315038916042 83\n",
      "1315038923826 23\n"
     ]
    },
    {
     "name": "stderr",
     "output_type": "stream",
     "text": [
      " 47%|████████████████████                       | 40/86 [00:11<00:10,  4.35it/s]"
     ]
    },
    {
     "name": "stdout",
     "output_type": "stream",
     "text": [
      "1315038916557 140\n"
     ]
    },
    {
     "name": "stderr",
     "output_type": "stream",
     "text": [
      " 48%|████████████████████▌                      | 41/86 [00:11<00:10,  4.47it/s]"
     ]
    },
    {
     "name": "stdout",
     "output_type": "stream",
     "text": [
      "1315038923398 75\n"
     ]
    },
    {
     "name": "stderr",
     "output_type": "stream",
     "text": [
      " 50%|█████████████████████▌                     | 43/86 [00:12<00:09,  4.58it/s]"
     ]
    },
    {
     "name": "stdout",
     "output_type": "stream",
     "text": [
      "1315038917295 446\n",
      "1315038919288 69\n"
     ]
    },
    {
     "name": "stderr",
     "output_type": "stream",
     "text": [
      " 51%|██████████████████████                     | 44/86 [00:12<00:08,  4.71it/s]"
     ]
    },
    {
     "name": "stdout",
     "output_type": "stream",
     "text": [
      "1315038919353 74\n"
     ]
    },
    {
     "name": "stderr",
     "output_type": "stream",
     "text": [
      " 52%|██████████████████████▌                    | 45/86 [00:12<00:09,  4.18it/s]"
     ]
    },
    {
     "name": "stdout",
     "output_type": "stream",
     "text": [
      "1315038919448 222\n",
      "1315038919851 197\n"
     ]
    },
    {
     "name": "stderr",
     "output_type": "stream",
     "text": [
      " 56%|████████████████████████                   | 48/86 [00:13<00:08,  4.49it/s]"
     ]
    },
    {
     "name": "stdout",
     "output_type": "stream",
     "text": [
      "1315038919943 282\n",
      "1315038920049 72\n"
     ]
    },
    {
     "name": "stderr",
     "output_type": "stream",
     "text": [
      " 58%|█████████████████████████                  | 50/86 [00:13<00:09,  3.85it/s]"
     ]
    },
    {
     "name": "stdout",
     "output_type": "stream",
     "text": [
      "1315038923600 324\n",
      "1315038923324 49\n"
     ]
    },
    {
     "name": "stderr",
     "output_type": "stream",
     "text": [
      " 59%|█████████████████████████▌                 | 51/86 [00:14<00:08,  3.99it/s]"
     ]
    },
    {
     "name": "stdout",
     "output_type": "stream",
     "text": [
      "1315038920143 184\n"
     ]
    },
    {
     "name": "stderr",
     "output_type": "stream",
     "text": [
      " 62%|██████████████████████████▌                | 53/86 [00:14<00:08,  4.02it/s]"
     ]
    },
    {
     "name": "stdout",
     "output_type": "stream",
     "text": [
      "1315038920236 345\n",
      "1315038915721 7\n"
     ]
    },
    {
     "name": "stderr",
     "output_type": "stream",
     "text": [
      " 64%|███████████████████████████▌               | 55/86 [00:15<00:07,  4.38it/s]"
     ]
    },
    {
     "name": "stdout",
     "output_type": "stream",
     "text": [
      "1315038913312 126\n",
      "1315038920393 62\n"
     ]
    },
    {
     "name": "stderr",
     "output_type": "stream",
     "text": [
      " 65%|████████████████████████████               | 56/86 [00:15<00:07,  3.83it/s]"
     ]
    },
    {
     "name": "stdout",
     "output_type": "stream",
     "text": [
      "1315038920528 391\n"
     ]
    },
    {
     "name": "stderr",
     "output_type": "stream",
     "text": [
      " 66%|████████████████████████████▍              | 57/86 [00:15<00:07,  3.96it/s]"
     ]
    },
    {
     "name": "stdout",
     "output_type": "stream",
     "text": [
      "1315038920755 98\n"
     ]
    },
    {
     "name": "stderr",
     "output_type": "stream",
     "text": [
      " 67%|█████████████████████████████              | 58/86 [00:15<00:07,  3.96it/s]"
     ]
    },
    {
     "name": "stdout",
     "output_type": "stream",
     "text": [
      "1315038915730 241\n"
     ]
    },
    {
     "name": "stderr",
     "output_type": "stream",
     "text": [
      " 69%|█████████████████████████████▌             | 59/86 [00:16<00:07,  3.72it/s]"
     ]
    },
    {
     "name": "stdout",
     "output_type": "stream",
     "text": [
      "1315038920847 240\n"
     ]
    },
    {
     "name": "stderr",
     "output_type": "stream",
     "text": [
      " 71%|██████████████████████████████▌            | 61/86 [00:16<00:06,  4.11it/s]"
     ]
    },
    {
     "name": "stdout",
     "output_type": "stream",
     "text": [
      "1315038921071 318\n",
      "1315038916627 41\n"
     ]
    },
    {
     "name": "stderr",
     "output_type": "stream",
     "text": [
      " 73%|███████████████████████████████▌           | 63/86 [00:17<00:05,  3.90it/s]"
     ]
    },
    {
     "name": "stdout",
     "output_type": "stream",
     "text": [
      "1315038916125 413\n",
      "1315038923464 32\n"
     ]
    },
    {
     "name": "stderr",
     "output_type": "stream",
     "text": [
      " 74%|████████████████████████████████           | 64/86 [00:17<00:04,  4.43it/s]"
     ]
    },
    {
     "name": "stdout",
     "output_type": "stream",
     "text": [
      "1315038919426 5\n"
     ]
    },
    {
     "name": "stderr",
     "output_type": "stream",
     "text": [
      " 76%|████████████████████████████████▌          | 65/86 [00:17<00:04,  4.51it/s]"
     ]
    },
    {
     "name": "stdout",
     "output_type": "stream",
     "text": [
      "1315038921349 62\n"
     ]
    },
    {
     "name": "stderr",
     "output_type": "stream",
     "text": [
      " 77%|█████████████████████████████████          | 66/86 [00:18<00:05,  3.57it/s]"
     ]
    },
    {
     "name": "stdout",
     "output_type": "stream",
     "text": [
      "1315038919064 446\n"
     ]
    },
    {
     "name": "stderr",
     "output_type": "stream",
     "text": [
      " 79%|██████████████████████████████████         | 68/86 [00:18<00:04,  4.04it/s]"
     ]
    },
    {
     "name": "stdout",
     "output_type": "stream",
     "text": [
      "1315038913405 280\n",
      "1315038921465 141\n"
     ]
    },
    {
     "name": "stderr",
     "output_type": "stream",
     "text": [
      " 80%|██████████████████████████████████▌        | 69/86 [00:18<00:03,  4.36it/s]"
     ]
    },
    {
     "name": "stdout",
     "output_type": "stream",
     "text": [
      "1315038915143 79\n"
     ]
    },
    {
     "name": "stderr",
     "output_type": "stream",
     "text": [
      " 81%|███████████████████████████████████        | 70/86 [00:18<00:03,  4.22it/s]"
     ]
    },
    {
     "name": "stdout",
     "output_type": "stream",
     "text": [
      "1315038921528 70\n"
     ]
    },
    {
     "name": "stderr",
     "output_type": "stream",
     "text": [
      " 83%|███████████████████████████████████▌       | 71/86 [00:19<00:03,  4.02it/s]"
     ]
    },
    {
     "name": "stdout",
     "output_type": "stream",
     "text": [
      "1315038921613 107\n"
     ]
    },
    {
     "name": "stderr",
     "output_type": "stream",
     "text": [
      " 84%|████████████████████████████████████       | 72/86 [00:19<00:03,  3.81it/s]"
     ]
    },
    {
     "name": "stdout",
     "output_type": "stream",
     "text": [
      "1315038923897 130\n"
     ]
    },
    {
     "name": "stderr",
     "output_type": "stream",
     "text": [
      " 86%|█████████████████████████████████████      | 74/86 [00:19<00:02,  4.49it/s]"
     ]
    },
    {
     "name": "stdout",
     "output_type": "stream",
     "text": [
      "1315038922013 126\n",
      "1315038921185 10\n"
     ]
    },
    {
     "name": "stderr",
     "output_type": "stream",
     "text": [
      " 87%|█████████████████████████████████████▌     | 75/86 [00:20<00:02,  4.61it/s]"
     ]
    },
    {
     "name": "stdout",
     "output_type": "stream",
     "text": [
      "1315038912740 44\n"
     ]
    },
    {
     "name": "stderr",
     "output_type": "stream",
     "text": [
      " 88%|██████████████████████████████████████     | 76/86 [00:20<00:03,  2.85it/s]"
     ]
    },
    {
     "name": "stdout",
     "output_type": "stream",
     "text": [
      "1315038914407 346\n"
     ]
    },
    {
     "name": "stderr",
     "output_type": "stream",
     "text": [
      " 91%|███████████████████████████████████████    | 78/86 [00:21<00:02,  3.63it/s]"
     ]
    },
    {
     "name": "stdout",
     "output_type": "stream",
     "text": [
      "1315038922116 231\n",
      "1315038918663 16\n"
     ]
    },
    {
     "name": "stderr",
     "output_type": "stream",
     "text": [
      " 92%|███████████████████████████████████████▌   | 79/86 [00:21<00:01,  3.62it/s]"
     ]
    },
    {
     "name": "stdout",
     "output_type": "stream",
     "text": [
      "1315038922304 123\n"
     ]
    },
    {
     "name": "stderr",
     "output_type": "stream",
     "text": [
      " 94%|████████████████████████████████████████▌  | 81/86 [00:21<00:01,  4.15it/s]"
     ]
    },
    {
     "name": "stdout",
     "output_type": "stream",
     "text": [
      "1315038924054 154\n",
      "1315038920527 24\n"
     ]
    },
    {
     "name": "stderr",
     "output_type": "stream",
     "text": [
      " 95%|█████████████████████████████████████████  | 82/86 [00:22<00:00,  4.12it/s]"
     ]
    },
    {
     "name": "stdout",
     "output_type": "stream",
     "text": [
      "1315038921865 130\n",
      "1315038921004 51\n"
     ]
    },
    {
     "name": "stderr",
     "output_type": "stream",
     "text": [
      " 98%|██████████████████████████████████████████ | 84/86 [00:22<00:00,  4.55it/s]"
     ]
    },
    {
     "name": "stdout",
     "output_type": "stream",
     "text": [
      "1315038924166 133\n"
     ]
    },
    {
     "name": "stderr",
     "output_type": "stream",
     "text": [
      " 99%|██████████████████████████████████████████▌| 85/86 [00:22<00:00,  4.37it/s]"
     ]
    },
    {
     "name": "stdout",
     "output_type": "stream",
     "text": [
      "1315038921867 59\n"
     ]
    },
    {
     "name": "stderr",
     "output_type": "stream",
     "text": [
      "100%|███████████████████████████████████████████| 86/86 [00:22<00:00,  3.74it/s]"
     ]
    },
    {
     "name": "stdout",
     "output_type": "stream",
     "text": [
      "1315038922372 117\n",
      "CPU times: user 6.58 s, sys: 184 ms, total: 6.77 s\n",
      "Wall time: 23 s\n"
     ]
    },
    {
     "name": "stderr",
     "output_type": "stream",
     "text": [
      "\n"
     ]
    }
   ],
   "source": [
    "%%time\n",
    "frames = []\n",
    "for j in tqdm(filial_list):\n",
    "    url_filial = f\"https://cbr.ru/finorg/foinfo/branches/?id={j}\"\n",
    "    res_filial = requests.get(url_filial)\n",
    "    soup_filial = BeautifulSoup(res_filial.text, 'lxml')\n",
    "    filial_all = soup_filial.find(class_='data').find_all('tr')\n",
    "\n",
    "    rows = []\n",
    "    for row in filial_all:\n",
    "      row_data = []\n",
    "      for cell in row.findAll('td'):\n",
    "        row_data.append(cell.text)\n",
    "      rows.append(row_data)\n",
    "    \n",
    "    df = pd.DataFrame(rows, columns=['Номер ТП', 'Номер ТП.1', 'Тип', 'Адрес', 'Дата открытия', 'Название'])\n",
    "\n",
    "    frames.append(df)\n",
    "          \n",
    "if all(v is None for v in frames):\n",
    "    df_sber_tp = None\n",
    "else:\n",
    "    df_sber_tp = pd.concat(frames)"
   ]
  },
  {
   "cell_type": "code",
   "execution_count": null,
   "id": "8ba1cb92-cf21-41d7-9467-6714ac388ac3",
   "metadata": {},
   "outputs": [],
   "source": [
    "df_sber_tp.to_csv('df_sber_tp.csv', index=False)"
   ]
  },
  {
   "cell_type": "code",
   "execution_count": null,
   "id": "7601a8f1-6042-4c5e-835a-a382917e6723",
   "metadata": {},
   "outputs": [],
   "source": [
    "np.unique(df_sber_tp['Тип'])"
   ]
  },
  {
   "cell_type": "code",
   "execution_count": 9,
   "id": "a9ba3efe",
   "metadata": {},
   "outputs": [],
   "source": [
    "# предпологаем, что офисы, у которых нет номера, уже не работают\n",
    "df_sber_tp = df_sber_tp.dropna()\n",
    "df_sber_tp = df_sber_tp.dropna(subset=['Номер ТП',\t'Номер ТП.1'])"
   ]
  },
  {
   "cell_type": "code",
   "execution_count": 207,
   "id": "f94bf520-c851-4140-b1eb-193d283f656d",
   "metadata": {},
   "outputs": [],
   "source": [
    "# оставляем только доп офисы\n",
    "dop_office = df_sber_tp[df_sber_tp['Тип'] == 'Доп офис']\n",
    "\n",
    "excluded = [ \"(Помещения\", \"Помещения\", \"Помещение\", \"помещение\",  \"помещения\", \"помещ.\", \"пом.\", \"(ком.\", \"ком.\", \"комн\", \"(\",\n",
    "            \"офис\", \"Офис\", \" оф.\", \"номер помещения\",  \"помщение\",  \"пом \", \"каб.\", \"кабинет\",\n",
    "            \"Первый этаж\", \"Второй этаж\", \"Третий этаж\", \"Четвертый этаж\", \"Пятый этаж\", \"Цокольный\", \n",
    "            \"первый этаж\", \"второй этаж\", \"третий этаж\", \"четвертый этаж\", \"цокольный этаж\", \"цок.\",  \"подвальный этаж\",  \n",
    "            \"1 эт\", \"2 эт\", \"3 эт\", \"4 эт\", \"1-ый эт\", \"2-ой эт\", \"3-ий эт\", \"4-ый эт\", \"подземная этажность\", \n",
    "            \"1ый эт\", \"2ой эт\", \"3ий эт\", \"4ый эт\", \"перв. эт\", \"втор. эт\", \"вт. эт\", \"трет. эт\", \"четв. эт\",\n",
    "            \"этаж\", \"эт.\", \"Этаж\", \"Эт.\",\"1-й эт\", \"2-й эт\", \"3-й эт\", \"4-й эт\", \"Первый этаж\", \"Второй этаж\", \"Третий этаж\", \"С36\",\n",
    "            \"литер\", \"Литер\", \"лит.\", \"Лит.\", \"блок\", \"напротив\",   \"б/н\", \"филиал\", \"Административное\", \"административное\", \"Филиал\",\n",
    "           \"часть нежилого\", \"нежилые пом\", \"нежилые\", \"нежилое\", \"Военный городок\",  \"часть\", \"КОЦ\", \"ТРЦ\", \"БЦ\", \"аэропорт\",\n",
    "            \"в 15 метрах\", \"номер на\", \"в 13 метрах\", \"магазин\", \"аптеки\", \"гостиница\", \"кв.\", \"квартира\", \"инв.\", \"встроенное\",\n",
    "            \"встроенно-пристроенное\", \"в здании\", \"вблизи\", \"в близи\", \"около\" , \"рядом с\", \"проходная\",  \"учебный корп\",\n",
    "           \"торгово-\", \"н.п.\", \"Дом связи\"] \n",
    "\n",
    "# убираем скобки и то, что внутри ()\n",
    "dop_office['Адрес'] = dop_office['Адрес'].apply(lambda s: s[:s.find(\"(\")] + s[s.find(\")\")+1 :]\n",
    "                                                if s.find(\"(\") != -1 and s.find(\")\") != -1 else s)\n",
    "\n",
    "dop_office['Адрес'] = dop_office['Адрес'].str.replace(\"№\", \"\")\n",
    "dop_office['Адрес'] = dop_office['Адрес'].str.replace(\" №\", \"\")\n",
    "dop_office['Адрес'] = dop_office['Адрес'].str.replace(\" № \", \"\")\n",
    "dop_office['Адрес'] = dop_office['Адрес'].str.replace(\"здание\", \"\")\n",
    "dop_office['Адрес'] = dop_office['Адрес'].str.replace(\"Здание\", \"\")\n",
    "dop_office['Адрес'] = dop_office['Адрес'].str.replace(\"зд.\", \"\")\n",
    "dop_office['Адрес'] = dop_office['Адрес'].str.replace(\"двлд. \", \"\")\n",
    "dop_office['Адрес'] = dop_office['Адрес'].str.replace(\"строение\", \"стр.\")\n",
    "dop_office['Адрес'] = dop_office['Адрес'].str.replace(\"строен.\", \"стр.\")\n",
    "dop_office['Адрес'] = dop_office['Адрес'].str.replace(\"владение\", \"\")\n",
    "dop_office['Адрес'] = dop_office['Адрес'].str.replace(\"номер\", \"\")\n",
    "dop_office['Адрес'] = dop_office['Адрес'].str.replace(\"влд.\", \"\")\n",
    "dop_office['Адрес'] = dop_office['Адрес'].str.replace(\"з/у\", \"\")\n",
    "dop_office['Адрес'] = dop_office['Адрес'].str.replace(\"III\", \"3\")\n",
    "dop_office['Адрес'] = dop_office['Адрес'].str.replace(\"II\", \"2\")\n",
    "dop_office['Адрес'] = dop_office['Адрес'].str.replace(\"IV\", \"4\")\n",
    "dop_office['Адрес'] = dop_office['Адрес'].str.replace(\"I\", \"1\")\n",
    "dop_office['Адрес'] = dop_office['Адрес'].str.replace('\"', '')\n",
    "dop_office['Адрес'] = dop_office['Адрес'].str.replace(\"'\", \"\")\n",
    "dop_office['Адрес'] = dop_office['Адрес'].str.replace('«', '')\n",
    "dop_office['Адрес'] = dop_office['Адрес'].str.replace(\"»\", \"\")\n",
    "\n",
    "\n",
    "dop_office['Адрес'] = dop_office['Адрес'].str.replace(\"  \", \" \")\n",
    "dop_office['Адрес'] = dop_office['Адрес'].str.replace(\"   \", \" \")\n",
    "\n",
    "for e in excluded:\n",
    "    \n",
    "    dop_office['Адрес'] = dop_office['Адрес'].apply(lambda s: s[:s.find(e)] if s.find(e) != -1 else s)\n",
    "    e_plus = ', ' + e \n",
    "    dop_office['Адрес'] = dop_office['Адрес'].apply(lambda s: s[:s.find(e_plus)] if s.find(e_plus) != -1 else s)\n",
    "    e_plus = ',' + e \n",
    "    dop_office['Адрес'] = dop_office['Адрес'].apply(lambda s: s[:s.find(e_plus)] if s.find(e_plus) != -1 else s)\n",
    "\n",
    "for row in dop_office.itertuples():\n",
    "    if len(row.Адрес) > 1:\n",
    "        if row.Адрес[-1] == ',' or row.Адрес[-1] == ';' or row.Адрес[-1] == '.' or row.Адрес[-1] == ')' or row.Адрес[-1] == ' ':\n",
    "            dop_office.loc[row.Index, 'Адрес'] = row.Адрес[:-1]\n",
    "            \n",
    "    if len(row.Адрес) > 2:\n",
    "        if row.Адрес[-2:] == ' ,' or row.Адрес[-2:] == '. ' or row.Адрес[-2:] == '; ' or row.Адрес[-2:] == ', ' or row.Адрес[-2:] == '; ' \\\n",
    "        or 'ко' in row.Адрес[-2:]:\n",
    "            dop_office.loc[row.Index, 'Адрес'] = row.Адрес[:-2]\n",
    "    if len(row.Адрес) > 3:\n",
    "        if row.Адрес[-3:] == '  ,' or row.Адрес[-3:] == ' , ' or row.Адрес[-3:] == ',  ' or 'п.' in row.Адрес[-3:]:\n",
    "            dop_office.loc[row.Index, 'Адрес'] = row.Адрес[:-3]\n",
    "\n",
    "    if len(row.Адрес) > 4:\n",
    "        if 'п.' in row.Адрес[-4:] and 'корп.' not in row.Адрес[-7:]:\n",
    "            dop_office.loc[row.Index, 'Адрес'] = row.Адрес[:-4]\n",
    "        # dop_office['Адрес'] = dop_office['Адрес'].apply(lambda s: s[:re.search(f\"{'п.'}.*?(\\d+)\", s).start()]\n",
    "        #                                         if re.search(f\"{'п.'}.*?(\\d+)\", s) is not None else s)\n",
    "    \n",
    "    \n",
    "            "
   ]
  },
  {
   "cell_type": "code",
   "execution_count": 210,
   "id": "65d7fd3c-d76b-4e21-a6b0-43b12c8e596c",
   "metadata": {},
   "outputs": [],
   "source": [
    "dop_office.to_excel('dop_office_clean.xlsx')"
   ]
  },
  {
   "cell_type": "code",
   "execution_count": null,
   "id": "84a4c06b-cfd1-4a9f-8bb0-186ab81977a9",
   "metadata": {},
   "outputs": [],
   "source": [
    "# # # # # # # # # # # # # # # # # # # # # # # # # # # # ТЕСТЫ # # # # # # # # # # # # # # # # # # # # # # # # # # # # # # # # # # # "
   ]
  },
  {
   "cell_type": "code",
   "execution_count": 208,
   "id": "145e109f-1ba0-4006-b7aa-8fe5af4088f9",
   "metadata": {},
   "outputs": [
    {
     "data": {
      "text/plain": [
       "array(['655200, Республика Хакасия, Ширинский р-н, с. Шира, ул. Курортная, д. 37, пом. 51Н'],\n",
       "      dtype=object)"
      ]
     },
     "execution_count": 208,
     "metadata": {},
     "output_type": "execute_result"
    }
   ],
   "source": [
    "ex = '8602/0101'\n",
    "df_sber_tp[df_sber_tp['Номер ТП.1'] == ex]['Адрес'].values"
   ]
  },
  {
   "cell_type": "code",
   "execution_count": 209,
   "id": "e89f0259-cd1a-46c7-823b-b48e4556928c",
   "metadata": {},
   "outputs": [
    {
     "data": {
      "text/plain": [
       "array(['655200, Республика Хакасия, Ширинский р-н, с. Шира, ул. Курортная, д. 37'],\n",
       "      dtype=object)"
      ]
     },
     "execution_count": 209,
     "metadata": {},
     "output_type": "execute_result"
    }
   ],
   "source": [
    "dop_office[dop_office['Номер ТП.1'] == ex]['Адрес'].values"
   ]
  },
  {
   "cell_type": "code",
   "execution_count": null,
   "id": "e3f1176c-8c13-4f20-a052-88613a0bdf36",
   "metadata": {},
   "outputs": [],
   "source": []
  }
 ],
 "metadata": {
  "kernelspec": {
   "display_name": "Python 3 (ipykernel)",
   "language": "python",
   "name": "python3"
  },
  "language_info": {
   "codemirror_mode": {
    "name": "ipython",
    "version": 3
   },
   "file_extension": ".py",
   "mimetype": "text/x-python",
   "name": "python",
   "nbconvert_exporter": "python",
   "pygments_lexer": "ipython3",
   "version": "3.9.18"
  }
 },
 "nbformat": 4,
 "nbformat_minor": 5
}
