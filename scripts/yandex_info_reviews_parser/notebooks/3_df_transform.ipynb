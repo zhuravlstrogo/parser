{
 "cells": [
  {
   "cell_type": "code",
   "execution_count": 1,
   "metadata": {},
   "outputs": [],
   "source": [
    "import pandas as pd\n",
    "import numpy as np\n",
    "from os import listdir\n",
    "from os.path import isfile, join\n",
    "import random\n",
    "import pickle"
   ]
  },
  {
   "cell_type": "code",
   "execution_count": 2,
   "metadata": {},
   "outputs": [
    {
     "data": {
      "text/plain": [
       "'links_Петергоф.pickle'"
      ]
     },
     "execution_count": 2,
     "metadata": {},
     "output_type": "execute_result"
    }
   ],
   "source": [
    "links_path = '../new_links/'\n",
    "links_files = [f for f in listdir(links_path) if isfile(join(links_path, f))]\n",
    "\n",
    "links_files[1]"
   ]
  },
  {
   "cell_type": "code",
   "execution_count": 3,
   "metadata": {},
   "outputs": [
    {
     "data": {
      "text/plain": [
       "318"
      ]
     },
     "execution_count": 3,
     "metadata": {},
     "output_type": "execute_result"
    }
   ],
   "source": [
    "handled_city_names = []\n",
    "for f in links_files:\n",
    "    city_name = f.replace('links_', '').replace('.pickle', '')\n",
    "    handled_city_names.append(city_name)\n",
    "len(handled_city_names)"
   ]
  },
  {
   "cell_type": "code",
   "execution_count": 4,
   "metadata": {},
   "outputs": [
    {
     "data": {
      "text/plain": [
       "633"
      ]
     },
     "execution_count": 4,
     "metadata": {},
     "output_type": "execute_result"
    }
   ],
   "source": [
    "with open(f'../cities.txt') as f:\n",
    "    cities = [x.strip('\\n') for x in f ]\n",
    "len(cities)"
   ]
  },
  {
   "cell_type": "code",
   "execution_count": 5,
   "metadata": {},
   "outputs": [
    {
     "data": {
      "text/plain": [
       "315"
      ]
     },
     "execution_count": 5,
     "metadata": {},
     "output_type": "execute_result"
    }
   ],
   "source": [
    "left_cities = list(set(cities).difference(set(handled_city_names)))\n",
    "len(left_cities)"
   ]
  },
  {
   "cell_type": "code",
   "execution_count": 6,
   "metadata": {},
   "outputs": [
    {
     "data": {
      "text/plain": [
       "array(['Заозёрск', 'Сертолово', 'Юрга', 'пос. Саянский', 'Ессентуки',\n",
       "       'Радужный', 'Карасук', 'Южноуральск', 'Изобильный', 'Можга',\n",
       "       'Таштагол', 'Сатка', 'Мыски', 'Касимов', 'Владивосток',\n",
       "       'Прохладный', 'Красногорск', 'Северобайкальск', 'Котельнич',\n",
       "       'Жуков', 'Киреевск', 'Щёкино', 'Тихорецк', 'Озерск',\n",
       "       'Санкт-Петербург', 'Североморск', 'Сызрань', 'Кушва', 'Кореновск',\n",
       "       'п. Магдагачи', 'Смоленск', 'Иркутск', 'Ейск', 'Лесосибирск',\n",
       "       'Верхняя Пышма', 'Славянск-на-Кубани', 'Вологда', 'Саратов',\n",
       "       'Южно-Сахалинск', 'Дзержинск', 'п. Междуреченский', 'Пыть-Ях',\n",
       "       'Сальск', 'Волжск', 'Светлоград', 'Тайшет', 'Полярные зори',\n",
       "       'Конаково', 'Ковров', 'Черемхово', 'Мурманск',\n",
       "       'пос. Персиановский', 'Ясный', 'Жуковский', 'Екатеринбург',\n",
       "       'Владикавказ', 'Первоуральск', 'Муравленко', 'Калуга', 'Печора',\n",
       "       'Жигулёвск', 'Покачи', 'Белореченск', 'Зубова Поляна', 'Завитинск',\n",
       "       'Берёзово', 'пгт. Новая Чара', 'Пойковский', 'Долгопрудный',\n",
       "       'Киров', 'Полярный', 'Тихвин', 'Звенигород', 'Коряжма',\n",
       "       'Сосновый Бор', 'Ирбит', 'д. Жуковка', 'Лабытнанги', 'Брянск',\n",
       "       'Иваново', 'Колпино', 'Каменка', 'Топки', 'Барабинск', 'Кропоткин',\n",
       "       'Семёнов', 'Канск', 'Щёлково', 'Дюртюли', 'Волхов',\n",
       "       'с. Красноселькуп', 'Ишимбай', 'Сестрорецк', 'Всеволожск',\n",
       "       'Торжок', 'Осинники', 'Псков', 'Красный Сулин', 'Пермь', 'Дубна',\n",
       "       'Заполярный', 'Донецк', 'Полевской', 'Канаш', 'Москва Октябрьский',\n",
       "       'Тербуны', 'Ишим', 'Орехово-Зуево', 'Лебедянь', 'Пугачёв',\n",
       "       'Избербаш', 'Туапсе', 'Переславль-Залесский', 'Ряжск', 'Одинцово',\n",
       "       'Свердловская Берёзовский', 'п. Тазовский', 'Коломна',\n",
       "       'Башкортостан Октябрьский', 'Кашира', 'Железнодорожный', 'Ржев',\n",
       "       'Россошь', 'Киселёвск', 'Белгород', 'Лесной', 'Миасс', 'Тосно',\n",
       "       'Вольск', 'п. Ерофей Павлович', 'Свободный', 'Ханты-Мансийск',\n",
       "       'пгт. Чернышевск', 'Шилка', 'Спасск-Дальний', 'Самара', 'Искитим',\n",
       "       'Ртищево', 'Райчихинск', 'Крымск', 'пгт. Промышленная', 'Когалым',\n",
       "       'п. Светлый', 'р.п. Сенной', 'Кингисепп', 'п. Таксимо',\n",
       "       'Куровское', 'Вязьма', 'Североуральск', 'Ставрополь', 'Лыткарино',\n",
       "       'Вилючинск', 'Салават', 'п. Излучинск', 'ст. Павловская',\n",
       "       'Тейково', 'Десногорск', 'Гусиноозёрск', 'Камень-на-Оби', 'Муром',\n",
       "       'Ялуторовск', 'Малиновский', 'Сарапул', 'п. Ванино', 'Сыктывкар',\n",
       "       'Краснокаменск', 'Павловский Посад', 'Павлово', 'Татарск',\n",
       "       'п. Мурино', 'Минеральные воды', 'Воркута', 'Донской', 'Чистополь',\n",
       "       'Димитровград', 'п. Новоорск', 'Северодвинск', 'Дальнегорск',\n",
       "       'Суворов', 'Клинцы', 'Северск', 'Камышлов', 'Кондопога',\n",
       "       'Вышний Волочёк', 'Тверь', 'Балабаново', 'Дивногорск',\n",
       "       'Нижний Тагил', 'Серпухов', 'Копейск', 'Белоярский',\n",
       "       'п. Свободный', 'Рязань', 'пгт. Карымское', 'Петрозаводск',\n",
       "       'п. Новый Ургал', 'Дмитров', 'Реутов', 'п. Придорожный',\n",
       "       'ЗАТО Сибирский', 'Саранск', 'Тимашевск', 'Лянтор', 'Ижевск',\n",
       "       'Дятьково', 'Элиста', 'Оленегорск', 'Ярославль', 'Кемь',\n",
       "       'Большой Камень', 'Старая Русса', 'Лысьва', 'р.п. Краснообск',\n",
       "       'Таганрог', 'Саяногорск', 'Кострома', 'Тюмень', 'р.п. Кольцово',\n",
       "       'Горноправдинск', 'Карабулак', 'Протвино', 'Соль-Илецк', 'Дедовск',\n",
       "       'Рузаевка', 'Ревда', 'Клин', 'Нововоронеж', 'Королёв',\n",
       "       'Дальнереченск', 'Хасавюрт', 'пгт. Забайкальск', 'Сегежа',\n",
       "       'Ступино', 'Рославль', 'Липецк', 'Корсаков', 'Сосногорск',\n",
       "       'Выборг', 'Выкса', 'Орск', 'Раменское', 'Колпашево', 'Жирновск',\n",
       "       'Люберцы', 'Зима', 'Обнинск', 'Тамбов', 'Красноуфимск', 'Талдом',\n",
       "       'Тайга', 'Первомайск', 'Сковородино', 'Красноармейск', 'Сафоново',\n",
       "       'Рыбинск', 'Егорьевск', 'Рубцовск', 'Шимановск', 'Ростов-на-Дону',\n",
       "       'Орёл', 'п. Голышманово', 'Ленинск-Кузнецкий', 'Югорск',\n",
       "       'Сосновоборск', 'Пятигорск', 'Якутск', 'Ивантеевка', 'Советск',\n",
       "       'Коркино', 'п. Айхал', 'Казань', 'Стерлитамак', 'Тара', 'Сердобск',\n",
       "       'Воткинск', 'Слободской', 'Сергиев Посад', 'Великие Луки',\n",
       "       'Исилькуль', 'Темрюк', 'Игрим', 'Серов', 'Тулун', 'Краснодар',\n",
       "       'ст. Талица', 'Пушкино', 'Железногорск', 'Рассказово', 'Лиски',\n",
       "       'Волгодонск', 'Дзержинский', 'Кольчугино', 'Омск', 'Пенза',\n",
       "       'Истра', 'Домодедово', 'Сасово', 'Кемеровская Берёзовский',\n",
       "       'Кяхта', 'Прокопьевск', 'Льгов', 'Тула', 'Саянск', 'Лесозаводск',\n",
       "       'Пушкин', 'Иланский', 'Тамань', 'Сочи', 'Калачинск', 'Сургут',\n",
       "       'Старый Оскол', 'Кандалакша', 'Людиново', 'Комсомольск-на-Амуре',\n",
       "       'Томск'], dtype='<U24')"
      ]
     },
     "execution_count": 6,
     "metadata": {},
     "output_type": "execute_result"
    }
   ],
   "source": [
    "np.array(left_cities)"
   ]
  },
  {
   "cell_type": "code",
   "execution_count": 8,
   "metadata": {},
   "outputs": [
    {
     "data": {
      "text/plain": [
       "'Шахунья'"
      ]
     },
     "execution_count": 8,
     "metadata": {},
     "output_type": "execute_result"
    }
   ],
   "source": [
    "city_names[11]"
   ]
  },
  {
   "cell_type": "code",
   "execution_count": 5,
   "metadata": {},
   "outputs": [
    {
     "data": {
      "text/plain": [
       "833"
      ]
     },
     "execution_count": 5,
     "metadata": {},
     "output_type": "execute_result"
    }
   ],
   "source": [
    "# path = '../links/links_backup_alfa_sber/sberbank/link_Москва.pkl'\n",
    "path = '../new_links/links_Москва.pickle'\n",
    "with open(path, 'rb') as f:\n",
    "    all_hrefs = pickle.load(f)\n",
    "len(all_hrefs)"
   ]
  },
  {
   "cell_type": "code",
   "execution_count": 8,
   "metadata": {},
   "outputs": [
    {
     "data": {
      "text/plain": [
       "['https://yandex.ru/maps/org/sberbank/1006432309/']"
      ]
     },
     "execution_count": 8,
     "metadata": {},
     "output_type": "execute_result"
    }
   ],
   "source": [
    "[i for i in all_hrefs if \"1006432309\" in i]"
   ]
  },
  {
   "cell_type": "code",
   "execution_count": 6,
   "metadata": {},
   "outputs": [
    {
     "name": "stdout",
     "output_type": "stream",
     "text": [
      "jk\n"
     ]
    }
   ],
   "source": [
    "# 1056287893  in all_hrefs\n",
    "\n",
    "if any(\"1006432309\" in s for s in all_hrefs):\n",
    "    print('jk')"
   ]
  },
  {
   "cell_type": "code",
   "execution_count": 11,
   "metadata": {},
   "outputs": [
    {
     "data": {
      "text/plain": [
       "'https://yandex.ru/maps/org/sberbank/1006432309'"
      ]
     },
     "execution_count": 11,
     "metadata": {},
     "output_type": "execute_result"
    }
   ],
   "source": [
    "all_hrefs[-1]"
   ]
  },
  {
   "cell_type": "code",
   "execution_count": 7,
   "metadata": {},
   "outputs": [
    {
     "data": {
      "text/plain": [
       "'https://yandex.ru/maps/org/sberbank/1006432309'"
      ]
     },
     "execution_count": 7,
     "metadata": {},
     "output_type": "execute_result"
    }
   ],
   "source": [
    "all_hrefs.append('https://yandex.ru/maps/org/sberbank/1006432309')\n",
    "all_hrefs[-1]"
   ]
  },
  {
   "cell_type": "code",
   "execution_count": 8,
   "metadata": {},
   "outputs": [],
   "source": [
    "with open('../links/links_backup_alfa_sber/sberbank/link_Москва.pkl', 'wb') as handle:\n",
    "        pickle.dump(all_hrefs, handle)"
   ]
  },
  {
   "cell_type": "code",
   "execution_count": null,
   "metadata": {},
   "outputs": [],
   "source": []
  },
  {
   "cell_type": "code",
   "execution_count": 2,
   "metadata": {},
   "outputs": [
    {
     "data": {
      "text/html": [
       "<div>\n",
       "<style scoped>\n",
       "    .dataframe tbody tr th:only-of-type {\n",
       "        vertical-align: middle;\n",
       "    }\n",
       "\n",
       "    .dataframe tbody tr th {\n",
       "        vertical-align: top;\n",
       "    }\n",
       "\n",
       "    .dataframe thead th {\n",
       "        text-align: right;\n",
       "    }\n",
       "</style>\n",
       "<table border=\"1\" class=\"dataframe\">\n",
       "  <thead>\n",
       "    <tr style=\"text-align: right;\">\n",
       "      <th></th>\n",
       "      <th>ID</th>\n",
       "      <th>name</th>\n",
       "      <th>region</th>\n",
       "      <th>city</th>\n",
       "      <th>address</th>\n",
       "      <th>opening_hours</th>\n",
       "      <th>lat</th>\n",
       "      <th>lon</th>\n",
       "      <th>rating</th>\n",
       "      <th>service</th>\n",
       "      <th>...</th>\n",
       "      <th>location</th>\n",
       "      <th>deposit</th>\n",
       "      <th>insurance</th>\n",
       "      <th>atmosphere</th>\n",
       "      <th>cleanliness</th>\n",
       "      <th>interior</th>\n",
       "      <th>queue</th>\n",
       "      <th>repair</th>\n",
       "      <th>mortgage</th>\n",
       "      <th>load_time</th>\n",
       "    </tr>\n",
       "  </thead>\n",
       "  <tbody>\n",
       "    <tr>\n",
       "      <th>676</th>\n",
       "      <td>sberbank/1121365671</td>\n",
       "      <td>СберБанк</td>\n",
       "      <td>Москва</td>\n",
       "      <td>Москва</td>\n",
       "      <td>ул. Лескова, 30, Москва</td>\n",
       "      <td>'mon': 08:30-19:30, 'tue': 08:30-19:30, 'wed':...</td>\n",
       "      <td>55.892799</td>\n",
       "      <td>37.616531</td>\n",
       "      <td>4.4</td>\n",
       "      <td>NaN</td>\n",
       "      <td>...</td>\n",
       "      <td>100.0</td>\n",
       "      <td>NaN</td>\n",
       "      <td>NaN</td>\n",
       "      <td>NaN</td>\n",
       "      <td>NaN</td>\n",
       "      <td>NaN</td>\n",
       "      <td>NaN</td>\n",
       "      <td>NaN</td>\n",
       "      <td>NaN</td>\n",
       "      <td>2024-09-19 07:55:07</td>\n",
       "    </tr>\n",
       "  </tbody>\n",
       "</table>\n",
       "<p>1 rows × 25 columns</p>\n",
       "</div>"
      ],
      "text/plain": [
       "                      ID      name  region    city                  address  \\\n",
       "676  sberbank/1121365671  СберБанк  Москва  Москва  ул. Лескова, 30, Москва   \n",
       "\n",
       "                                         opening_hours        lat        lon  \\\n",
       "676  'mon': 08:30-19:30, 'tue': 08:30-19:30, 'wed':...  55.892799  37.616531   \n",
       "\n",
       "     rating  service  ...  location  deposit  insurance  atmosphere  \\\n",
       "676     4.4      NaN  ...     100.0      NaN        NaN         NaN   \n",
       "\n",
       "     cleanliness  interior  queue  repair  mortgage            load_time  \n",
       "676          NaN       NaN    NaN     NaN       NaN  2024-09-19 07:55:07  \n",
       "\n",
       "[1 rows x 25 columns]"
      ]
     },
     "execution_count": 2,
     "metadata": {},
     "output_type": "execute_result"
    }
   ],
   "source": [
    "df = pd.read_csv('../info_all/yndx_info_sberbank.csv', sep=';')\n",
    "df.sample()"
   ]
  },
  {
   "cell_type": "code",
   "execution_count": null,
   "metadata": {},
   "outputs": [],
   "source": []
  },
  {
   "cell_type": "code",
   "execution_count": 3,
   "metadata": {},
   "outputs": [
    {
     "data": {
      "text/plain": [
       "919"
      ]
     },
     "execution_count": 3,
     "metadata": {},
     "output_type": "execute_result"
    }
   ],
   "source": [
    "len(df)"
   ]
  },
  {
   "cell_type": "code",
   "execution_count": 4,
   "metadata": {},
   "outputs": [
    {
     "data": {
      "text/plain": [
       "591"
      ]
     },
     "execution_count": 4,
     "metadata": {},
     "output_type": "execute_result"
    }
   ],
   "source": [
    "len(np.unique(df['city']))"
   ]
  },
  {
   "cell_type": "code",
   "execution_count": 30,
   "metadata": {},
   "outputs": [
    {
     "data": {
      "text/plain": [
       "'Ангарск'"
      ]
     },
     "execution_count": 30,
     "metadata": {},
     "output_type": "execute_result"
    }
   ],
   "source": [
    "city = random.choice(np.unique(df['city']))\n",
    "city"
   ]
  },
  {
   "cell_type": "code",
   "execution_count": 5,
   "metadata": {},
   "outputs": [
    {
     "data": {
      "text/plain": [
       "919"
      ]
     },
     "execution_count": 5,
     "metadata": {},
     "output_type": "execute_result"
    }
   ],
   "source": [
    "len(np.unique(df['ID']))"
   ]
  },
  {
   "cell_type": "code",
   "execution_count": 35,
   "metadata": {},
   "outputs": [
    {
     "data": {
      "text/plain": [
       "1"
      ]
     },
     "execution_count": 35,
     "metadata": {},
     "output_type": "execute_result"
    }
   ],
   "source": [
    "import pickle\n",
    "with open(f'../links/sberbank/link_{city}.pkl', 'rb') as f:\n",
    "    all_hrefs = pickle.load(f)\n",
    "len(all_hrefs) # 414"
   ]
  },
  {
   "cell_type": "code",
   "execution_count": 34,
   "metadata": {},
   "outputs": [
    {
     "data": {
      "text/plain": [
       "1"
      ]
     },
     "execution_count": 34,
     "metadata": {},
     "output_type": "execute_result"
    }
   ],
   "source": []
  },
  {
   "cell_type": "code",
   "execution_count": 18,
   "metadata": {},
   "outputs": [
    {
     "name": "stdout",
     "output_type": "stream",
     "text": [
      "<_io.BufferedReader name='../links/alfa_bank/link_Звенигово.pkl'>\n",
      "<_io.BufferedReader name='../links/alfa_bank/.DS_Store'>\n"
     ]
    }
   ],
   "source": [
    "from os import listdir\n",
    "from os.path import isfile, join\n",
    "\n",
    "links_path = f'../links/alfa_bank/'\n",
    "only_links_files = [f for f in listdir(links_path) if isfile(join(links_path, f))]\n",
    "\n",
    "for f in only_links_files:\n",
    "\n",
    "    try:\n",
    "    \n",
    "        p = '../links/alfa_bank/' + f\n",
    "        \n",
    "        with open(p, 'rb') as f:\n",
    "            all_hrefs = pickle.load(f)\n",
    "    \n",
    "        new_refs = [refs.replace('{bank_name}', 'alfa_bank')  for refs in all_hrefs]\n",
    "        \n",
    "        with open(p, 'wb') as handle:\n",
    "            pickle.dump(new_refs, handle)\n",
    "    except:\n",
    "        print(f)\n",
    "\n",
    "        "
   ]
  },
  {
   "cell_type": "code",
   "execution_count": 21,
   "metadata": {},
   "outputs": [
    {
     "data": {
      "text/plain": [
       "['https://yandex.ru/maps/org/alfa_bank/97853639834',\n",
       " 'https://yandex.ru/maps/org/alfa_bank/203411068455',\n",
       " 'https://yandex.ru/maps/org/alfa_bank/56586818540',\n",
       " 'https://yandex.ru/maps/org/alfa_bank/1061556597',\n",
       " 'https://yandex.ru/maps/org/alfa_bank/61225441096',\n",
       " 'https://yandex.ru/maps/org/alfa_bank/150348626165',\n",
       " 'https://yandex.ru/maps/org/alfa_bank/185369707954',\n",
       " 'https://yandex.ru/maps/org/alfa_bank/73419427780',\n",
       " 'https://yandex.ru/maps/org/alfa_bank/107518028325',\n",
       " 'https://yandex.ru/maps/org/alfa_bank/1318665127',\n",
       " 'https://yandex.ru/maps/org/alfa_bank/1152425281',\n",
       " 'https://yandex.ru/maps/org/alfa_bank/1066499300',\n",
       " 'https://yandex.ru/maps/org/alfa_bank/1688718057',\n",
       " 'https://yandex.ru/maps/org/alfa_bank/1008428784',\n",
       " 'https://yandex.ru/maps/org/alfa_bank/1180569314',\n",
       " 'https://yandex.ru/maps/org/alfa_bank/74527019611',\n",
       " 'https://yandex.ru/maps/org/alfa_bank/135440115187',\n",
       " 'https://yandex.ru/maps/org/alfa_bank/1184112859',\n",
       " 'https://yandex.ru/maps/org/alfa_bank/91699299995',\n",
       " 'https://yandex.ru/maps/org/alfa_bank/217601592560',\n",
       " 'https://yandex.ru/maps/org/alfa_bank/31839489013',\n",
       " 'https://yandex.ru/maps/org/alfa_bank/1061346448',\n",
       " 'https://yandex.ru/maps/org/alfa_bank/1049195804',\n",
       " 'https://yandex.ru/maps/org/alfa_bank/1578298930',\n",
       " 'https://yandex.ru/maps/org/alfa_bank/111745564445']"
      ]
     },
     "execution_count": 21,
     "metadata": {},
     "output_type": "execute_result"
    }
   ],
   "source": [
    "all_hrefs"
   ]
  },
  {
   "cell_type": "code",
   "execution_count": null,
   "metadata": {},
   "outputs": [],
   "source": []
  }
 ],
 "metadata": {
  "kernelspec": {
   "display_name": "Python 3 (ipykernel)",
   "language": "python",
   "name": "python3"
  },
  "language_info": {
   "codemirror_mode": {
    "name": "ipython",
    "version": 3
   },
   "file_extension": ".py",
   "mimetype": "text/x-python",
   "name": "python",
   "nbconvert_exporter": "python",
   "pygments_lexer": "ipython3",
   "version": "3.9.18"
  }
 },
 "nbformat": 4,
 "nbformat_minor": 4
}
