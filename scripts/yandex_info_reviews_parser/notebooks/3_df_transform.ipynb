{
 "cells": [
  {
   "cell_type": "code",
   "execution_count": 1,
   "metadata": {},
   "outputs": [],
   "source": [
    "import pandas as pd\n",
    "import numpy as np\n",
    "from os import listdir\n",
    "from os.path import isfile, join\n",
    "import random\n",
    "import pickle"
   ]
  },
  {
   "cell_type": "code",
   "execution_count": 9,
   "metadata": {},
   "outputs": [],
   "source": [
    "with open(f'../cities_code_dict.pickle', 'rb') as handle:\n",
    "    cities_code_dict = pickle.load(handle)\n",
    "cities_code_dict['Ивантеевка'] = '21623/ivanteevka'\n",
    "\n",
    "with open(f'../cities_code_dict.pickle', 'wb') as handle:\n",
    "    pickle.dump(cities_code_dict, handle)"
   ]
  },
  {
   "cell_type": "code",
   "execution_count": 2,
   "metadata": {},
   "outputs": [
    {
     "data": {
      "text/html": [
       "<div>\n",
       "<style scoped>\n",
       "    .dataframe tbody tr th:only-of-type {\n",
       "        vertical-align: middle;\n",
       "    }\n",
       "\n",
       "    .dataframe tbody tr th {\n",
       "        vertical-align: top;\n",
       "    }\n",
       "\n",
       "    .dataframe thead th {\n",
       "        text-align: right;\n",
       "    }\n",
       "</style>\n",
       "<table border=\"1\" class=\"dataframe\">\n",
       "  <thead>\n",
       "    <tr style=\"text-align: right;\">\n",
       "      <th></th>\n",
       "      <th>ID</th>\n",
       "      <th>name</th>\n",
       "      <th>region</th>\n",
       "      <th>city</th>\n",
       "      <th>address</th>\n",
       "      <th>opening_hours</th>\n",
       "      <th>lat</th>\n",
       "      <th>lon</th>\n",
       "      <th>rating</th>\n",
       "      <th>service</th>\n",
       "      <th>...</th>\n",
       "      <th>location</th>\n",
       "      <th>deposit</th>\n",
       "      <th>insurance</th>\n",
       "      <th>atmosphere</th>\n",
       "      <th>cleanliness</th>\n",
       "      <th>interior</th>\n",
       "      <th>queue</th>\n",
       "      <th>repair</th>\n",
       "      <th>mortgage</th>\n",
       "      <th>load_time</th>\n",
       "    </tr>\n",
       "  </thead>\n",
       "  <tbody>\n",
       "    <tr>\n",
       "      <th>826</th>\n",
       "      <td>sberbank/1077759704</td>\n",
       "      <td>СберБанк</td>\n",
       "      <td>Кемеровская область</td>\n",
       "      <td>Осинники</td>\n",
       "      <td>ул. Революции, 23, Осинники</td>\n",
       "      <td>'mon': 08:30-18:30, 'tue': 08:30-18:30, 'wed':...</td>\n",
       "      <td>53.594559</td>\n",
       "      <td>87.33131</td>\n",
       "      <td>4.4</td>\n",
       "      <td>NaN</td>\n",
       "      <td>...</td>\n",
       "      <td>NaN</td>\n",
       "      <td>NaN</td>\n",
       "      <td>NaN</td>\n",
       "      <td>NaN</td>\n",
       "      <td>NaN</td>\n",
       "      <td>NaN</td>\n",
       "      <td>NaN</td>\n",
       "      <td>NaN</td>\n",
       "      <td>NaN</td>\n",
       "      <td>2024-09-19 11:09:48</td>\n",
       "    </tr>\n",
       "  </tbody>\n",
       "</table>\n",
       "<p>1 rows × 25 columns</p>\n",
       "</div>"
      ],
      "text/plain": [
       "                      ID      name               region      city  \\\n",
       "826  sberbank/1077759704  СберБанк  Кемеровская область  Осинники   \n",
       "\n",
       "                         address  \\\n",
       "826  ул. Революции, 23, Осинники   \n",
       "\n",
       "                                         opening_hours        lat       lon  \\\n",
       "826  'mon': 08:30-18:30, 'tue': 08:30-18:30, 'wed':...  53.594559  87.33131   \n",
       "\n",
       "     rating  service  ...  location  deposit  insurance  atmosphere  \\\n",
       "826     4.4      NaN  ...       NaN      NaN        NaN         NaN   \n",
       "\n",
       "     cleanliness  interior  queue  repair  mortgage            load_time  \n",
       "826          NaN       NaN    NaN     NaN       NaN  2024-09-19 11:09:48  \n",
       "\n",
       "[1 rows x 25 columns]"
      ]
     },
     "execution_count": 2,
     "metadata": {},
     "output_type": "execute_result"
    }
   ],
   "source": [
    "df = pd.read_csv('../info_all/bank/yndx_info_sberbank.csv', sep=';')\n",
    "df.sample()"
   ]
  },
  {
   "cell_type": "code",
   "execution_count": 10,
   "metadata": {},
   "outputs": [
    {
     "data": {
      "text/plain": [
       "1"
      ]
     },
     "execution_count": 10,
     "metadata": {},
     "output_type": "execute_result"
    }
   ],
   "source": [
    "city_name = 'Краснодар'\n",
    "len(df[df['city'] == city_name])"
   ]
  },
  {
   "cell_type": "code",
   "execution_count": 13,
   "metadata": {},
   "outputs": [
    {
     "data": {
      "text/html": [
       "<div>\n",
       "<style scoped>\n",
       "    .dataframe tbody tr th:only-of-type {\n",
       "        vertical-align: middle;\n",
       "    }\n",
       "\n",
       "    .dataframe tbody tr th {\n",
       "        vertical-align: top;\n",
       "    }\n",
       "\n",
       "    .dataframe thead th {\n",
       "        text-align: right;\n",
       "    }\n",
       "</style>\n",
       "<table border=\"1\" class=\"dataframe\">\n",
       "  <thead>\n",
       "    <tr style=\"text-align: right;\">\n",
       "      <th></th>\n",
       "      <th>ID</th>\n",
       "      <th>name</th>\n",
       "      <th>region</th>\n",
       "      <th>city</th>\n",
       "      <th>address</th>\n",
       "      <th>opening_hours</th>\n",
       "      <th>lat</th>\n",
       "      <th>lon</th>\n",
       "      <th>rating</th>\n",
       "      <th>service</th>\n",
       "      <th>...</th>\n",
       "      <th>location</th>\n",
       "      <th>deposit</th>\n",
       "      <th>insurance</th>\n",
       "      <th>atmosphere</th>\n",
       "      <th>cleanliness</th>\n",
       "      <th>interior</th>\n",
       "      <th>queue</th>\n",
       "      <th>repair</th>\n",
       "      <th>mortgage</th>\n",
       "      <th>load_time</th>\n",
       "    </tr>\n",
       "  </thead>\n",
       "  <tbody>\n",
       "    <tr>\n",
       "      <th>849</th>\n",
       "      <td>sberbank/1108341202</td>\n",
       "      <td>СберБанк</td>\n",
       "      <td>Краснодарский край</td>\n",
       "      <td>Краснодар</td>\n",
       "      <td>Красная ул., 160, Краснодар</td>\n",
       "      <td>'mon': 10:00-19:00, 'tue': 10:00-19:00, 'wed':...</td>\n",
       "      <td>45.039808</td>\n",
       "      <td>38.976454</td>\n",
       "      <td>4.4</td>\n",
       "      <td>NaN</td>\n",
       "      <td>...</td>\n",
       "      <td>95.0</td>\n",
       "      <td>NaN</td>\n",
       "      <td>NaN</td>\n",
       "      <td>NaN</td>\n",
       "      <td>NaN</td>\n",
       "      <td>NaN</td>\n",
       "      <td>NaN</td>\n",
       "      <td>NaN</td>\n",
       "      <td>NaN</td>\n",
       "      <td>2024-09-19 06:26:25</td>\n",
       "    </tr>\n",
       "  </tbody>\n",
       "</table>\n",
       "<p>1 rows × 25 columns</p>\n",
       "</div>"
      ],
      "text/plain": [
       "                      ID      name              region       city  \\\n",
       "849  sberbank/1108341202  СберБанк  Краснодарский край  Краснодар   \n",
       "\n",
       "                         address  \\\n",
       "849  Красная ул., 160, Краснодар   \n",
       "\n",
       "                                         opening_hours        lat        lon  \\\n",
       "849  'mon': 10:00-19:00, 'tue': 10:00-19:00, 'wed':...  45.039808  38.976454   \n",
       "\n",
       "     rating  service  ...  location  deposit  insurance  atmosphere  \\\n",
       "849     4.4      NaN  ...      95.0      NaN        NaN         NaN   \n",
       "\n",
       "     cleanliness  interior  queue  repair  mortgage            load_time  \n",
       "849          NaN       NaN    NaN     NaN       NaN  2024-09-19 06:26:25  \n",
       "\n",
       "[1 rows x 25 columns]"
      ]
     },
     "execution_count": 13,
     "metadata": {},
     "output_type": "execute_result"
    }
   ],
   "source": [
    "df[df['city'] == city_name]"
   ]
  },
  {
   "cell_type": "code",
   "execution_count": 2,
   "metadata": {},
   "outputs": [
    {
     "ename": "NameError",
     "evalue": "name 'city_name' is not defined",
     "output_type": "error",
     "traceback": [
      "\u001b[0;31m---------------------------------------------------------------------------\u001b[0m",
      "\u001b[0;31mNameError\u001b[0m                                 Traceback (most recent call last)",
      "Cell \u001b[0;32mIn[2], line 1\u001b[0m\n\u001b[0;32m----> 1\u001b[0m path \u001b[38;5;241m=\u001b[39m \u001b[38;5;124mf\u001b[39m\u001b[38;5;124m'\u001b[39m\u001b[38;5;124m../new_links/bank/links_\u001b[39m\u001b[38;5;132;01m{\u001b[39;00mcity_name\u001b[38;5;132;01m}\u001b[39;00m\u001b[38;5;124m.pickle\u001b[39m\u001b[38;5;124m'\u001b[39m\n\u001b[1;32m      2\u001b[0m \u001b[38;5;28mprint\u001b[39m(path)\n\u001b[1;32m      4\u001b[0m \u001b[38;5;28;01mwith\u001b[39;00m \u001b[38;5;28mopen\u001b[39m(path, \u001b[38;5;124m'\u001b[39m\u001b[38;5;124mrb\u001b[39m\u001b[38;5;124m'\u001b[39m) \u001b[38;5;28;01mas\u001b[39;00m f:\n",
      "\u001b[0;31mNameError\u001b[0m: name 'city_name' is not defined"
     ]
    }
   ],
   "source": [
    "path = f'../new_links/bank/links_{city_name}.pickle'\n",
    "print(path)\n",
    "\n",
    "with open(path, 'rb') as f:\n",
    "    all_hrefs = pickle.load(f)\n",
    "len(all_hrefs)"
   ]
  },
  {
   "cell_type": "code",
   "execution_count": 15,
   "metadata": {},
   "outputs": [
    {
     "data": {
      "text/plain": [
       "20"
      ]
     },
     "execution_count": 15,
     "metadata": {},
     "output_type": "execute_result"
    }
   ],
   "source": [
    "all_hrefs = list(all_hrefs)\n",
    "sber = [i for i in all_hrefs if 'sber' in i]\n",
    "len(sber)"
   ]
  },
  {
   "cell_type": "code",
   "execution_count": 17,
   "metadata": {},
   "outputs": [
    {
     "data": {
      "text/plain": [
       "['https://yandex.ru/maps/org/a_klub/138974450832/',\n",
       " 'https://yandex.ru/maps/org/absolyut_bank/181790288316/',\n",
       " 'https://yandex.ru/maps/org/ak_bars_bank/223524626351/',\n",
       " 'https://yandex.ru/maps/org/ak_bars_bank/84977132694/',\n",
       " 'https://yandex.ru/maps/org/alfa_bank/1008428784/',\n",
       " 'https://yandex.ru/maps/org/alfa_bank/116687636390/',\n",
       " 'https://yandex.ru/maps/org/alfa_bank/1180569314/',\n",
       " 'https://yandex.ru/maps/org/alfa_bank/1688718057/',\n",
       " 'https://yandex.ru/maps/org/alfa_bank/169265348199/',\n",
       " 'https://yandex.ru/maps/org/alfa_bank/180499219054/',\n",
       " 'https://yandex.ru/maps/org/alfa_bank/74527019611/',\n",
       " 'https://yandex.ru/maps/org/alfa_ipoteka/191268096116/',\n",
       " 'https://yandex.ru/maps/org/alfa_private_krasnodar_kreditno_kassovy_ofis/113257756725/',\n",
       " 'https://yandex.ru/maps/org/bank_avangard/1211157307/',\n",
       " 'https://yandex.ru/maps/org/bank_avangard/1321568917/',\n",
       " 'https://yandex.ru/maps/org/bank_dom_rf/62937866728/',\n",
       " 'https://yandex.ru/maps/org/bank_finam/1263091560/',\n",
       " 'https://yandex.ru/maps/org/bank_inteza/1121561092/',\n",
       " 'https://yandex.ru/maps/org/bank_inteza/1688997182/',\n",
       " 'https://yandex.ru/maps/org/bank_kuban_kredit/1036854960/',\n",
       " 'https://yandex.ru/maps/org/bank_kuban_kredit/1037567800/',\n",
       " 'https://yandex.ru/maps/org/bank_kuban_kredit/104586335901/',\n",
       " 'https://yandex.ru/maps/org/bank_kuban_kredit/1088344071/',\n",
       " 'https://yandex.ru/maps/org/bank_kuban_kredit/1094818976/',\n",
       " 'https://yandex.ru/maps/org/bank_kuban_kredit/119487978141/',\n",
       " 'https://yandex.ru/maps/org/bank_kuban_kredit/1234732033/',\n",
       " 'https://yandex.ru/maps/org/bank_kuban_kredit/1388218928/',\n",
       " 'https://yandex.ru/maps/org/bank_kuban_kredit/1517110136/',\n",
       " 'https://yandex.ru/maps/org/bank_kuban_kredit/1728974043/',\n",
       " 'https://yandex.ru/maps/org/bank_kuban_kredit/196573348546/',\n",
       " 'https://yandex.ru/maps/org/bank_kuban_kredit/198931755410/',\n",
       " 'https://yandex.ru/maps/org/bank_kuban_kredit/229411329501/',\n",
       " 'https://yandex.ru/maps/org/bank_otkrytiye/125087169675/',\n",
       " 'https://yandex.ru/maps/org/bank_otkrytiye/204865136699/',\n",
       " 'https://yandex.ru/maps/org/bank_rnkb/127086176032/',\n",
       " 'https://yandex.ru/maps/org/bank_rnkb/139935694847/',\n",
       " 'https://yandex.ru/maps/org/bank_rnkb/16387426198/',\n",
       " 'https://yandex.ru/maps/org/bank_rossiya/64787755302/',\n",
       " 'https://yandex.ru/maps/org/bank_russkiy_standart/1296203928/',\n",
       " 'https://yandex.ru/maps/org/bank_russkiy_standart/1375160975/',\n",
       " 'https://yandex.ru/maps/org/bank_sankt_peterburg/135364779070/',\n",
       " 'https://yandex.ru/maps/org/bank_sinara/121320373951/',\n",
       " 'https://yandex.ru/maps/org/bank_uralsib/1134349844/',\n",
       " 'https://yandex.ru/maps/org/bank_uralsib/1161658954/',\n",
       " 'https://yandex.ru/maps/org/bank_uralsib/56211237463/',\n",
       " 'https://yandex.ru/maps/org/bank_uralsib/87817978806/',\n",
       " 'https://yandex.ru/maps/org/bank_vtb/1025281722/',\n",
       " 'https://yandex.ru/maps/org/bank_vtb/1097029654/',\n",
       " 'https://yandex.ru/maps/org/bank_vtb/1179011486/',\n",
       " 'https://yandex.ru/maps/org/bank_vtb/1231399260/',\n",
       " 'https://yandex.ru/maps/org/bank_vtb/138806887578/',\n",
       " 'https://yandex.ru/maps/org/bank_vtb/152943943068/',\n",
       " 'https://yandex.ru/maps/org/bank_vtb/20492258447/',\n",
       " 'https://yandex.ru/maps/org/bank_vtb/207480390808/',\n",
       " 'https://yandex.ru/maps/org/bank_vtb/37277008335/',\n",
       " 'https://yandex.ru/maps/org/bank_vtb/48002977228/',\n",
       " 'https://yandex.ru/maps/org/bank_vtb/53814647144/',\n",
       " 'https://yandex.ru/maps/org/bbr_bank/1709571906/',\n",
       " 'https://yandex.ru/maps/org/bbr_bank/1718134182/',\n",
       " 'https://yandex.ru/maps/org/bks_mir_investitsiy/36427609070/',\n",
       " 'https://yandex.ru/maps/org/dengi_pod_zalog_nedvizhimosti_i_avto/50656495291/',\n",
       " 'https://yandex.ru/maps/org/drayv_klik/1294053614/',\n",
       " 'https://yandex.ru/maps/org/fora_bank/1375664358/',\n",
       " 'https://yandex.ru/maps/org/fora_bank/200705428137/',\n",
       " 'https://yandex.ru/maps/org/gazenergobank/77099201189/',\n",
       " 'https://yandex.ru/maps/org/gazprombank/1140054115/',\n",
       " 'https://yandex.ru/maps/org/gazprombank/67421246109/',\n",
       " 'https://yandex.ru/maps/org/gazprombank/80190181319/',\n",
       " 'https://yandex.ru/maps/org/gaztransbank/1208534570/',\n",
       " 'https://yandex.ru/maps/org/gaztransbank/148684484476/',\n",
       " 'https://yandex.ru/maps/org/gaztransbank/1717549801/',\n",
       " 'https://yandex.ru/maps/org/genbank/23352684867/',\n",
       " 'https://yandex.ru/maps/org/industrialny_sberegatelny_bank/181345271411/',\n",
       " 'https://yandex.ru/maps/org/ingosstrakh_bank/1234470267/',\n",
       " 'https://yandex.ru/maps/org/kredit_yevropa_bank/160943295383/',\n",
       " 'https://yandex.ru/maps/org/kubantorgbank/1357301494/',\n",
       " 'https://yandex.ru/maps/org/kubantorgbank/1751071668/',\n",
       " 'https://yandex.ru/maps/org/loko_bank/116858297196/',\n",
       " 'https://yandex.ru/maps/org/metallinvestbank/158305919226/',\n",
       " 'https://yandex.ru/maps/org/mts_bank/1743541148/',\n",
       " 'https://yandex.ru/maps/org/mts_bank/72031763777/',\n",
       " 'https://yandex.ru/maps/org/natsionalny_standart/1059228770/',\n",
       " 'https://yandex.ru/maps/org/noosfera/6065571051/',\n",
       " 'https://yandex.ru/maps/org/otp_bank/1237415412/',\n",
       " 'https://yandex.ru/maps/org/otp_bank/1608013479/',\n",
       " 'https://yandex.ru/maps/org/pochta_bank/114184846087/',\n",
       " 'https://yandex.ru/maps/org/pochta_bank/1227495126/',\n",
       " 'https://yandex.ru/maps/org/pochta_bank/153162763337/',\n",
       " 'https://yandex.ru/maps/org/pochta_bank/158806248651/',\n",
       " 'https://yandex.ru/maps/org/pochta_bank/16475562591/',\n",
       " 'https://yandex.ru/maps/org/pochta_bank/1681381556/',\n",
       " 'https://yandex.ru/maps/org/pochta_bank/1716901147/',\n",
       " 'https://yandex.ru/maps/org/pochta_bank/1721073868/',\n",
       " 'https://yandex.ru/maps/org/pochta_bank/1768023298/',\n",
       " 'https://yandex.ru/maps/org/pochta_bank/177430079039/',\n",
       " 'https://yandex.ru/maps/org/pochta_bank/208009064334/',\n",
       " 'https://yandex.ru/maps/org/pochta_bank/22416784056/',\n",
       " 'https://yandex.ru/maps/org/pochta_bank/224594391930/',\n",
       " 'https://yandex.ru/maps/org/pochta_bank/229745567585/',\n",
       " 'https://yandex.ru/maps/org/pochta_bank/4723822380/',\n",
       " 'https://yandex.ru/maps/org/pochta_bank/49651264841/',\n",
       " 'https://yandex.ru/maps/org/pochta_bank/8891959334/',\n",
       " 'https://yandex.ru/maps/org/promsvyazbank/1000400763/',\n",
       " 'https://yandex.ru/maps/org/promsvyazbank/1364484618/',\n",
       " 'https://yandex.ru/maps/org/promsvyazbank/162960899820/',\n",
       " 'https://yandex.ru/maps/org/promsvyazbank/221774238393/',\n",
       " 'https://yandex.ru/maps/org/rayffayzenbank/150010801432/',\n",
       " 'https://yandex.ru/maps/org/rayffayzenbank/234805517262/',\n",
       " 'https://yandex.ru/maps/org/realist_bank/102602272031/',\n",
       " 'https://yandex.ru/maps/org/renessans_bank/1758665522/',\n",
       " 'https://yandex.ru/maps/org/rosbank/122991542092/',\n",
       " 'https://yandex.ru/maps/org/rosdorbank/1085264991/',\n",
       " 'https://yandex.ru/maps/org/rosdorbank/1091938606/',\n",
       " 'https://yandex.ru/maps/org/rosselkhozbank/1093860798/',\n",
       " 'https://yandex.ru/maps/org/rosselkhozbank/1158177255/',\n",
       " 'https://yandex.ru/maps/org/rosselkhozbank/135739421011/',\n",
       " 'https://yandex.ru/maps/org/rosselkhozbank/157261364499/',\n",
       " 'https://yandex.ru/maps/org/rosselkhozbank/172315321397/',\n",
       " 'https://yandex.ru/maps/org/rosselkhozbank/42768933939/',\n",
       " 'https://yandex.ru/maps/org/russkiy_standart/214816327856/',\n",
       " 'https://yandex.ru/maps/org/sberbank/1000475320/',\n",
       " 'https://yandex.ru/maps/org/sberbank/1008478001/',\n",
       " 'https://yandex.ru/maps/org/sberbank/1019256948/',\n",
       " 'https://yandex.ru/maps/org/sberbank/1043628916/',\n",
       " 'https://yandex.ru/maps/org/sberbank/1055502271/',\n",
       " 'https://yandex.ru/maps/org/sberbank/1061941621/',\n",
       " 'https://yandex.ru/maps/org/sberbank/1062027761/',\n",
       " 'https://yandex.ru/maps/org/sberbank/1079049160/',\n",
       " 'https://yandex.ru/maps/org/sberbank/1108341202/',\n",
       " 'https://yandex.ru/maps/org/sberbank/1115474555/',\n",
       " 'https://yandex.ru/maps/org/sberbank/1119958097/',\n",
       " 'https://yandex.ru/maps/org/sberbank/1254153561/',\n",
       " 'https://yandex.ru/maps/org/sberbank/1263283744/',\n",
       " 'https://yandex.ru/maps/org/sberbank/13422974371/',\n",
       " 'https://yandex.ru/maps/org/sberbank/145424245397/',\n",
       " 'https://yandex.ru/maps/org/sberbank/168010845902/',\n",
       " 'https://yandex.ru/maps/org/sberbank/17694172180/',\n",
       " 'https://yandex.ru/maps/org/sberbank/196347662833/',\n",
       " 'https://yandex.ru/maps/org/sberpervy/27207628079/',\n",
       " 'https://yandex.ru/maps/org/skamya_primireniya/44302499731/',\n",
       " 'https://yandex.ru/maps/org/sovkombank/1039483143/',\n",
       " 'https://yandex.ru/maps/org/sovkombank/1100129487/',\n",
       " 'https://yandex.ru/maps/org/sovkombank/1113847856/',\n",
       " 'https://yandex.ru/maps/org/sovkombank/1234120772/',\n",
       " 'https://yandex.ru/maps/org/sovkombank/1258008003/',\n",
       " 'https://yandex.ru/maps/org/sovkombank/1324727793/',\n",
       " 'https://yandex.ru/maps/org/sovkombank/17472492538/',\n",
       " 'https://yandex.ru/maps/org/sovkombank/231799758493/',\n",
       " 'https://yandex.ru/maps/org/sovkombank/79024396992/',\n",
       " 'https://yandex.ru/maps/org/transkapitalbank/236232896966/',\n",
       " 'https://yandex.ru/maps/org/tsentr_invest/154206936533/',\n",
       " 'https://yandex.ru/maps/org/tsifra_bank/240189545113/',\n",
       " 'https://yandex.ru/maps/org/uralskiy_bank_rekonstruktsii_i_razvitiya/1419558676/',\n",
       " 'https://yandex.ru/maps/org/vesta_bank/169566859953/',\n",
       " 'https://yandex.ru/maps/org/vneshfinbank/194000212439/',\n",
       " 'https://yandex.ru/maps/org/vneshfinbank/96538857444/',\n",
       " 'https://yandex.ru/maps/org/vserossiyskiy_bank_razvitiya_regionov/1121117937/',\n",
       " 'https://yandex.ru/maps/org/vserossiyskiy_bank_razvitiya_regionov/1393870707/',\n",
       " 'https://yandex.ru/maps/org/yug_investbank/1025747537/',\n",
       " 'https://yandex.ru/maps/org/yug_investbank/1210092326/',\n",
       " 'https://yandex.ru/maps/org/yug_investbank/5240748347/',\n",
       " 'https://yandex.ru/maps/org/yug_investbank/7705874320/',\n",
       " 'https://yandex.ru/maps/org/yunikredit_bank/1160247961/',\n",
       " 'https://yandex.ru/maps/org/yunistrim/161856765111/',\n",
       " 'https://yandex.ru/maps/org/yunistrim/214402112295/',\n",
       " 'https://yandex.ru/maps/org/yuzhnoye_glavnoye_upravleniye_tsentralnogo_banka_rossiyskoy_federatsii/9786806690/']"
      ]
     },
     "execution_count": 17,
     "metadata": {},
     "output_type": "execute_result"
    }
   ],
   "source": [
    "sorted(all_hrefs)"
   ]
  },
  {
   "cell_type": "markdown",
   "metadata": {},
   "source": [
    "## "
   ]
  },
  {
   "cell_type": "code",
   "execution_count": 2,
   "metadata": {},
   "outputs": [
    {
     "data": {
      "text/plain": [
       "'links_Петергоф.pickle'"
      ]
     },
     "execution_count": 2,
     "metadata": {},
     "output_type": "execute_result"
    }
   ],
   "source": [
    "links_path = '../new_links/bank/'\n",
    "links_files = [f for f in listdir(links_path) if isfile(join(links_path, f))]\n",
    "\n",
    "links_files[1]"
   ]
  },
  {
   "cell_type": "code",
   "execution_count": 3,
   "metadata": {},
   "outputs": [
    {
     "data": {
      "text/plain": [
       "511"
      ]
     },
     "execution_count": 3,
     "metadata": {},
     "output_type": "execute_result"
    }
   ],
   "source": [
    "handled_city_names = []\n",
    "for f in links_files:\n",
    "    city_name = f.replace('links_', '').replace('.pickle', '')\n",
    "    handled_city_names.append(city_name)\n",
    "len(handled_city_names)"
   ]
  },
  {
   "cell_type": "code",
   "execution_count": 4,
   "metadata": {},
   "outputs": [
    {
     "data": {
      "text/plain": [
       "633"
      ]
     },
     "execution_count": 4,
     "metadata": {},
     "output_type": "execute_result"
    }
   ],
   "source": [
    "with open(f'../cities.txt') as f:\n",
    "    cities = [x.strip('\\n') for x in f ]\n",
    "len(cities)"
   ]
  },
  {
   "cell_type": "code",
   "execution_count": 5,
   "metadata": {},
   "outputs": [],
   "source": [
    "# with open(f'../cities_code_dict.pickle', 'rb') as handle:\n",
    "#     handled_city_names = pickle.load(handle)"
   ]
  },
  {
   "cell_type": "code",
   "execution_count": 6,
   "metadata": {},
   "outputs": [
    {
     "data": {
      "text/plain": [
       "122"
      ]
     },
     "execution_count": 6,
     "metadata": {},
     "output_type": "execute_result"
    }
   ],
   "source": [
    "left_cities = list(set(cities).difference(set(handled_city_names)))\n",
    "len(left_cities)"
   ]
  },
  {
   "cell_type": "code",
   "execution_count": 7,
   "metadata": {},
   "outputs": [
    {
     "data": {
      "text/plain": [
       "array(['Ивантеевка', 'р.п. Сенной', 'Волгодонск', 'Кашира', 'ст. Талица',\n",
       "       'п. Придорожный', 'п. Айхал', 'Ряжск', 'Дальнегорск', 'Ялуторовск',\n",
       "       'Лесозаводск', 'Рославль', 'Свердловская Берёзовский', 'Ярославль',\n",
       "       'Полярные зори', 'Коряжма', 'Малиновский', 'Орёл', 'п. Светлый',\n",
       "       'ЗАТО Сибирский', 'Оленегорск', 'Берёзово', 'Выборг', 'Волхов',\n",
       "       'Старая Русса', 'Льгов', 'Югорск', 'Дедовск', 'Железнодорожный',\n",
       "       'Белореченск', 'Тулун', 'Лесной', 'Соль-Илецк', 'Сертолово',\n",
       "       'Комсомольск-на-Амуре', 'ст. Павловская', 'Смоленск', 'Сатка',\n",
       "       'п. Магдагачи', 'пгт. Промышленная', 'Покачи', 'Жуковский',\n",
       "       'Рязань', 'Железногорск', 'Южноуральск', 'Кропоткин',\n",
       "       'Первоуральск', 'Шилка', 'Щёкино', 'Жирновск', 'Лысьва', 'Тула',\n",
       "       'Северобайкальск', 'р.п. Кольцово', 'Зима', 'Сосногорск',\n",
       "       'Кольчугино', 'Ирбит', 'п. Новый Ургал', 'п. Излучинск',\n",
       "       'Кемеровская Берёзовский', 'Орск', 'пгт. Новая Чара', 'Всеволожск',\n",
       "       'Донской', 'Хасавюрт', 'Южно-Сахалинск', 'пгт. Чернышевск',\n",
       "       'Салават', 'Москва Октябрьский', 'Сковородино', 'Егорьевск',\n",
       "       'п. Свободный', 'Когалым', 'Кореновск', 'Краснокаменск', 'Клинцы',\n",
       "       'Россошь', 'Ханты-Мансийск', 'п. Тазовский', 'Серпухов',\n",
       "       'пос. Персиановский', 'Лянтор', 'пос. Саянский', 'Нижний Тагил',\n",
       "       'п. Голышманово', 'пгт. Забайкальск', 'Тамбов', 'Конаково',\n",
       "       'с. Красноселькуп', 'Пойковский', 'Тамань', 'Игрим',\n",
       "       'р.п. Краснообск', 'Истра', 'Слободской', 'Ревда', 'Ишим',\n",
       "       'Тихвин', 'Горноправдинск', 'Ртищево', 'Башкортостан Октябрьский',\n",
       "       'Сыктывкар', 'Осинники', 'Тюмень', 'Пыть-Ях', 'Лыткарино',\n",
       "       'Торжок', 'д. Жуковка', 'п. Ерофей Павлович', 'п. Мурино',\n",
       "       'Кострома', 'Шимановск', 'Сердобск', 'п. Таксимо', 'Лабытнанги',\n",
       "       'п. Новоорск', 'Светлоград', 'Коркино', 'пгт. Карымское', 'Донецк',\n",
       "       'Старый Оскол'], dtype='<U24')"
      ]
     },
     "execution_count": 7,
     "metadata": {},
     "output_type": "execute_result"
    }
   ],
   "source": [
    "np.array(left_cities)"
   ]
  },
  {
   "cell_type": "code",
   "execution_count": 8,
   "metadata": {},
   "outputs": [
    {
     "data": {
      "text/plain": [
       "'Шахунья'"
      ]
     },
     "execution_count": 8,
     "metadata": {},
     "output_type": "execute_result"
    }
   ],
   "source": [
    "city_names[11]"
   ]
  },
  {
   "cell_type": "code",
   "execution_count": 5,
   "metadata": {},
   "outputs": [
    {
     "data": {
      "text/plain": [
       "833"
      ]
     },
     "execution_count": 5,
     "metadata": {},
     "output_type": "execute_result"
    }
   ],
   "source": [
    "# path = '../links/links_backup_alfa_sber/sberbank/link_Москва.pkl'\n",
    "path = '../new_links/links_Москва.pickle'\n",
    "with open(path, 'rb') as f:\n",
    "    all_hrefs = pickle.load(f)\n",
    "len(all_hrefs)"
   ]
  },
  {
   "cell_type": "code",
   "execution_count": 8,
   "metadata": {},
   "outputs": [
    {
     "data": {
      "text/plain": [
       "['https://yandex.ru/maps/org/sberbank/1006432309/']"
      ]
     },
     "execution_count": 8,
     "metadata": {},
     "output_type": "execute_result"
    }
   ],
   "source": [
    "[i for i in all_hrefs if \"1006432309\" in i]"
   ]
  },
  {
   "cell_type": "code",
   "execution_count": 6,
   "metadata": {},
   "outputs": [
    {
     "name": "stdout",
     "output_type": "stream",
     "text": [
      "jk\n"
     ]
    }
   ],
   "source": [
    "# 1056287893  in all_hrefs\n",
    "\n",
    "if any(\"1006432309\" in s for s in all_hrefs):\n",
    "    print('jk')"
   ]
  },
  {
   "cell_type": "code",
   "execution_count": 11,
   "metadata": {},
   "outputs": [
    {
     "data": {
      "text/plain": [
       "'https://yandex.ru/maps/org/sberbank/1006432309'"
      ]
     },
     "execution_count": 11,
     "metadata": {},
     "output_type": "execute_result"
    }
   ],
   "source": [
    "all_hrefs[-1]"
   ]
  },
  {
   "cell_type": "code",
   "execution_count": 7,
   "metadata": {},
   "outputs": [
    {
     "data": {
      "text/plain": [
       "'https://yandex.ru/maps/org/sberbank/1006432309'"
      ]
     },
     "execution_count": 7,
     "metadata": {},
     "output_type": "execute_result"
    }
   ],
   "source": [
    "all_hrefs.append('https://yandex.ru/maps/org/sberbank/1006432309')\n",
    "all_hrefs[-1]"
   ]
  },
  {
   "cell_type": "code",
   "execution_count": 8,
   "metadata": {},
   "outputs": [],
   "source": [
    "with open('../links/links_backup_alfa_sber/sberbank/link_Москва.pkl', 'wb') as handle:\n",
    "        pickle.dump(all_hrefs, handle)"
   ]
  },
  {
   "cell_type": "code",
   "execution_count": null,
   "metadata": {},
   "outputs": [],
   "source": []
  },
  {
   "cell_type": "code",
   "execution_count": 2,
   "metadata": {},
   "outputs": [
    {
     "data": {
      "text/html": [
       "<div>\n",
       "<style scoped>\n",
       "    .dataframe tbody tr th:only-of-type {\n",
       "        vertical-align: middle;\n",
       "    }\n",
       "\n",
       "    .dataframe tbody tr th {\n",
       "        vertical-align: top;\n",
       "    }\n",
       "\n",
       "    .dataframe thead th {\n",
       "        text-align: right;\n",
       "    }\n",
       "</style>\n",
       "<table border=\"1\" class=\"dataframe\">\n",
       "  <thead>\n",
       "    <tr style=\"text-align: right;\">\n",
       "      <th></th>\n",
       "      <th>ID</th>\n",
       "      <th>name</th>\n",
       "      <th>region</th>\n",
       "      <th>city</th>\n",
       "      <th>address</th>\n",
       "      <th>opening_hours</th>\n",
       "      <th>lat</th>\n",
       "      <th>lon</th>\n",
       "      <th>rating</th>\n",
       "      <th>service</th>\n",
       "      <th>...</th>\n",
       "      <th>location</th>\n",
       "      <th>deposit</th>\n",
       "      <th>insurance</th>\n",
       "      <th>atmosphere</th>\n",
       "      <th>cleanliness</th>\n",
       "      <th>interior</th>\n",
       "      <th>queue</th>\n",
       "      <th>repair</th>\n",
       "      <th>mortgage</th>\n",
       "      <th>load_time</th>\n",
       "    </tr>\n",
       "  </thead>\n",
       "  <tbody>\n",
       "    <tr>\n",
       "      <th>676</th>\n",
       "      <td>sberbank/1121365671</td>\n",
       "      <td>СберБанк</td>\n",
       "      <td>Москва</td>\n",
       "      <td>Москва</td>\n",
       "      <td>ул. Лескова, 30, Москва</td>\n",
       "      <td>'mon': 08:30-19:30, 'tue': 08:30-19:30, 'wed':...</td>\n",
       "      <td>55.892799</td>\n",
       "      <td>37.616531</td>\n",
       "      <td>4.4</td>\n",
       "      <td>NaN</td>\n",
       "      <td>...</td>\n",
       "      <td>100.0</td>\n",
       "      <td>NaN</td>\n",
       "      <td>NaN</td>\n",
       "      <td>NaN</td>\n",
       "      <td>NaN</td>\n",
       "      <td>NaN</td>\n",
       "      <td>NaN</td>\n",
       "      <td>NaN</td>\n",
       "      <td>NaN</td>\n",
       "      <td>2024-09-19 07:55:07</td>\n",
       "    </tr>\n",
       "  </tbody>\n",
       "</table>\n",
       "<p>1 rows × 25 columns</p>\n",
       "</div>"
      ],
      "text/plain": [
       "                      ID      name  region    city                  address  \\\n",
       "676  sberbank/1121365671  СберБанк  Москва  Москва  ул. Лескова, 30, Москва   \n",
       "\n",
       "                                         opening_hours        lat        lon  \\\n",
       "676  'mon': 08:30-19:30, 'tue': 08:30-19:30, 'wed':...  55.892799  37.616531   \n",
       "\n",
       "     rating  service  ...  location  deposit  insurance  atmosphere  \\\n",
       "676     4.4      NaN  ...     100.0      NaN        NaN         NaN   \n",
       "\n",
       "     cleanliness  interior  queue  repair  mortgage            load_time  \n",
       "676          NaN       NaN    NaN     NaN       NaN  2024-09-19 07:55:07  \n",
       "\n",
       "[1 rows x 25 columns]"
      ]
     },
     "execution_count": 2,
     "metadata": {},
     "output_type": "execute_result"
    }
   ],
   "source": [
    "df = pd.read_csv('../info_all/yndx_info_sberbank.csv', sep=';')\n",
    "df.sample()"
   ]
  },
  {
   "cell_type": "code",
   "execution_count": null,
   "metadata": {},
   "outputs": [],
   "source": []
  },
  {
   "cell_type": "code",
   "execution_count": 3,
   "metadata": {},
   "outputs": [
    {
     "data": {
      "text/plain": [
       "919"
      ]
     },
     "execution_count": 3,
     "metadata": {},
     "output_type": "execute_result"
    }
   ],
   "source": [
    "len(df)"
   ]
  },
  {
   "cell_type": "code",
   "execution_count": 4,
   "metadata": {},
   "outputs": [
    {
     "data": {
      "text/plain": [
       "591"
      ]
     },
     "execution_count": 4,
     "metadata": {},
     "output_type": "execute_result"
    }
   ],
   "source": [
    "len(np.unique(df['city']))"
   ]
  },
  {
   "cell_type": "code",
   "execution_count": 30,
   "metadata": {},
   "outputs": [
    {
     "data": {
      "text/plain": [
       "'Ангарск'"
      ]
     },
     "execution_count": 30,
     "metadata": {},
     "output_type": "execute_result"
    }
   ],
   "source": [
    "city = random.choice(np.unique(df['city']))\n",
    "city"
   ]
  },
  {
   "cell_type": "code",
   "execution_count": 5,
   "metadata": {},
   "outputs": [
    {
     "data": {
      "text/plain": [
       "919"
      ]
     },
     "execution_count": 5,
     "metadata": {},
     "output_type": "execute_result"
    }
   ],
   "source": [
    "len(np.unique(df['ID']))"
   ]
  },
  {
   "cell_type": "code",
   "execution_count": 35,
   "metadata": {},
   "outputs": [
    {
     "data": {
      "text/plain": [
       "1"
      ]
     },
     "execution_count": 35,
     "metadata": {},
     "output_type": "execute_result"
    }
   ],
   "source": [
    "import pickle\n",
    "with open(f'../links/sberbank/link_{city}.pkl', 'rb') as f:\n",
    "    all_hrefs = pickle.load(f)\n",
    "len(all_hrefs) # 414"
   ]
  },
  {
   "cell_type": "code",
   "execution_count": 34,
   "metadata": {},
   "outputs": [
    {
     "data": {
      "text/plain": [
       "1"
      ]
     },
     "execution_count": 34,
     "metadata": {},
     "output_type": "execute_result"
    }
   ],
   "source": []
  },
  {
   "cell_type": "code",
   "execution_count": 18,
   "metadata": {},
   "outputs": [
    {
     "name": "stdout",
     "output_type": "stream",
     "text": [
      "<_io.BufferedReader name='../links/alfa_bank/link_Звенигово.pkl'>\n",
      "<_io.BufferedReader name='../links/alfa_bank/.DS_Store'>\n"
     ]
    }
   ],
   "source": [
    "from os import listdir\n",
    "from os.path import isfile, join\n",
    "\n",
    "links_path = f'../links/alfa_bank/'\n",
    "only_links_files = [f for f in listdir(links_path) if isfile(join(links_path, f))]\n",
    "\n",
    "for f in only_links_files:\n",
    "\n",
    "    try:\n",
    "    \n",
    "        p = '../links/alfa_bank/' + f\n",
    "        \n",
    "        with open(p, 'rb') as f:\n",
    "            all_hrefs = pickle.load(f)\n",
    "    \n",
    "        new_refs = [refs.replace('{bank_name}', 'alfa_bank')  for refs in all_hrefs]\n",
    "        \n",
    "        with open(p, 'wb') as handle:\n",
    "            pickle.dump(new_refs, handle)\n",
    "    except:\n",
    "        print(f)\n",
    "\n",
    "        "
   ]
  },
  {
   "cell_type": "code",
   "execution_count": 21,
   "metadata": {},
   "outputs": [
    {
     "data": {
      "text/plain": [
       "['https://yandex.ru/maps/org/alfa_bank/97853639834',\n",
       " 'https://yandex.ru/maps/org/alfa_bank/203411068455',\n",
       " 'https://yandex.ru/maps/org/alfa_bank/56586818540',\n",
       " 'https://yandex.ru/maps/org/alfa_bank/1061556597',\n",
       " 'https://yandex.ru/maps/org/alfa_bank/61225441096',\n",
       " 'https://yandex.ru/maps/org/alfa_bank/150348626165',\n",
       " 'https://yandex.ru/maps/org/alfa_bank/185369707954',\n",
       " 'https://yandex.ru/maps/org/alfa_bank/73419427780',\n",
       " 'https://yandex.ru/maps/org/alfa_bank/107518028325',\n",
       " 'https://yandex.ru/maps/org/alfa_bank/1318665127',\n",
       " 'https://yandex.ru/maps/org/alfa_bank/1152425281',\n",
       " 'https://yandex.ru/maps/org/alfa_bank/1066499300',\n",
       " 'https://yandex.ru/maps/org/alfa_bank/1688718057',\n",
       " 'https://yandex.ru/maps/org/alfa_bank/1008428784',\n",
       " 'https://yandex.ru/maps/org/alfa_bank/1180569314',\n",
       " 'https://yandex.ru/maps/org/alfa_bank/74527019611',\n",
       " 'https://yandex.ru/maps/org/alfa_bank/135440115187',\n",
       " 'https://yandex.ru/maps/org/alfa_bank/1184112859',\n",
       " 'https://yandex.ru/maps/org/alfa_bank/91699299995',\n",
       " 'https://yandex.ru/maps/org/alfa_bank/217601592560',\n",
       " 'https://yandex.ru/maps/org/alfa_bank/31839489013',\n",
       " 'https://yandex.ru/maps/org/alfa_bank/1061346448',\n",
       " 'https://yandex.ru/maps/org/alfa_bank/1049195804',\n",
       " 'https://yandex.ru/maps/org/alfa_bank/1578298930',\n",
       " 'https://yandex.ru/maps/org/alfa_bank/111745564445']"
      ]
     },
     "execution_count": 21,
     "metadata": {},
     "output_type": "execute_result"
    }
   ],
   "source": [
    "all_hrefs"
   ]
  },
  {
   "cell_type": "code",
   "execution_count": null,
   "metadata": {},
   "outputs": [],
   "source": []
  }
 ],
 "metadata": {
  "kernelspec": {
   "display_name": "Python 3 (ipykernel)",
   "language": "python",
   "name": "python3"
  },
  "language_info": {
   "codemirror_mode": {
    "name": "ipython",
    "version": 3
   },
   "file_extension": ".py",
   "mimetype": "text/x-python",
   "name": "python",
   "nbconvert_exporter": "python",
   "pygments_lexer": "ipython3",
   "version": "3.9.18"
  }
 },
 "nbformat": 4,
 "nbformat_minor": 4
}
