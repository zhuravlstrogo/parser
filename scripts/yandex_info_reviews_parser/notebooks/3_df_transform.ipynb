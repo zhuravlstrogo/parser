{
 "cells": [
  {
   "cell_type": "code",
   "execution_count": 1,
   "metadata": {},
   "outputs": [],
   "source": [
    "import pandas as pd\n",
    "import numpy as np\n",
    "from os import listdir\n",
    "from os.path import isfile, join\n",
    "import random\n",
    "import pickle"
   ]
  },
  {
   "cell_type": "code",
   "execution_count": 44,
   "metadata": {},
   "outputs": [],
   "source": [
    "with open(f'../cities_code_dict.pickle', 'rb') as handle:\n",
    "    cities_code_dict = pickle.load(handle)\n",
    "# cities_code_dict['Санкт-Петербург'] = '2/saint-petersburg'\n",
    "# cities_code_dict['Владивосток'] = '75/vladivostok'\n",
    "# cities_code_dict['Владикавказ'] = '33/vladikavkaz/'\n",
    "# cities_code_dict['Вологда'] = '21/vologda'\n",
    "# cities_code_dict['Воркута'] = '10940/vorkuta'\n",
    "# cities_code_dict['Екатеринбург'] = '54/yekaterinburg'\n",
    "# cities_code_dict['Ессентуки'] = '11057/essentuky'\n",
    "# cities_code_dict['Иркутск'] = '63/irkutsk/'\n",
    "# cities_code_dict['Кострома'] = '7/kostroma'\n",
    "# cities_code_dict['Липецк'] = '9/lipetsk'\n",
    "# cities_code_dict['Минеральные воды'] = '11063/mineralniye-vodi'\n",
    "# cities_code_dict['Мурманск'] = '23/murmansk'\n",
    "# cities_code_dict['Омск'] = '66/omsk'\n",
    "# cities_code_dict['Орёл'] = '10/orel'\n",
    "# cities_code_dict['Пятигорск'] = '11067/pyatigorsk'\n",
    "# cities_code_dict['Ростов-на-Дону'] = '39/rostov-na-donu'\n",
    "# cities_code_dict['Самара'] = '51/samara'\n",
    "# cities_code_dict['Сочи'] = '239/sochi'\n",
    "# cities_code_dict['Сургут'] = '973/surgut'\n",
    "# cities_code_dict['Сызрань'] = '11139/syzran'\n",
    "# cities_code_dict['Сыктывкар'] = '19/syktyvkar'\n",
    "# cities_code_dict['Тула'] = '15/tula'\n",
    "# cities_code_dict['Тюмень'] = '55/tyumen'\n",
    "# cities_code_dict['Ханты-Мансийск'] = '57/khanty-mansiysk'\n",
    "with open(f'../cities_code_dict.pickle', 'wb') as handle:\n",
    "    pickle.dump(cities_code_dict, handle)"
   ]
  },
  {
   "cell_type": "code",
   "execution_count": 2,
   "metadata": {},
   "outputs": [
    {
     "data": {
      "text/html": [
       "<div>\n",
       "<style scoped>\n",
       "    .dataframe tbody tr th:only-of-type {\n",
       "        vertical-align: middle;\n",
       "    }\n",
       "\n",
       "    .dataframe tbody tr th {\n",
       "        vertical-align: top;\n",
       "    }\n",
       "\n",
       "    .dataframe thead th {\n",
       "        text-align: right;\n",
       "    }\n",
       "</style>\n",
       "<table border=\"1\" class=\"dataframe\">\n",
       "  <thead>\n",
       "    <tr style=\"text-align: right;\">\n",
       "      <th></th>\n",
       "      <th>ID</th>\n",
       "      <th>name</th>\n",
       "      <th>region</th>\n",
       "      <th>city</th>\n",
       "      <th>address</th>\n",
       "      <th>opening_hours</th>\n",
       "      <th>lat</th>\n",
       "      <th>lon</th>\n",
       "      <th>rating</th>\n",
       "      <th>service</th>\n",
       "      <th>...</th>\n",
       "      <th>location</th>\n",
       "      <th>deposit</th>\n",
       "      <th>insurance</th>\n",
       "      <th>atmosphere</th>\n",
       "      <th>cleanliness</th>\n",
       "      <th>interior</th>\n",
       "      <th>queue</th>\n",
       "      <th>repair</th>\n",
       "      <th>mortgage</th>\n",
       "      <th>load_time</th>\n",
       "    </tr>\n",
       "  </thead>\n",
       "  <tbody>\n",
       "    <tr>\n",
       "      <th>826</th>\n",
       "      <td>sberbank/1077759704</td>\n",
       "      <td>СберБанк</td>\n",
       "      <td>Кемеровская область</td>\n",
       "      <td>Осинники</td>\n",
       "      <td>ул. Революции, 23, Осинники</td>\n",
       "      <td>'mon': 08:30-18:30, 'tue': 08:30-18:30, 'wed':...</td>\n",
       "      <td>53.594559</td>\n",
       "      <td>87.33131</td>\n",
       "      <td>4.4</td>\n",
       "      <td>NaN</td>\n",
       "      <td>...</td>\n",
       "      <td>NaN</td>\n",
       "      <td>NaN</td>\n",
       "      <td>NaN</td>\n",
       "      <td>NaN</td>\n",
       "      <td>NaN</td>\n",
       "      <td>NaN</td>\n",
       "      <td>NaN</td>\n",
       "      <td>NaN</td>\n",
       "      <td>NaN</td>\n",
       "      <td>2024-09-19 11:09:48</td>\n",
       "    </tr>\n",
       "  </tbody>\n",
       "</table>\n",
       "<p>1 rows × 25 columns</p>\n",
       "</div>"
      ],
      "text/plain": [
       "                      ID      name               region      city  \\\n",
       "826  sberbank/1077759704  СберБанк  Кемеровская область  Осинники   \n",
       "\n",
       "                         address  \\\n",
       "826  ул. Революции, 23, Осинники   \n",
       "\n",
       "                                         opening_hours        lat       lon  \\\n",
       "826  'mon': 08:30-18:30, 'tue': 08:30-18:30, 'wed':...  53.594559  87.33131   \n",
       "\n",
       "     rating  service  ...  location  deposit  insurance  atmosphere  \\\n",
       "826     4.4      NaN  ...       NaN      NaN        NaN         NaN   \n",
       "\n",
       "     cleanliness  interior  queue  repair  mortgage            load_time  \n",
       "826          NaN       NaN    NaN     NaN       NaN  2024-09-19 11:09:48  \n",
       "\n",
       "[1 rows x 25 columns]"
      ]
     },
     "execution_count": 2,
     "metadata": {},
     "output_type": "execute_result"
    }
   ],
   "source": [
    "df = pd.read_csv('../info_all/bank/yndx_info_sberbank.csv', sep=';')\n",
    "df.sample()"
   ]
  },
  {
   "cell_type": "code",
   "execution_count": 3,
   "metadata": {},
   "outputs": [
    {
     "data": {
      "text/plain": [
       "1"
      ]
     },
     "execution_count": 3,
     "metadata": {},
     "output_type": "execute_result"
    }
   ],
   "source": [
    "city_name = 'Краснодар'\n",
    "len(df[df['city'] == city_name])"
   ]
  },
  {
   "cell_type": "code",
   "execution_count": 4,
   "metadata": {},
   "outputs": [
    {
     "data": {
      "text/html": [
       "<div>\n",
       "<style scoped>\n",
       "    .dataframe tbody tr th:only-of-type {\n",
       "        vertical-align: middle;\n",
       "    }\n",
       "\n",
       "    .dataframe tbody tr th {\n",
       "        vertical-align: top;\n",
       "    }\n",
       "\n",
       "    .dataframe thead th {\n",
       "        text-align: right;\n",
       "    }\n",
       "</style>\n",
       "<table border=\"1\" class=\"dataframe\">\n",
       "  <thead>\n",
       "    <tr style=\"text-align: right;\">\n",
       "      <th></th>\n",
       "      <th>ID</th>\n",
       "      <th>name</th>\n",
       "      <th>region</th>\n",
       "      <th>city</th>\n",
       "      <th>address</th>\n",
       "      <th>opening_hours</th>\n",
       "      <th>lat</th>\n",
       "      <th>lon</th>\n",
       "      <th>rating</th>\n",
       "      <th>service</th>\n",
       "      <th>...</th>\n",
       "      <th>location</th>\n",
       "      <th>deposit</th>\n",
       "      <th>insurance</th>\n",
       "      <th>atmosphere</th>\n",
       "      <th>cleanliness</th>\n",
       "      <th>interior</th>\n",
       "      <th>queue</th>\n",
       "      <th>repair</th>\n",
       "      <th>mortgage</th>\n",
       "      <th>load_time</th>\n",
       "    </tr>\n",
       "  </thead>\n",
       "  <tbody>\n",
       "    <tr>\n",
       "      <th>849</th>\n",
       "      <td>sberbank/1108341202</td>\n",
       "      <td>СберБанк</td>\n",
       "      <td>Краснодарский край</td>\n",
       "      <td>Краснодар</td>\n",
       "      <td>Красная ул., 160, Краснодар</td>\n",
       "      <td>'mon': 10:00-19:00, 'tue': 10:00-19:00, 'wed':...</td>\n",
       "      <td>45.039808</td>\n",
       "      <td>38.976454</td>\n",
       "      <td>4.4</td>\n",
       "      <td>NaN</td>\n",
       "      <td>...</td>\n",
       "      <td>95.0</td>\n",
       "      <td>NaN</td>\n",
       "      <td>NaN</td>\n",
       "      <td>NaN</td>\n",
       "      <td>NaN</td>\n",
       "      <td>NaN</td>\n",
       "      <td>NaN</td>\n",
       "      <td>NaN</td>\n",
       "      <td>NaN</td>\n",
       "      <td>2024-09-19 06:26:25</td>\n",
       "    </tr>\n",
       "  </tbody>\n",
       "</table>\n",
       "<p>1 rows × 25 columns</p>\n",
       "</div>"
      ],
      "text/plain": [
       "                      ID      name              region       city  \\\n",
       "849  sberbank/1108341202  СберБанк  Краснодарский край  Краснодар   \n",
       "\n",
       "                         address  \\\n",
       "849  Красная ул., 160, Краснодар   \n",
       "\n",
       "                                         opening_hours        lat        lon  \\\n",
       "849  'mon': 10:00-19:00, 'tue': 10:00-19:00, 'wed':...  45.039808  38.976454   \n",
       "\n",
       "     rating  service  ...  location  deposit  insurance  atmosphere  \\\n",
       "849     4.4      NaN  ...      95.0      NaN        NaN         NaN   \n",
       "\n",
       "     cleanliness  interior  queue  repair  mortgage            load_time  \n",
       "849          NaN       NaN    NaN     NaN       NaN  2024-09-19 06:26:25  \n",
       "\n",
       "[1 rows x 25 columns]"
      ]
     },
     "execution_count": 4,
     "metadata": {},
     "output_type": "execute_result"
    }
   ],
   "source": [
    "df[df['city'] == city_name]"
   ]
  },
  {
   "cell_type": "code",
   "execution_count": 5,
   "metadata": {},
   "outputs": [
    {
     "data": {
      "text/plain": [
       "166"
      ]
     },
     "execution_count": 5,
     "metadata": {},
     "output_type": "execute_result"
    }
   ],
   "source": [
    "#### \n",
    "path = f'../new_links/bank/links_{city_name}.pickle'\n",
    "with open(path, 'rb') as f:\n",
    "    all_hrefs = pickle.load(f)\n",
    "len(all_hrefs)"
   ]
  },
  {
   "cell_type": "code",
   "execution_count": 6,
   "metadata": {},
   "outputs": [
    {
     "data": {
      "text/plain": [
       "20"
      ]
     },
     "execution_count": 6,
     "metadata": {},
     "output_type": "execute_result"
    }
   ],
   "source": [
    "all_hrefs = list(all_hrefs)\n",
    "sber = [i for i in all_hrefs if 'sber' in i]\n",
    "len(sber)"
   ]
  },
  {
   "cell_type": "code",
   "execution_count": null,
   "metadata": {},
   "outputs": [],
   "source": [
    "#### "
   ]
  },
  {
   "cell_type": "code",
   "execution_count": 37,
   "metadata": {},
   "outputs": [
    {
     "data": {
      "text/plain": [
       "'links_Петергоф.pickle'"
      ]
     },
     "execution_count": 37,
     "metadata": {},
     "output_type": "execute_result"
    }
   ],
   "source": [
    "links_path = '../new_links/bank/'\n",
    "links_files = [f for f in listdir(links_path) if isfile(join(links_path, f))]\n",
    "\n",
    "links_files[1]"
   ]
  },
  {
   "cell_type": "code",
   "execution_count": 38,
   "metadata": {},
   "outputs": [
    {
     "data": {
      "text/plain": [
       "331"
      ]
     },
     "execution_count": 38,
     "metadata": {},
     "output_type": "execute_result"
    }
   ],
   "source": [
    "handled_city_names = []\n",
    "for f in links_files:\n",
    "    city_name = f.replace('links_', '').replace('.pickle', '')\n",
    "    handled_city_names.append(city_name)\n",
    "len(handled_city_names)"
   ]
  },
  {
   "cell_type": "code",
   "execution_count": 39,
   "metadata": {},
   "outputs": [
    {
     "data": {
      "text/plain": [
       "633"
      ]
     },
     "execution_count": 39,
     "metadata": {},
     "output_type": "execute_result"
    }
   ],
   "source": [
    "with open(f'../cities.txt') as f:\n",
    "    cities = [x.strip('\\n') for x in f ]\n",
    "len(cities)"
   ]
  },
  {
   "cell_type": "code",
   "execution_count": 40,
   "metadata": {},
   "outputs": [
    {
     "data": {
      "text/plain": [
       "302"
      ]
     },
     "execution_count": 40,
     "metadata": {},
     "output_type": "execute_result"
    }
   ],
   "source": [
    "left_cities = list(set(cities).difference(set(handled_city_names)))\n",
    "len(left_cities)"
   ]
  },
  {
   "cell_type": "code",
   "execution_count": 41,
   "metadata": {},
   "outputs": [
    {
     "data": {
      "text/plain": [
       "array(['Саянск', 'Кемь', 'Тара', 'Липецк', 'Полярные зори',\n",
       "       'Ростов-на-Дону', 'Щёкино', 'Изобильный', 'Ленинск-Кузнецкий',\n",
       "       'Вилючинск', 'Чистополь', 'Дзержинский', 'Тверь', 'Домодедово',\n",
       "       'пгт. Новая Чара', 'п. Излучинск', 'Сафоново', 'Минеральные воды',\n",
       "       'Жирновск', 'Сердобск', 'Камышлов', 'Южно-Сахалинск', 'Лесной',\n",
       "       'Красногорск', 'Дивногорск', 'Сочи', 'Полярный', 'Пойковский',\n",
       "       'Красноуфимск', 'д. Жуковка', 'Рубцовск', 'Юрга', 'Омск',\n",
       "       'Вышний Волочёк', 'Калачинск', 'пгт. Забайкальск', 'Покачи',\n",
       "       'Крымск', 'Ярославль', 'Ялуторовск', 'пос. Персиановский',\n",
       "       'Лебедянь', 'Иланский', 'Людиново', 'Тихорецк', 'Орск', 'Вольск',\n",
       "       'Лесозаводск', 'Тамань', 'Казань', 'Кяхта', 'Заозёрск', 'Озерск',\n",
       "       'Ржев', 'с. Красноселькуп', 'Рязань', 'Советск', 'Воткинск',\n",
       "       'Десногорск', 'Северобайкальск', 'Сергиев Посад',\n",
       "       'п. Междуреченский', 'Искитим', 'п. Ванино', 'Элиста',\n",
       "       'Красноармейск', 'Прокопьевск', 'Волхов', 'Раменское',\n",
       "       'Башкортостан Октябрьский', 'Ханты-Мансийск', 'ст. Талица',\n",
       "       'Екатеринбург', 'Радужный', 'Димитровград', 'Псков', 'Хасавюрт',\n",
       "       'Белореченск', 'Рославль', 'п. Новоорск', 'Лыткарино', 'Коряжма',\n",
       "       'Рыбинск', 'Дедовск', 'Воркута', 'Заполярный', 'Котельнич',\n",
       "       'Коломна', 'Кандалакша', 'Салават', 'Миасс', 'Спасск-Дальний',\n",
       "       'Берёзово', 'Дубна', 'Всеволожск', 'Лесосибирск', 'Иваново',\n",
       "       'Сковородино', 'Петрозаводск', 'Щёлково', 'Тула', 'Малиновский',\n",
       "       'Калуга', 'Кольчугино', 'Ишим', 'Можга', 'Великие Луки', 'Колпино',\n",
       "       'Дюртюли', 'Клинцы', 'пгт. Карымское', 'Сестрорецк', 'Лянтор',\n",
       "       'пос. Саянский', 'Дятьково', 'Люберцы', 'Белгород', 'Белоярский',\n",
       "       'Якутск', 'Соль-Илецк', 'Рузаевка', 'Сосновый Бор', 'Первоуральск',\n",
       "       'Свободный', 'Тейково', 'Стерлитамак', 'Избербаш', 'Саранск',\n",
       "       'Гусиноозёрск', 'Пушкино', 'п. Айхал', 'Семёнов', 'Павлово',\n",
       "       'Сальск', 'Железногорск', 'Сосногорск', 'Зима', 'Суворов', 'Тайга',\n",
       "       'Павловский Посад', 'Югорск', 'Свердловская Берёзовский',\n",
       "       'Карабулак', 'Киселёвск', 'Пушкин', 'Саяногорск', 'Дзержинск',\n",
       "       'Протвино', 'Конаково', 'Тосно', 'ст. Павловская', 'Кингисепп',\n",
       "       'Таштагол', 'Северск', 'ЗАТО Сибирский', 'Южноуральск', 'Ирбит',\n",
       "       'пгт. Чернышевск', 'Кропоткин', 'Вязьма', 'Кострома', 'Ковров',\n",
       "       'Полевской', 'Тихвин', 'Канаш', 'р.п. Сенной', 'п. Светлый',\n",
       "       'Егорьевск', 'Кемеровская Берёзовский', 'Ясный', 'Нижний Тагил',\n",
       "       'Смоленск', 'Самара', 'Балабаново', 'Верхняя Пышма', 'Топки',\n",
       "       'Большой Камень', 'Таганрог', 'Лысьва', 'Касимов', 'п. Мурино',\n",
       "       'Ижевск', 'Барабинск', 'Железнодорожный', 'Мурманск', 'Томск',\n",
       "       'Сертолово', 'Тюмень', 'р.п. Кольцово', 'Игрим', 'Волгодонск',\n",
       "       'Мыски', 'Нововоронеж', 'Владикавказ', 'Печора', 'Вологда', 'Клин',\n",
       "       'Корсаков', 'Пугачёв', 'Долгопрудный', 'Дальнереченск',\n",
       "       'Зубова Поляна', 'Иркутск', 'Муром', 'Переславль-Залесский',\n",
       "       'Темрюк', 'Тулун', 'Обнинск', 'Москва Октябрьский', 'Исилькуль',\n",
       "       'Орёл', 'п. Тазовский', 'Донецк', 'Донской', 'Санкт-Петербург',\n",
       "       'Когалым', 'Старая Русса', 'Лабытнанги', 'Татарск', 'Старый Оскол',\n",
       "       'Пермь', 'р.п. Краснообск', 'Коркино', 'Шимановск', 'Первомайск',\n",
       "       'Сосновоборск', 'Краснокаменск', 'Жуковский', 'Ряжск', 'Тербуны',\n",
       "       'Тайшет', 'п. Голышманово', 'п. Таксимо', 'Ессентуки', 'Брянск',\n",
       "       'Рассказово', 'Светлоград', 'Реутов', 'п. Придорожный',\n",
       "       'Прохладный', 'Пенза', 'Кондопога', 'Оленегорск', 'Одинцово',\n",
       "       'Королёв', 'Лиски', 'Орехово-Зуево', 'Пыть-Ях', 'п. Свободный',\n",
       "       'пгт. Промышленная', 'Ставрополь', 'Дмитров', 'Ишимбай',\n",
       "       'п. Новый Ургал', 'Канск', 'Ивантеевка', 'Ступино', 'Сыктывкар',\n",
       "       'Пятигорск', 'Горноправдинск', 'Владивосток', 'Сасово',\n",
       "       'п. Ерофей Павлович', 'Сургут', 'Ртищево', 'Куровское', 'Сатка',\n",
       "       'Североуральск', 'Камень-на-Оби', 'Серов', 'Красный Сулин',\n",
       "       'Кореновск', 'Россошь', 'Копейск', 'Шилка', 'Торжок', 'Каменка',\n",
       "       'Сегежа', 'Выборг', 'Талдом', 'Муравленко', 'Райчихинск', 'Выкса',\n",
       "       'Серпухов', 'Сарапул', 'Льгов', 'Кашира', 'Слободской', 'Ревда',\n",
       "       'Осинники', 'Тимашевск', 'Туапсе', 'Североморск', 'Сызрань',\n",
       "       'Дальнегорск', 'Истра', 'Северодвинск', 'Колпашево', 'Тамбов',\n",
       "       'Волжск', 'Комсомольск-на-Амуре', 'п. Магдагачи'], dtype='<U24')"
      ]
     },
     "execution_count": 41,
     "metadata": {},
     "output_type": "execute_result"
    }
   ],
   "source": [
    "np.array(left_cities)"
   ]
  },
  {
   "cell_type": "code",
   "execution_count": 8,
   "metadata": {},
   "outputs": [
    {
     "data": {
      "text/plain": [
       "'Шахунья'"
      ]
     },
     "execution_count": 8,
     "metadata": {},
     "output_type": "execute_result"
    }
   ],
   "source": [
    "city_names[11]"
   ]
  },
  {
   "cell_type": "code",
   "execution_count": 5,
   "metadata": {},
   "outputs": [
    {
     "data": {
      "text/plain": [
       "833"
      ]
     },
     "execution_count": 5,
     "metadata": {},
     "output_type": "execute_result"
    }
   ],
   "source": [
    "# path = '../links/links_backup_alfa_sber/sberbank/link_Москва.pkl'\n",
    "path = '../new_links/links_Москва.pickle'\n",
    "with open(path, 'rb') as f:\n",
    "    all_hrefs = pickle.load(f)\n",
    "len(all_hrefs)"
   ]
  },
  {
   "cell_type": "code",
   "execution_count": 8,
   "metadata": {},
   "outputs": [
    {
     "data": {
      "text/plain": [
       "['https://yandex.ru/maps/org/sberbank/1006432309/']"
      ]
     },
     "execution_count": 8,
     "metadata": {},
     "output_type": "execute_result"
    }
   ],
   "source": [
    "[i for i in all_hrefs if \"1006432309\" in i]"
   ]
  },
  {
   "cell_type": "code",
   "execution_count": 6,
   "metadata": {},
   "outputs": [
    {
     "name": "stdout",
     "output_type": "stream",
     "text": [
      "jk\n"
     ]
    }
   ],
   "source": [
    "# 1056287893  in all_hrefs\n",
    "\n",
    "if any(\"1006432309\" in s for s in all_hrefs):\n",
    "    print('jk')"
   ]
  },
  {
   "cell_type": "code",
   "execution_count": 11,
   "metadata": {},
   "outputs": [
    {
     "data": {
      "text/plain": [
       "'https://yandex.ru/maps/org/sberbank/1006432309'"
      ]
     },
     "execution_count": 11,
     "metadata": {},
     "output_type": "execute_result"
    }
   ],
   "source": [
    "all_hrefs[-1]"
   ]
  },
  {
   "cell_type": "code",
   "execution_count": 7,
   "metadata": {},
   "outputs": [
    {
     "data": {
      "text/plain": [
       "'https://yandex.ru/maps/org/sberbank/1006432309'"
      ]
     },
     "execution_count": 7,
     "metadata": {},
     "output_type": "execute_result"
    }
   ],
   "source": [
    "all_hrefs.append('https://yandex.ru/maps/org/sberbank/1006432309')\n",
    "all_hrefs[-1]"
   ]
  },
  {
   "cell_type": "code",
   "execution_count": 8,
   "metadata": {},
   "outputs": [],
   "source": [
    "with open('../links/links_backup_alfa_sber/sberbank/link_Москва.pkl', 'wb') as handle:\n",
    "        pickle.dump(all_hrefs, handle)"
   ]
  },
  {
   "cell_type": "code",
   "execution_count": null,
   "metadata": {},
   "outputs": [],
   "source": []
  },
  {
   "cell_type": "code",
   "execution_count": 2,
   "metadata": {},
   "outputs": [
    {
     "data": {
      "text/html": [
       "<div>\n",
       "<style scoped>\n",
       "    .dataframe tbody tr th:only-of-type {\n",
       "        vertical-align: middle;\n",
       "    }\n",
       "\n",
       "    .dataframe tbody tr th {\n",
       "        vertical-align: top;\n",
       "    }\n",
       "\n",
       "    .dataframe thead th {\n",
       "        text-align: right;\n",
       "    }\n",
       "</style>\n",
       "<table border=\"1\" class=\"dataframe\">\n",
       "  <thead>\n",
       "    <tr style=\"text-align: right;\">\n",
       "      <th></th>\n",
       "      <th>ID</th>\n",
       "      <th>name</th>\n",
       "      <th>region</th>\n",
       "      <th>city</th>\n",
       "      <th>address</th>\n",
       "      <th>opening_hours</th>\n",
       "      <th>lat</th>\n",
       "      <th>lon</th>\n",
       "      <th>rating</th>\n",
       "      <th>service</th>\n",
       "      <th>...</th>\n",
       "      <th>location</th>\n",
       "      <th>deposit</th>\n",
       "      <th>insurance</th>\n",
       "      <th>atmosphere</th>\n",
       "      <th>cleanliness</th>\n",
       "      <th>interior</th>\n",
       "      <th>queue</th>\n",
       "      <th>repair</th>\n",
       "      <th>mortgage</th>\n",
       "      <th>load_time</th>\n",
       "    </tr>\n",
       "  </thead>\n",
       "  <tbody>\n",
       "    <tr>\n",
       "      <th>676</th>\n",
       "      <td>sberbank/1121365671</td>\n",
       "      <td>СберБанк</td>\n",
       "      <td>Москва</td>\n",
       "      <td>Москва</td>\n",
       "      <td>ул. Лескова, 30, Москва</td>\n",
       "      <td>'mon': 08:30-19:30, 'tue': 08:30-19:30, 'wed':...</td>\n",
       "      <td>55.892799</td>\n",
       "      <td>37.616531</td>\n",
       "      <td>4.4</td>\n",
       "      <td>NaN</td>\n",
       "      <td>...</td>\n",
       "      <td>100.0</td>\n",
       "      <td>NaN</td>\n",
       "      <td>NaN</td>\n",
       "      <td>NaN</td>\n",
       "      <td>NaN</td>\n",
       "      <td>NaN</td>\n",
       "      <td>NaN</td>\n",
       "      <td>NaN</td>\n",
       "      <td>NaN</td>\n",
       "      <td>2024-09-19 07:55:07</td>\n",
       "    </tr>\n",
       "  </tbody>\n",
       "</table>\n",
       "<p>1 rows × 25 columns</p>\n",
       "</div>"
      ],
      "text/plain": [
       "                      ID      name  region    city                  address  \\\n",
       "676  sberbank/1121365671  СберБанк  Москва  Москва  ул. Лескова, 30, Москва   \n",
       "\n",
       "                                         opening_hours        lat        lon  \\\n",
       "676  'mon': 08:30-19:30, 'tue': 08:30-19:30, 'wed':...  55.892799  37.616531   \n",
       "\n",
       "     rating  service  ...  location  deposit  insurance  atmosphere  \\\n",
       "676     4.4      NaN  ...     100.0      NaN        NaN         NaN   \n",
       "\n",
       "     cleanliness  interior  queue  repair  mortgage            load_time  \n",
       "676          NaN       NaN    NaN     NaN       NaN  2024-09-19 07:55:07  \n",
       "\n",
       "[1 rows x 25 columns]"
      ]
     },
     "execution_count": 2,
     "metadata": {},
     "output_type": "execute_result"
    }
   ],
   "source": [
    "df = pd.read_csv('../info_all/yndx_info_sberbank.csv', sep=';')\n",
    "df.sample()"
   ]
  },
  {
   "cell_type": "code",
   "execution_count": null,
   "metadata": {},
   "outputs": [],
   "source": []
  },
  {
   "cell_type": "code",
   "execution_count": 3,
   "metadata": {},
   "outputs": [
    {
     "data": {
      "text/plain": [
       "919"
      ]
     },
     "execution_count": 3,
     "metadata": {},
     "output_type": "execute_result"
    }
   ],
   "source": [
    "len(df)"
   ]
  },
  {
   "cell_type": "code",
   "execution_count": 4,
   "metadata": {},
   "outputs": [
    {
     "data": {
      "text/plain": [
       "591"
      ]
     },
     "execution_count": 4,
     "metadata": {},
     "output_type": "execute_result"
    }
   ],
   "source": [
    "len(np.unique(df['city']))"
   ]
  },
  {
   "cell_type": "code",
   "execution_count": 30,
   "metadata": {},
   "outputs": [
    {
     "data": {
      "text/plain": [
       "'Ангарск'"
      ]
     },
     "execution_count": 30,
     "metadata": {},
     "output_type": "execute_result"
    }
   ],
   "source": [
    "city = random.choice(np.unique(df['city']))\n",
    "city"
   ]
  },
  {
   "cell_type": "code",
   "execution_count": 5,
   "metadata": {},
   "outputs": [
    {
     "data": {
      "text/plain": [
       "919"
      ]
     },
     "execution_count": 5,
     "metadata": {},
     "output_type": "execute_result"
    }
   ],
   "source": [
    "len(np.unique(df['ID']))"
   ]
  },
  {
   "cell_type": "code",
   "execution_count": 35,
   "metadata": {},
   "outputs": [
    {
     "data": {
      "text/plain": [
       "1"
      ]
     },
     "execution_count": 35,
     "metadata": {},
     "output_type": "execute_result"
    }
   ],
   "source": [
    "import pickle\n",
    "with open(f'../links/sberbank/link_{city}.pkl', 'rb') as f:\n",
    "    all_hrefs = pickle.load(f)\n",
    "len(all_hrefs) # 414"
   ]
  },
  {
   "cell_type": "code",
   "execution_count": 34,
   "metadata": {},
   "outputs": [
    {
     "data": {
      "text/plain": [
       "1"
      ]
     },
     "execution_count": 34,
     "metadata": {},
     "output_type": "execute_result"
    }
   ],
   "source": []
  },
  {
   "cell_type": "code",
   "execution_count": 18,
   "metadata": {},
   "outputs": [
    {
     "name": "stdout",
     "output_type": "stream",
     "text": [
      "<_io.BufferedReader name='../links/alfa_bank/link_Звенигово.pkl'>\n",
      "<_io.BufferedReader name='../links/alfa_bank/.DS_Store'>\n"
     ]
    }
   ],
   "source": [
    "from os import listdir\n",
    "from os.path import isfile, join\n",
    "\n",
    "links_path = f'../links/alfa_bank/'\n",
    "only_links_files = [f for f in listdir(links_path) if isfile(join(links_path, f))]\n",
    "\n",
    "for f in only_links_files:\n",
    "\n",
    "    try:\n",
    "    \n",
    "        p = '../links/alfa_bank/' + f\n",
    "        \n",
    "        with open(p, 'rb') as f:\n",
    "            all_hrefs = pickle.load(f)\n",
    "    \n",
    "        new_refs = [refs.replace('{bank_name}', 'alfa_bank')  for refs in all_hrefs]\n",
    "        \n",
    "        with open(p, 'wb') as handle:\n",
    "            pickle.dump(new_refs, handle)\n",
    "    except:\n",
    "        print(f)\n",
    "\n",
    "        "
   ]
  },
  {
   "cell_type": "code",
   "execution_count": 21,
   "metadata": {},
   "outputs": [
    {
     "data": {
      "text/plain": [
       "['https://yandex.ru/maps/org/alfa_bank/97853639834',\n",
       " 'https://yandex.ru/maps/org/alfa_bank/203411068455',\n",
       " 'https://yandex.ru/maps/org/alfa_bank/56586818540',\n",
       " 'https://yandex.ru/maps/org/alfa_bank/1061556597',\n",
       " 'https://yandex.ru/maps/org/alfa_bank/61225441096',\n",
       " 'https://yandex.ru/maps/org/alfa_bank/150348626165',\n",
       " 'https://yandex.ru/maps/org/alfa_bank/185369707954',\n",
       " 'https://yandex.ru/maps/org/alfa_bank/73419427780',\n",
       " 'https://yandex.ru/maps/org/alfa_bank/107518028325',\n",
       " 'https://yandex.ru/maps/org/alfa_bank/1318665127',\n",
       " 'https://yandex.ru/maps/org/alfa_bank/1152425281',\n",
       " 'https://yandex.ru/maps/org/alfa_bank/1066499300',\n",
       " 'https://yandex.ru/maps/org/alfa_bank/1688718057',\n",
       " 'https://yandex.ru/maps/org/alfa_bank/1008428784',\n",
       " 'https://yandex.ru/maps/org/alfa_bank/1180569314',\n",
       " 'https://yandex.ru/maps/org/alfa_bank/74527019611',\n",
       " 'https://yandex.ru/maps/org/alfa_bank/135440115187',\n",
       " 'https://yandex.ru/maps/org/alfa_bank/1184112859',\n",
       " 'https://yandex.ru/maps/org/alfa_bank/91699299995',\n",
       " 'https://yandex.ru/maps/org/alfa_bank/217601592560',\n",
       " 'https://yandex.ru/maps/org/alfa_bank/31839489013',\n",
       " 'https://yandex.ru/maps/org/alfa_bank/1061346448',\n",
       " 'https://yandex.ru/maps/org/alfa_bank/1049195804',\n",
       " 'https://yandex.ru/maps/org/alfa_bank/1578298930',\n",
       " 'https://yandex.ru/maps/org/alfa_bank/111745564445']"
      ]
     },
     "execution_count": 21,
     "metadata": {},
     "output_type": "execute_result"
    }
   ],
   "source": [
    "all_hrefs"
   ]
  },
  {
   "cell_type": "code",
   "execution_count": null,
   "metadata": {},
   "outputs": [],
   "source": []
  }
 ],
 "metadata": {
  "kernelspec": {
   "display_name": "Python 3 (ipykernel)",
   "language": "python",
   "name": "python3"
  },
  "language_info": {
   "codemirror_mode": {
    "name": "ipython",
    "version": 3
   },
   "file_extension": ".py",
   "mimetype": "text/x-python",
   "name": "python",
   "nbconvert_exporter": "python",
   "pygments_lexer": "ipython3",
   "version": "3.9.18"
  }
 },
 "nbformat": 4,
 "nbformat_minor": 4
}
