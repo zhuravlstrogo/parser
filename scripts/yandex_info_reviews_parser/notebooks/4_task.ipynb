{
 "cells": [
  {
   "cell_type": "code",
   "execution_count": 2,
   "id": "d2104249-76a7-4ed4-8351-98f8e3e056f3",
   "metadata": {},
   "outputs": [],
   "source": [
    "import time\n",
    "import re\n",
    "import random\n",
    "# from datetime import datetime, date, time, timedelta\n",
    "import pickle\n",
    "import requests\n",
    "from requests.auth import HTTPBasicAuth\n",
    "import undetected_chromedriver\n",
    "import numpy as np\n",
    "import pandas as pd\n",
    "from bs4 import BeautifulSoup\n",
    "from selenium.webdriver.common.by import By\n",
    "from selenium.common.exceptions import NoSuchElementException\n",
    "from selenium.webdriver.common.keys import Keys \n",
    "import warnings\n",
    "warnings.filterwarnings(\"ignore\")"
   ]
  },
  {
   "cell_type": "markdown",
   "id": "6fcdf2dd-3e25-4977-9648-13c6ed8e77ec",
   "metadata": {},
   "source": [
    "В этом ноутбуке разбираем 1 часть парсера - получение id одного отделения банка для одного города, 2 часть - формирования списка id всех отделений банка для этого города"
   ]
  },
  {
   "cell_type": "markdown",
   "id": "d5e17932-f0fa-4dca-8a69-6e92d43498db",
   "metadata": {},
   "source": [
    "#### 1. получить id любого отделения ВТБ на яндекс картах в городе Елец \n",
    "\n",
    "зарегистрироваться получить бесплатный apikey в api поиска по организациям https://developer.tech.yandex.ru/services/12 и записать его в переменную apikey строкой\n",
    "\n",
    "\n",
    "PS: можешь выбрать любой банк/город, чем меньше город, тем меньше там отделений - быстрее работает\n",
    "\n"
   ]
  },
  {
   "cell_type": "code",
   "execution_count": 5,
   "id": "bf090dc1-c923-4887-9af0-083df703a8d8",
   "metadata": {},
   "outputs": [
    {
     "data": {
      "text/plain": [
       "'алапаевск'"
      ]
     },
     "execution_count": 5,
     "metadata": {},
     "output_type": "execute_result"
    }
   ],
   "source": [
    "bank_name = 'alfa_bank'\n",
    "city_name = 'Алапаевск' \n",
    "city_name = city_name.lower()\n",
    "city_name"
   ]
  },
  {
   "cell_type": "code",
   "execution_count": 6,
   "id": "e0b0bbbe-df98-495c-8ba6-ad61aaf81680",
   "metadata": {},
   "outputs": [],
   "source": [
    "params = dict(\n",
    "text=f'сбербанк {city_name}',\n",
    "type='biz',\n",
    "lang='en_US',\n",
    "apikey='your_key'\n",
    ")\n",
    "url = 'https://search-maps.yandex.ru/v1/'\n",
    "resp = requests.get(url=url, params=params)\n",
    "data = resp.json()"
   ]
  },
  {
   "cell_type": "code",
   "execution_count": null,
   "id": "285b3ab8-48da-4a6b-b784-f85d262213ae",
   "metadata": {},
   "outputs": [],
   "source": []
  },
  {
   "cell_type": "markdown",
   "id": "1b92082c-5cbb-45da-8ef8-0f499e50817a",
   "metadata": {},
   "source": [
    "#### 2. разобрать функцию get_yndx_id_from_chain, запустить её для найденного банка и id отделения\n",
    "\n",
    "обрати внимание, что имя банка ВТБ передаём как bank_vtb - разобраться почему. и оцени результат работы функции - все ли банки найдены?"
   ]
  },
  {
   "cell_type": "code",
   "execution_count": 15,
   "id": "76a504b4-c328-4ddf-9f5b-212766b1b541",
   "metadata": {},
   "outputs": [],
   "source": [
    "def find_between(s, first, last):\n",
    "    \"\"\"находит строку между символами first и last\"\"\"\n",
    "    try:\n",
    "        regex = rf'{first}(.*?){last}'\n",
    "        return re.findall(regex, s)\n",
    "    except ValueError:\n",
    "        return -1\n",
    "\n",
    "\n",
    "def get_id_from_page(page, bank_name):\n",
    "\n",
    "    \"\"\"вытаскивает id банка яндекс карта из page\"\"\"\n",
    "    first = f'search-snippet-view__link-overlay _focusable\" href=\"/maps/org/{bank_name}/'\n",
    "\n",
    "    last = '/\" tabindex=\"'\n",
    "    yndx_idx = find_between(page, first, last)\n",
    "    print(f'loaded {len(yndx_idx)} ids')\n",
    "\n",
    "    return yndx_idx\n",
    "\n",
    "\n",
    "def get_yndx_id_from_chain(yndx_bank_id, bank_name):\n",
    "\n",
    "    \"\"\"формирует список ссыллок-банков для текущего банка id из яндекс карт из раздела Филиалы\"\"\"\n",
    "    \n",
    "    opts = undetected_chromedriver.ChromeOptions()\n",
    "    opts.add_argument(\"--disable-renderer-backgrounding\")\n",
    "    opts.add_argument(\"--disable-extensions\")\n",
    "    opts.add_argument('--no-sandbox')\n",
    "    opts.add_argument('--disable-dev-shm-usage')\n",
    "    opts.add_argument('headless')\n",
    "    opts.add_argument('--disable-gpu')\n",
    "    driver = undetected_chromedriver.Chrome(options=opts)\n",
    "    \n",
    "    url = f'https://yandex.ru/maps/org/{bank_name}/{yndx_bank_id}/chain/'\n",
    "    driver.get(url)\n",
    "\n",
    "    N = round(random.uniform(13.1, 19.9), 2) # was higher\n",
    "    print(f'sleep for {N}')\n",
    "    time.sleep(N)\n",
    "    \n",
    "    t = 'business-tab-wrapper' \n",
    "    elements = driver.find_elements(By.CLASS_NAME, t)\n",
    "    print(f'LEN {len(elements)}')\n",
    "    \n",
    "    if len(elements) > 1:\n",
    "\n",
    "\n",
    "        # без этого не работает\n",
    "        elements = driver.find_elements(By.CLASS_NAME, t)\n",
    "    \n",
    "        seen = []\n",
    "    \n",
    "        while True:\n",
    "            # скролл\n",
    "            driver.execute_script(\"arguments[0].scrollIntoView();\", elements[-1]);\n",
    "\n",
    "            N = round(random.uniform(13.1, 19.9), 2) # was higher\n",
    "            print(f'sleep for {N}')\n",
    "            time.sleep(N)\n",
    "            elements = driver.find_elements(By.CLASS_NAME, t)\n",
    "            \n",
    "            if len(elements) < 1:\n",
    "                T = round(random.uniform(10.1, 19.9), 2)\n",
    "                print(f'sleep again for {T}')\n",
    "                time.sleep(T)\n",
    "    \n",
    "            page3 = elements[3].get_attribute('innerHTML')\n",
    "            yndx_idx = get_id_from_page(page3, bank_name)\n",
    "            \n",
    "            last_size = len(yndx_idx)\n",
    "            seen.append(last_size)\n",
    "            \n",
    "            if len(set(seen)) < len(seen):\n",
    "                break\n",
    "    \n",
    "    else:\n",
    "        print('driver stopped')\n",
    "        driver.close()\n",
    "        driver.quit()\n",
    "        \n",
    "    driver.close()\n",
    "    driver.quit() \n",
    "    \n",
    "    return yndx_idx\n"
   ]
  },
  {
   "cell_type": "code",
   "execution_count": null,
   "id": "64d4bd02-f830-4ade-9d73-0d2a6be33ca6",
   "metadata": {},
   "outputs": [],
   "source": []
  },
  {
   "cell_type": "markdown",
   "id": "bc33d2d9-5ee1-447f-88ba-c4389ae83c97",
   "metadata": {},
   "source": [
    "#### 3. придумать, как вместо отделений банков вытаскивать банкоматы - реализовать (исправить предыдущие две функции)"
   ]
  },
  {
   "cell_type": "code",
   "execution_count": null,
   "id": "7520b9b2-83fc-4baf-b793-13eccb26f80b",
   "metadata": {},
   "outputs": [],
   "source": []
  }
 ],
 "metadata": {
  "kernelspec": {
   "display_name": "Python 3 (ipykernel)",
   "language": "python",
   "name": "python3"
  },
  "language_info": {
   "codemirror_mode": {
    "name": "ipython",
    "version": 3
   },
   "file_extension": ".py",
   "mimetype": "text/x-python",
   "name": "python",
   "nbconvert_exporter": "python",
   "pygments_lexer": "ipython3",
   "version": "3.9.18"
  }
 },
 "nbformat": 4,
 "nbformat_minor": 5
}
