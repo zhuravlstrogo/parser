{
 "cells": [
  {
   "cell_type": "code",
   "execution_count": 2,
   "id": "0fef3561-e050-41b3-942d-49cd7db571b3",
   "metadata": {},
   "outputs": [],
   "source": [
    "import undetected_chromedriver\n",
    "import time\n",
    "import re\n",
    "import random\n",
    "# from datetime import datetime, date, time, timedelta\n",
    "import pickle\n",
    "import requests\n",
    "from requests.auth import HTTPBasicAuth\n",
    "\n",
    "from selenium.webdriver.common.by import By\n",
    "from selenium.common.exceptions import NoSuchElementException\n",
    "from selenium.webdriver.common.keys import Keys \n",
    "\n",
    "import numpy as np\n",
    "import pandas as pd\n",
    "import pandas as pd\n",
    "from bs4 import BeautifulSoup\n",
    "from tqdm import tqdm\n",
    "import warnings\n",
    "warnings.filterwarnings(\"ignore\")"
   ]
  },
  {
   "cell_type": "code",
   "execution_count": 2,
   "id": "85161001-b875-4d80-8d18-44a22c25122f",
   "metadata": {},
   "outputs": [],
   "source": [
    "# from dataclasses import asdict\n",
    "\n",
    "\n",
    "# from dataclasses import dataclass\n",
    "# from typing import Union\n",
    "\n",
    "# @dataclass\n",
    "# class Filial:\n",
    "#     link: str\n",
    "#     address: str"
   ]
  },
  {
   "cell_type": "code",
   "execution_count": 3,
   "id": "af62ef77-84a2-4929-bd11-4b029fed0214",
   "metadata": {},
   "outputs": [],
   "source": [
    "def get_yndx_city_code(num):\n",
    "\n",
    "    # print(num)\n",
    "    \"\"\"подставляю в url номер num определяет, для какого города в яндекс картах этот номер является id-шникос\"\"\"\n",
    "    \n",
    "\n",
    "    opts = undetected_chromedriver.ChromeOptions()\n",
    "    opts.add_argument(\"--disable-renderer-backgrounding\")\n",
    "    opts.add_argument(\"--disable-extensions\")\n",
    "    opts.add_argument('--no-sandbox')\n",
    "    opts.add_argument('--disable-dev-shm-usage')\n",
    "    opts.add_argument('headless')\n",
    "    opts.add_argument('--disable-gpu')\n",
    "    driver = undetected_chromedriver.Chrome(options=opts)\n",
    "    \n",
    "    url = f'https://yandex.ru/maps/{num}/ivanovo'\n",
    "    \n",
    "    driver.get(url)\n",
    "    N = round(random.uniform(7.1, 9.9), 2)\n",
    "    time.sleep(N)\n",
    "\n",
    "    s = driver.current_url\n",
    "    \n",
    "    if s != url:\n",
    "        print(n, s.split('/')[5])\n",
    "        return s.split('/')[5]\n",
    "        \n",
    "    \n",
    "    driver.close()\n",
    "    driver.quit()"
   ]
  },
  {
   "cell_type": "code",
   "execution_count": 6,
   "id": "88fbd721-5b45-482d-93b3-e901070ea288",
   "metadata": {},
   "outputs": [
    {
     "data": {
      "text/plain": [
       "{75: 'vladivostok'}"
      ]
     },
     "execution_count": 6,
     "metadata": {},
     "output_type": "execute_result"
    }
   ],
   "source": [
    "with open(f'cities_code_dict.pickle', 'rb') as handle:\n",
    "    prev_d = pickle.load(handle)\n",
    "prev_d"
   ]
  },
  {
   "cell_type": "code",
   "execution_count": 7,
   "id": "fc73ccde-6143-4a9f-9467-c05563530b5b",
   "metadata": {},
   "outputs": [
    {
     "name": "stdout",
     "output_type": "stream",
     "text": [
      "100 frankfurt-am-main\n",
      "101 stuttgart\n",
      "102 united-kingdom\n"
     ]
    },
    {
     "ename": "KeyboardInterrupt",
     "evalue": "",
     "output_type": "error",
     "traceback": [
      "\u001b[0;31m---------------------------------------------------------------------------\u001b[0m",
      "\u001b[0;31mKeyboardInterrupt\u001b[0m                         Traceback (most recent call last)",
      "Cell \u001b[0;32mIn[7], line 16\u001b[0m\n\u001b[1;32m     12\u001b[0m     pickle\u001b[38;5;241m.\u001b[39mdump(d, handle)\n\u001b[1;32m     15\u001b[0m N \u001b[38;5;241m=\u001b[39m \u001b[38;5;28mround\u001b[39m(random\u001b[38;5;241m.\u001b[39muniform(\u001b[38;5;241m13.1\u001b[39m, \u001b[38;5;241m19.9\u001b[39m), \u001b[38;5;241m2\u001b[39m) \u001b[38;5;66;03m# was higher\u001b[39;00m\n\u001b[0;32m---> 16\u001b[0m \u001b[43mtime\u001b[49m\u001b[38;5;241;43m.\u001b[39;49m\u001b[43msleep\u001b[49m\u001b[43m(\u001b[49m\u001b[43mN\u001b[49m\u001b[43m)\u001b[49m\n",
      "\u001b[0;31mKeyboardInterrupt\u001b[0m: "
     ]
    }
   ],
   "source": [
    "d = {}\n",
    "for n in list(range(100, 120)):\n",
    "    \"\"\"функция собираед id городов в яндекс картах и записывает в словарь в cities_code_dict.\"\"\"\n",
    "    d[n] = get_yndx_city_code(n)\n",
    "\n",
    "    with open(f'cities_code_dict.pickle', 'rb') as handle:\n",
    "        prev_d = pickle.load(handle)\n",
    "\n",
    "    prev_d.update(d)\n",
    "\n",
    "    with open(f'cities_code_dict.pickle', 'wb') as handle:\n",
    "        pickle.dump(d, handle)\n",
    "\n",
    "\n",
    "    N = round(random.uniform(13.1, 19.9), 2) # was higher\n",
    "    time.sleep(N)"
   ]
  },
  {
   "cell_type": "code",
   "execution_count": null,
   "id": "7668d3bf-129b-4359-96c1-6064fc56ef8c",
   "metadata": {},
   "outputs": [],
   "source": []
  },
  {
   "cell_type": "code",
   "execution_count": 4,
   "id": "d5142813-cf29-48ce-9f69-d142b69ffebe",
   "metadata": {},
   "outputs": [
    {
     "data": {
      "text/plain": [
       "{75: 'vladivostok'}"
      ]
     },
     "execution_count": 4,
     "metadata": {},
     "output_type": "execute_result"
    }
   ],
   "source": [
    "with open(f'cities_code_dict.pickle', 'rb') as handle:\n",
    "    cities_code_dict = pickle.load(handle)\n",
    "cities_code_dict"
   ]
  },
  {
   "cell_type": "code",
   "execution_count": 15,
   "id": "83d7b998-3605-47ff-b5bb-b88c862c1610",
   "metadata": {},
   "outputs": [
    {
     "data": {
      "text/plain": [
       "(490, 490)"
      ]
     },
     "execution_count": 15,
     "metadata": {},
     "output_type": "execute_result"
    }
   ],
   "source": [
    "city_name = 'voronezh'\n",
    "with open(f'links_{city_name}.pickle', 'rb') as handle:\n",
    "    city_links = pickle.load(handle)\n",
    "len(city_links), len(set(city_links))"
   ]
  },
  {
   "cell_type": "code",
   "execution_count": 4,
   "id": "1c7e795c-8be7-4818-9de7-14e667e2124b",
   "metadata": {},
   "outputs": [
    {
     "ename": "SessionNotCreatedException",
     "evalue": "Message: session not created: cannot connect to chrome at 127.0.0.1:55123\nfrom session not created: This version of ChromeDriver only supports Chrome version 130\nCurrent browser version is 129.0.6668.101\nStacktrace:\n0   undetected_chromedriver             0x0000000100d80a58 undetected_chromedriver + 8141400\n1   undetected_chromedriver             0x0000000100d7894a undetected_chromedriver + 8108362\n2   undetected_chromedriver             0x000000010061df60 undetected_chromedriver + 397152\n3   undetected_chromedriver             0x000000010065a04b undetected_chromedriver + 643147\n4   undetected_chromedriver             0x00000001006590a2 undetected_chromedriver + 639138\n5   undetected_chromedriver             0x000000010064ebbb undetected_chromedriver + 596923\n6   undetected_chromedriver             0x000000010069a74f undetected_chromedriver + 907087\n7   undetected_chromedriver             0x0000000100699d46 undetected_chromedriver + 904518\n8   undetected_chromedriver             0x000000010068e523 undetected_chromedriver + 857379\n9   undetected_chromedriver             0x000000010065d012 undetected_chromedriver + 655378\n10  undetected_chromedriver             0x000000010065dfee undetected_chromedriver + 659438\n11  undetected_chromedriver             0x0000000100d457c0 undetected_chromedriver + 7899072\n12  undetected_chromedriver             0x0000000100d49714 undetected_chromedriver + 7915284\n13  undetected_chromedriver             0x0000000100d27597 undetected_chromedriver + 7775639\n14  undetected_chromedriver             0x0000000100d4a19e undetected_chromedriver + 7917982\n15  undetected_chromedriver             0x0000000100d16874 undetected_chromedriver + 7706740\n16  undetected_chromedriver             0x0000000100d66d98 undetected_chromedriver + 8035736\n17  undetected_chromedriver             0x0000000100d66f56 undetected_chromedriver + 8036182\n18  undetected_chromedriver             0x0000000100d78558 undetected_chromedriver + 8107352\n19  libsystem_pthread.dylib             0x00007ff80dd37253 _pthread_start + 99\n20  libsystem_pthread.dylib             0x00007ff80dd32bef thread_start + 15\n",
     "output_type": "error",
     "traceback": [
      "\u001b[0;31m---------------------------------------------------------------------------\u001b[0m",
      "\u001b[0;31mSessionNotCreatedException\u001b[0m                Traceback (most recent call last)",
      "File \u001b[0;32m<timed exec>:8\u001b[0m\n",
      "File \u001b[0;32m~/miniconda3/envs/main/lib/python3.9/site-packages/undetected_chromedriver/__init__.py:466\u001b[0m, in \u001b[0;36mChrome.__init__\u001b[0;34m(self, options, user_data_dir, driver_executable_path, browser_executable_path, port, enable_cdp_events, desired_capabilities, advanced_elements, keep_alive, log_level, headless, version_main, patcher_force_close, suppress_welcome, use_subprocess, debug, no_sandbox, user_multi_procs, **kw)\u001b[0m\n\u001b[1;32m    459\u001b[0m     \u001b[38;5;28mself\u001b[39m\u001b[38;5;241m.\u001b[39mbrowser_pid \u001b[38;5;241m=\u001b[39m browser\u001b[38;5;241m.\u001b[39mpid\n\u001b[1;32m    462\u001b[0m service \u001b[38;5;241m=\u001b[39m selenium\u001b[38;5;241m.\u001b[39mwebdriver\u001b[38;5;241m.\u001b[39mchromium\u001b[38;5;241m.\u001b[39mservice\u001b[38;5;241m.\u001b[39mChromiumService(\n\u001b[1;32m    463\u001b[0m     \u001b[38;5;28mself\u001b[39m\u001b[38;5;241m.\u001b[39mpatcher\u001b[38;5;241m.\u001b[39mexecutable_path\n\u001b[1;32m    464\u001b[0m )\n\u001b[0;32m--> 466\u001b[0m \u001b[38;5;28;43msuper\u001b[39;49m\u001b[43m(\u001b[49m\u001b[43mChrome\u001b[49m\u001b[43m,\u001b[49m\u001b[43m \u001b[49m\u001b[38;5;28;43mself\u001b[39;49m\u001b[43m)\u001b[49m\u001b[38;5;241;43m.\u001b[39;49m\u001b[38;5;21;43m__init__\u001b[39;49m\u001b[43m(\u001b[49m\n\u001b[1;32m    467\u001b[0m \u001b[43m    \u001b[49m\u001b[43mservice\u001b[49m\u001b[38;5;241;43m=\u001b[39;49m\u001b[43mservice\u001b[49m\u001b[43m,\u001b[49m\n\u001b[1;32m    468\u001b[0m \u001b[43m    \u001b[49m\u001b[43moptions\u001b[49m\u001b[38;5;241;43m=\u001b[39;49m\u001b[43moptions\u001b[49m\u001b[43m,\u001b[49m\n\u001b[1;32m    469\u001b[0m \u001b[43m    \u001b[49m\u001b[43mkeep_alive\u001b[49m\u001b[38;5;241;43m=\u001b[39;49m\u001b[43mkeep_alive\u001b[49m\u001b[43m,\u001b[49m\n\u001b[1;32m    470\u001b[0m \u001b[43m\u001b[49m\u001b[43m)\u001b[49m\n\u001b[1;32m    472\u001b[0m \u001b[38;5;28mself\u001b[39m\u001b[38;5;241m.\u001b[39mreactor \u001b[38;5;241m=\u001b[39m \u001b[38;5;28;01mNone\u001b[39;00m\n\u001b[1;32m    474\u001b[0m \u001b[38;5;28;01mif\u001b[39;00m enable_cdp_events:\n",
      "File \u001b[0;32m~/miniconda3/envs/main/lib/python3.9/site-packages/selenium/webdriver/chrome/webdriver.py:45\u001b[0m, in \u001b[0;36mWebDriver.__init__\u001b[0;34m(self, options, service, keep_alive)\u001b[0m\n\u001b[1;32m     42\u001b[0m service \u001b[38;5;241m=\u001b[39m service \u001b[38;5;28;01mif\u001b[39;00m service \u001b[38;5;28;01melse\u001b[39;00m Service()\n\u001b[1;32m     43\u001b[0m options \u001b[38;5;241m=\u001b[39m options \u001b[38;5;28;01mif\u001b[39;00m options \u001b[38;5;28;01melse\u001b[39;00m Options()\n\u001b[0;32m---> 45\u001b[0m \u001b[38;5;28;43msuper\u001b[39;49m\u001b[43m(\u001b[49m\u001b[43m)\u001b[49m\u001b[38;5;241;43m.\u001b[39;49m\u001b[38;5;21;43m__init__\u001b[39;49m\u001b[43m(\u001b[49m\n\u001b[1;32m     46\u001b[0m \u001b[43m    \u001b[49m\u001b[43mbrowser_name\u001b[49m\u001b[38;5;241;43m=\u001b[39;49m\u001b[43mDesiredCapabilities\u001b[49m\u001b[38;5;241;43m.\u001b[39;49m\u001b[43mCHROME\u001b[49m\u001b[43m[\u001b[49m\u001b[38;5;124;43m\"\u001b[39;49m\u001b[38;5;124;43mbrowserName\u001b[39;49m\u001b[38;5;124;43m\"\u001b[39;49m\u001b[43m]\u001b[49m\u001b[43m,\u001b[49m\n\u001b[1;32m     47\u001b[0m \u001b[43m    \u001b[49m\u001b[43mvendor_prefix\u001b[49m\u001b[38;5;241;43m=\u001b[39;49m\u001b[38;5;124;43m\"\u001b[39;49m\u001b[38;5;124;43mgoog\u001b[39;49m\u001b[38;5;124;43m\"\u001b[39;49m\u001b[43m,\u001b[49m\n\u001b[1;32m     48\u001b[0m \u001b[43m    \u001b[49m\u001b[43moptions\u001b[49m\u001b[38;5;241;43m=\u001b[39;49m\u001b[43moptions\u001b[49m\u001b[43m,\u001b[49m\n\u001b[1;32m     49\u001b[0m \u001b[43m    \u001b[49m\u001b[43mservice\u001b[49m\u001b[38;5;241;43m=\u001b[39;49m\u001b[43mservice\u001b[49m\u001b[43m,\u001b[49m\n\u001b[1;32m     50\u001b[0m \u001b[43m    \u001b[49m\u001b[43mkeep_alive\u001b[49m\u001b[38;5;241;43m=\u001b[39;49m\u001b[43mkeep_alive\u001b[49m\u001b[43m,\u001b[49m\n\u001b[1;32m     51\u001b[0m \u001b[43m\u001b[49m\u001b[43m)\u001b[49m\n",
      "File \u001b[0;32m~/miniconda3/envs/main/lib/python3.9/site-packages/selenium/webdriver/chromium/webdriver.py:61\u001b[0m, in \u001b[0;36mChromiumDriver.__init__\u001b[0;34m(self, browser_name, vendor_prefix, options, service, keep_alive)\u001b[0m\n\u001b[1;32m     52\u001b[0m executor \u001b[38;5;241m=\u001b[39m ChromiumRemoteConnection(\n\u001b[1;32m     53\u001b[0m     remote_server_addr\u001b[38;5;241m=\u001b[39m\u001b[38;5;28mself\u001b[39m\u001b[38;5;241m.\u001b[39mservice\u001b[38;5;241m.\u001b[39mservice_url,\n\u001b[1;32m     54\u001b[0m     browser_name\u001b[38;5;241m=\u001b[39mbrowser_name,\n\u001b[0;32m   (...)\u001b[0m\n\u001b[1;32m     57\u001b[0m     ignore_proxy\u001b[38;5;241m=\u001b[39moptions\u001b[38;5;241m.\u001b[39m_ignore_local_proxy,\n\u001b[1;32m     58\u001b[0m )\n\u001b[1;32m     60\u001b[0m \u001b[38;5;28;01mtry\u001b[39;00m:\n\u001b[0;32m---> 61\u001b[0m     \u001b[38;5;28;43msuper\u001b[39;49m\u001b[43m(\u001b[49m\u001b[43m)\u001b[49m\u001b[38;5;241;43m.\u001b[39;49m\u001b[38;5;21;43m__init__\u001b[39;49m\u001b[43m(\u001b[49m\u001b[43mcommand_executor\u001b[49m\u001b[38;5;241;43m=\u001b[39;49m\u001b[43mexecutor\u001b[49m\u001b[43m,\u001b[49m\u001b[43m \u001b[49m\u001b[43moptions\u001b[49m\u001b[38;5;241;43m=\u001b[39;49m\u001b[43moptions\u001b[49m\u001b[43m)\u001b[49m\n\u001b[1;32m     62\u001b[0m \u001b[38;5;28;01mexcept\u001b[39;00m \u001b[38;5;167;01mException\u001b[39;00m:\n\u001b[1;32m     63\u001b[0m     \u001b[38;5;28mself\u001b[39m\u001b[38;5;241m.\u001b[39mquit()\n",
      "File \u001b[0;32m~/miniconda3/envs/main/lib/python3.9/site-packages/selenium/webdriver/remote/webdriver.py:208\u001b[0m, in \u001b[0;36mWebDriver.__init__\u001b[0;34m(self, command_executor, keep_alive, file_detector, options)\u001b[0m\n\u001b[1;32m    206\u001b[0m \u001b[38;5;28mself\u001b[39m\u001b[38;5;241m.\u001b[39m_authenticator_id \u001b[38;5;241m=\u001b[39m \u001b[38;5;28;01mNone\u001b[39;00m\n\u001b[1;32m    207\u001b[0m \u001b[38;5;28mself\u001b[39m\u001b[38;5;241m.\u001b[39mstart_client()\n\u001b[0;32m--> 208\u001b[0m \u001b[38;5;28;43mself\u001b[39;49m\u001b[38;5;241;43m.\u001b[39;49m\u001b[43mstart_session\u001b[49m\u001b[43m(\u001b[49m\u001b[43mcapabilities\u001b[49m\u001b[43m)\u001b[49m\n",
      "File \u001b[0;32m~/miniconda3/envs/main/lib/python3.9/site-packages/undetected_chromedriver/__init__.py:724\u001b[0m, in \u001b[0;36mChrome.start_session\u001b[0;34m(self, capabilities, browser_profile)\u001b[0m\n\u001b[1;32m    722\u001b[0m \u001b[38;5;28;01mif\u001b[39;00m \u001b[38;5;129;01mnot\u001b[39;00m capabilities:\n\u001b[1;32m    723\u001b[0m     capabilities \u001b[38;5;241m=\u001b[39m \u001b[38;5;28mself\u001b[39m\u001b[38;5;241m.\u001b[39moptions\u001b[38;5;241m.\u001b[39mto_capabilities()\n\u001b[0;32m--> 724\u001b[0m \u001b[38;5;28;43msuper\u001b[39;49m\u001b[43m(\u001b[49m\u001b[43mselenium\u001b[49m\u001b[38;5;241;43m.\u001b[39;49m\u001b[43mwebdriver\u001b[49m\u001b[38;5;241;43m.\u001b[39;49m\u001b[43mchrome\u001b[49m\u001b[38;5;241;43m.\u001b[39;49m\u001b[43mwebdriver\u001b[49m\u001b[38;5;241;43m.\u001b[39;49m\u001b[43mWebDriver\u001b[49m\u001b[43m,\u001b[49m\u001b[43m \u001b[49m\u001b[38;5;28;43mself\u001b[39;49m\u001b[43m)\u001b[49m\u001b[38;5;241;43m.\u001b[39;49m\u001b[43mstart_session\u001b[49m\u001b[43m(\u001b[49m\n\u001b[1;32m    725\u001b[0m \u001b[43m    \u001b[49m\u001b[43mcapabilities\u001b[49m\n\u001b[1;32m    726\u001b[0m \u001b[43m\u001b[49m\u001b[43m)\u001b[49m\n",
      "File \u001b[0;32m~/miniconda3/envs/main/lib/python3.9/site-packages/selenium/webdriver/remote/webdriver.py:292\u001b[0m, in \u001b[0;36mWebDriver.start_session\u001b[0;34m(self, capabilities)\u001b[0m\n\u001b[1;32m    285\u001b[0m \u001b[38;5;250m\u001b[39m\u001b[38;5;124;03m\"\"\"Creates a new session with the desired capabilities.\u001b[39;00m\n\u001b[1;32m    286\u001b[0m \n\u001b[1;32m    287\u001b[0m \u001b[38;5;124;03m:Args:\u001b[39;00m\n\u001b[1;32m    288\u001b[0m \u001b[38;5;124;03m - capabilities - a capabilities dict to start the session with.\u001b[39;00m\n\u001b[1;32m    289\u001b[0m \u001b[38;5;124;03m\"\"\"\u001b[39;00m\n\u001b[1;32m    291\u001b[0m caps \u001b[38;5;241m=\u001b[39m _create_caps(capabilities)\n\u001b[0;32m--> 292\u001b[0m response \u001b[38;5;241m=\u001b[39m \u001b[38;5;28;43mself\u001b[39;49m\u001b[38;5;241;43m.\u001b[39;49m\u001b[43mexecute\u001b[49m\u001b[43m(\u001b[49m\u001b[43mCommand\u001b[49m\u001b[38;5;241;43m.\u001b[39;49m\u001b[43mNEW_SESSION\u001b[49m\u001b[43m,\u001b[49m\u001b[43m \u001b[49m\u001b[43mcaps\u001b[49m\u001b[43m)\u001b[49m[\u001b[38;5;124m\"\u001b[39m\u001b[38;5;124mvalue\u001b[39m\u001b[38;5;124m\"\u001b[39m]\n\u001b[1;32m    293\u001b[0m \u001b[38;5;28mself\u001b[39m\u001b[38;5;241m.\u001b[39msession_id \u001b[38;5;241m=\u001b[39m response\u001b[38;5;241m.\u001b[39mget(\u001b[38;5;124m\"\u001b[39m\u001b[38;5;124msessionId\u001b[39m\u001b[38;5;124m\"\u001b[39m)\n\u001b[1;32m    294\u001b[0m \u001b[38;5;28mself\u001b[39m\u001b[38;5;241m.\u001b[39mcaps \u001b[38;5;241m=\u001b[39m response\u001b[38;5;241m.\u001b[39mget(\u001b[38;5;124m\"\u001b[39m\u001b[38;5;124mcapabilities\u001b[39m\u001b[38;5;124m\"\u001b[39m)\n",
      "File \u001b[0;32m~/miniconda3/envs/main/lib/python3.9/site-packages/selenium/webdriver/remote/webdriver.py:347\u001b[0m, in \u001b[0;36mWebDriver.execute\u001b[0;34m(self, driver_command, params)\u001b[0m\n\u001b[1;32m    345\u001b[0m response \u001b[38;5;241m=\u001b[39m \u001b[38;5;28mself\u001b[39m\u001b[38;5;241m.\u001b[39mcommand_executor\u001b[38;5;241m.\u001b[39mexecute(driver_command, params)\n\u001b[1;32m    346\u001b[0m \u001b[38;5;28;01mif\u001b[39;00m response:\n\u001b[0;32m--> 347\u001b[0m     \u001b[38;5;28;43mself\u001b[39;49m\u001b[38;5;241;43m.\u001b[39;49m\u001b[43merror_handler\u001b[49m\u001b[38;5;241;43m.\u001b[39;49m\u001b[43mcheck_response\u001b[49m\u001b[43m(\u001b[49m\u001b[43mresponse\u001b[49m\u001b[43m)\u001b[49m\n\u001b[1;32m    348\u001b[0m     response[\u001b[38;5;124m\"\u001b[39m\u001b[38;5;124mvalue\u001b[39m\u001b[38;5;124m\"\u001b[39m] \u001b[38;5;241m=\u001b[39m \u001b[38;5;28mself\u001b[39m\u001b[38;5;241m.\u001b[39m_unwrap_value(response\u001b[38;5;241m.\u001b[39mget(\u001b[38;5;124m\"\u001b[39m\u001b[38;5;124mvalue\u001b[39m\u001b[38;5;124m\"\u001b[39m, \u001b[38;5;28;01mNone\u001b[39;00m))\n\u001b[1;32m    349\u001b[0m     \u001b[38;5;28;01mreturn\u001b[39;00m response\n",
      "File \u001b[0;32m~/miniconda3/envs/main/lib/python3.9/site-packages/selenium/webdriver/remote/errorhandler.py:229\u001b[0m, in \u001b[0;36mErrorHandler.check_response\u001b[0;34m(self, response)\u001b[0m\n\u001b[1;32m    227\u001b[0m         alert_text \u001b[38;5;241m=\u001b[39m value[\u001b[38;5;124m\"\u001b[39m\u001b[38;5;124malert\u001b[39m\u001b[38;5;124m\"\u001b[39m]\u001b[38;5;241m.\u001b[39mget(\u001b[38;5;124m\"\u001b[39m\u001b[38;5;124mtext\u001b[39m\u001b[38;5;124m\"\u001b[39m)\n\u001b[1;32m    228\u001b[0m     \u001b[38;5;28;01mraise\u001b[39;00m exception_class(message, screen, stacktrace, alert_text)  \u001b[38;5;66;03m# type: ignore[call-arg]  # mypy is not smart enough here\u001b[39;00m\n\u001b[0;32m--> 229\u001b[0m \u001b[38;5;28;01mraise\u001b[39;00m exception_class(message, screen, stacktrace)\n",
      "\u001b[0;31mSessionNotCreatedException\u001b[0m: Message: session not created: cannot connect to chrome at 127.0.0.1:55123\nfrom session not created: This version of ChromeDriver only supports Chrome version 130\nCurrent browser version is 129.0.6668.101\nStacktrace:\n0   undetected_chromedriver             0x0000000100d80a58 undetected_chromedriver + 8141400\n1   undetected_chromedriver             0x0000000100d7894a undetected_chromedriver + 8108362\n2   undetected_chromedriver             0x000000010061df60 undetected_chromedriver + 397152\n3   undetected_chromedriver             0x000000010065a04b undetected_chromedriver + 643147\n4   undetected_chromedriver             0x00000001006590a2 undetected_chromedriver + 639138\n5   undetected_chromedriver             0x000000010064ebbb undetected_chromedriver + 596923\n6   undetected_chromedriver             0x000000010069a74f undetected_chromedriver + 907087\n7   undetected_chromedriver             0x0000000100699d46 undetected_chromedriver + 904518\n8   undetected_chromedriver             0x000000010068e523 undetected_chromedriver + 857379\n9   undetected_chromedriver             0x000000010065d012 undetected_chromedriver + 655378\n10  undetected_chromedriver             0x000000010065dfee undetected_chromedriver + 659438\n11  undetected_chromedriver             0x0000000100d457c0 undetected_chromedriver + 7899072\n12  undetected_chromedriver             0x0000000100d49714 undetected_chromedriver + 7915284\n13  undetected_chromedriver             0x0000000100d27597 undetected_chromedriver + 7775639\n14  undetected_chromedriver             0x0000000100d4a19e undetected_chromedriver + 7917982\n15  undetected_chromedriver             0x0000000100d16874 undetected_chromedriver + 7706740\n16  undetected_chromedriver             0x0000000100d66d98 undetected_chromedriver + 8035736\n17  undetected_chromedriver             0x0000000100d66f56 undetected_chromedriver + 8036182\n18  undetected_chromedriver             0x0000000100d78558 undetected_chromedriver + 8107352\n19  libsystem_pthread.dylib             0x00007ff80dd37253 _pthread_start + 99\n20  libsystem_pthread.dylib             0x00007ff80dd32bef thread_start + 15\n"
     ]
    }
   ],
   "source": [
    "%%time\n",
    "opts = undetected_chromedriver.ChromeOptions()\n",
    "opts.add_argument(\"--disable-renderer-backgrounding\")\n",
    "opts.add_argument(\"--disable-extensions\")\n",
    "opts.add_argument('--no-sandbox')\n",
    "opts.add_argument('--disable-dev-shm-usage')\n",
    "opts.add_argument('headless')\n",
    "opts.add_argument('--disable-gpu')\n",
    "driver = undetected_chromedriver.Chrome(options=opts)\n",
    "\n",
    "url = f\"https://yandex.ru/maps/47/nizhny-novgorod/chain/sberbank/6003612\"\n",
    "\n",
    "driver.get(url)\n",
    "\n",
    "# N = round(random.uniform(13.1, 19.9), 2) # was higher\n",
    "# print(f'sleep for {N}')\n",
    "# time.sleep(N)\n",
    "\n",
    "# t = 'business-tab-wrapper'  # вот эта более корректная? \n",
    "# t = 'search-business-snippet-view'\n",
    "t = 'search-business-snippet-view__address'\n",
    "elements = driver.find_elements(By.CLASS_NAME, t)\n",
    "print(f'LEN elements at start {len(elements)}')\n",
    "\n",
    "links = set()\n",
    "\n",
    "if len(elements) >= 1:\n",
    "\n",
    "    print('elements > 1')\n",
    "    # без этого не работает\n",
    "    elements = driver.find_elements(By.CLASS_NAME, t)\n",
    "    print(f'LEN elements after {len(elements)}')\n",
    "\n",
    "    seen = []\n",
    "\n",
    "    while True:\n",
    "        # скролл\n",
    "        driver.execute_script(\"arguments[0].scrollIntoView();\", elements[-1]);\n",
    "\n",
    "        N = round(random.uniform(13.1, 19.9), 2) # was higher\n",
    "        print(f'sleep for {N}')\n",
    "        time.sleep(N)\n",
    "        \n",
    "        elements = driver.find_elements(By.CLASS_NAME, t)\n",
    "        \n",
    "        if len(elements) < 1:\n",
    "            T = round(random.uniform(10.1, 19.9), 2)\n",
    "            print(f'sleep again for {T}')\n",
    "            time.sleep(T)\n",
    "\n",
    "\n",
    "        for i, e in enumerate(elements):\n",
    "            print(f'* {i} *')\n",
    "            \n",
    "            # page3 = elements[3].get_attribute('innerHTML')\n",
    "            # print(page3)\n",
    "            \n",
    "            # link = e.find_element(By.XPATH, \".//a[@class='link-overlay']\").get_attribute('href')\n",
    "            link = e.find_element(By.XPATH, \".//a[@class='search-business-snippet-view__address']\").get_attribute('href')\n",
    "            print('link', link)\n",
    "            links.add(link)\n",
    "\n",
    "        last_len = len(elements)\n",
    "        print('LAST LEN ', last_len)\n",
    "        seen.append(last_len)\n",
    "        print('SEEN ', seen)\n",
    "\n",
    "        with open(f'links_{city_name}.pickle', 'wb') as handle:\n",
    "            pickle.dump(links, handle)\n",
    "\n",
    "        if len(seen) > 2 and seen[-2] == last_len:\n",
    "            print('**')\n",
    "            break\n",
    "\n",
    "\n",
    "        \n",
    "driver.close()\n",
    "driver.quit() "
   ]
  },
  {
   "cell_type": "code",
   "execution_count": 5,
   "id": "e91a1638-0b90-47ba-a9e7-53d077c12011",
   "metadata": {},
   "outputs": [
    {
     "data": {
      "text/plain": [
       "9"
      ]
     },
     "execution_count": 5,
     "metadata": {},
     "output_type": "execute_result"
    }
   ],
   "source": [
    "# перезаписывать линки \n",
    "with open(f'cities_code_dict.pickle', 'rb') as handle:\n",
    "    cities_code_dict = pickle.load(handle)\n",
    "len(cities_code_dict)"
   ]
  },
  {
   "cell_type": "code",
   "execution_count": 6,
   "id": "74288ba7-ec2d-419b-a346-cc3223f235da",
   "metadata": {},
   "outputs": [
    {
     "data": {
      "text/plain": [
       "{37: 'astrahan',\n",
       " 38: 'volgograd',\n",
       " 39: 'rostov-na-donu',\n",
       " 40: 'volga-federal-district',\n",
       " 41: 'yoshkar-ola',\n",
       " 42: 'saransk',\n",
       " 43: 'kazan',\n",
       " 44: 'izhevsk',\n",
       " 45: None}"
      ]
     },
     "execution_count": 6,
     "metadata": {},
     "output_type": "execute_result"
    }
   ],
   "source": [
    "cities_code_dict"
   ]
  },
  {
   "cell_type": "code",
   "execution_count": 3,
   "id": "454e1800-4126-4de8-860f-5a2cf0e1ec89",
   "metadata": {},
   "outputs": [
    {
     "data": {
      "text/plain": [
       "'кемеровская берёзовский'"
      ]
     },
     "execution_count": 3,
     "metadata": {},
     "output_type": "execute_result"
    }
   ],
   "source": [
    "# # # # # # # # # # # # # # # "
   ]
  },
  {
   "cell_type": "code",
   "execution_count": 4,
   "id": "8c95b2e0-e452-44d7-8630-b27a1a93bbec",
   "metadata": {},
   "outputs": [],
   "source": [
    "city_name = 'кемеровская берёзовский' \n",
    "\n",
    "params = dict(\n",
    "text=f'сбербанк {city_name}',\n",
    "type='biz',\n",
    "lang='en_US',\n",
    "apikey='cec67fc0-be48-435f-984d-b2f778a24fc0'\n",
    ")\n",
    "url = 'https://search-maps.yandex.ru/v1/'\n",
    "resp = requests.get(url=url, params=params)\n",
    "data = resp.json()\n",
    "\n",
    "data['features'][0]['properties']['CompanyMetaData']['Categories'][0]['class']"
   ]
  },
  {
   "cell_type": "code",
   "execution_count": 9,
   "id": "ce1f2b6c-ed61-4c09-84eb-eab0885645bb",
   "metadata": {},
   "outputs": [
    {
     "data": {
      "text/plain": [
       "'banks'"
      ]
     },
     "execution_count": 9,
     "metadata": {},
     "output_type": "execute_result"
    }
   ],
   "source": []
  },
  {
   "cell_type": "code",
   "execution_count": 24,
   "id": "91c28cce-7f5b-4021-8d28-7aff4bdfd9b1",
   "metadata": {},
   "outputs": [
    {
     "data": {
      "text/plain": [
       "'alapaevsk'"
      ]
     },
     "execution_count": 24,
     "metadata": {},
     "output_type": "execute_result"
    }
   ],
   "source": [
    "rom = Russian_romanizer(city_name)\n",
    "roman_city = rom.transliterate()\n",
    "roman_city = custom_handle(roman_city)\n",
    "roman_city"
   ]
  },
  {
   "cell_type": "code",
   "execution_count": 31,
   "id": "19b2b9fd-7fed-416e-98a3-fa6ba905be26",
   "metadata": {},
   "outputs": [],
   "source": [
    "s = \"Абаканская ул., 48, Минусинск\""
   ]
  },
  {
   "cell_type": "code",
   "execution_count": 32,
   "id": "ecc90be5-df16-4274-a230-3c40926a3e65",
   "metadata": {},
   "outputs": [
    {
     "data": {
      "text/plain": [
       "'Минусинск'"
      ]
     },
     "execution_count": 32,
     "metadata": {},
     "output_type": "execute_result"
    }
   ],
   "source": [
    "word_list = s.split()  # list of words\n",
    "\n",
    "word_list[-1]"
   ]
  },
  {
   "cell_type": "code",
   "execution_count": 5,
   "id": "76253e6b-fa86-4084-9d8e-bb8b28a40852",
   "metadata": {},
   "outputs": [
    {
     "data": {
      "text/plain": [
       "'republic of bashkortostan, oktyabrskiy, ulitsa sadovoye koltso, 21'"
      ]
     },
     "execution_count": 5,
     "metadata": {},
     "output_type": "execute_result"
    }
   ],
   "source": [
    "address = data['features'][0]['properties']['CompanyMetaData']['address'].lower()\n",
    "address"
   ]
  },
  {
   "cell_type": "code",
   "execution_count": 26,
   "id": "0a1873af-1934-4cd6-9cc9-df612199f4db",
   "metadata": {},
   "outputs": [
    {
     "data": {
      "text/plain": [
       "False"
      ]
     },
     "execution_count": 26,
     "metadata": {},
     "output_type": "execute_result"
    }
   ],
   "source": [
    "roman_city in address"
   ]
  },
  {
   "cell_type": "code",
   "execution_count": 27,
   "id": "a9c1f7c6-c840-4529-ba42-fe40c287e91d",
   "metadata": {},
   "outputs": [
    {
     "data": {
      "text/plain": [
       "False"
      ]
     },
     "execution_count": 27,
     "metadata": {},
     "output_type": "execute_result"
    }
   ],
   "source": [
    "bool(re.search(roman_city, address))"
   ]
  },
  {
   "cell_type": "code",
   "execution_count": 187,
   "id": "0ae6d1e5-bd82-4fab-9164-2d949669c055",
   "metadata": {},
   "outputs": [
    {
     "data": {
      "text/plain": [
       "0.1836734693877551"
      ]
     },
     "execution_count": 187,
     "metadata": {},
     "output_type": "execute_result"
    }
   ],
   "source": [
    "similar(roman_city, address)"
   ]
  },
  {
   "cell_type": "code",
   "execution_count": 271,
   "id": "426b14f4-03d4-4471-8794-46f4811de506",
   "metadata": {},
   "outputs": [
    {
     "data": {
      "text/plain": [
       "0"
      ]
     },
     "execution_count": 271,
     "metadata": {},
     "output_type": "execute_result"
    }
   ],
   "source": [
    "with open('/Users/anyarulina/parser/cities_dict_alfa_bank.pickle', 'rb') as f:\n",
    "    cities_dict_alfa_bank = pickle.load(f)\n",
    "cities_dict_alfa_bank[city_name]"
   ]
  },
  {
   "cell_type": "code",
   "execution_count": 294,
   "id": "f9ddcd25-6183-4bf5-ad39-3f4a2d4e0851",
   "metadata": {},
   "outputs": [
    {
     "data": {
      "text/plain": [
       "'194526712498'"
      ]
     },
     "execution_count": 294,
     "metadata": {},
     "output_type": "execute_result"
    }
   ],
   "source": [
    "data['features'][0]['properties']['CompanyMetaData']['id']"
   ]
  },
  {
   "cell_type": "code",
   "execution_count": 190,
   "id": "4d343896-2531-4fd8-ab49-56ea3fb23a05",
   "metadata": {},
   "outputs": [],
   "source": [
    "from difflib import SequenceMatcher\n",
    "\n",
    "def similar(a, b):\n",
    "    return SequenceMatcher(None, a, b).ratio()\n"
   ]
  },
  {
   "cell_type": "code",
   "execution_count": 20,
   "id": "19159c2c-414a-437a-88ab-ba4bf6e9e790",
   "metadata": {},
   "outputs": [
    {
     "data": {
      "text/plain": [
       "'irkutsk region, cheremkhovo, pervomayskaya ulitsa, 160б'"
      ]
     },
     "execution_count": 20,
     "metadata": {},
     "output_type": "execute_result"
    }
   ],
   "source": [
    "0.3"
   ]
  },
  {
   "cell_type": "code",
   "execution_count": 4,
   "id": "32302914-af37-4e5d-bba7-e40c6dcb7958",
   "metadata": {},
   "outputs": [],
   "source": [
    "def find_between(s, first, last):\n",
    "    try:\n",
    "        regex = rf'{first}(.*?){last}'\n",
    "        return re.findall(regex, s)\n",
    "    except ValueError:\n",
    "        return -1\n",
    "\n",
    "\n",
    "def get_id_from_page(page, print_links=False):\n",
    "\n",
    "    first = 'search-snippet-view__link-overlay _focusable\" href=\"/maps/org/bank_vtb/'\n",
    "    last = '/\" tabindex=\"'\n",
    "    yndx_idx = find_between(page, first, last)\n",
    "\n",
    "    print(f'founded {len(yndx_idx)} ids')\n",
    "    \n",
    "    if print_links:\n",
    "    # full_links = []\n",
    "        main_url = 'https://yandex.ru/maps/org/bank_vtb/'\n",
    "        for l in yndx_idx:\n",
    "            # full_links.append(main_url + l)\n",
    "            print(main_url + l)\n",
    "\n",
    "    return yndx_idx\n",
    "    \n",
    "\n",
    "def __scroll_to_bottom(elem, t):\n",
    "    \"\"\"\n",
    "    Скроллим список до последнего отзыва\n",
    "    :param elem: Последний отзыв в списке\n",
    "    :param driver: Драйвер undetected_chromedriver\n",
    "    :return: None\n",
    "    \"\"\"\n",
    "    driver.execute_script(\n",
    "        \"arguments[0].scrollIntoView();\",\n",
    "        elem\n",
    "    )\n",
    "    # time.sleep(1)\n",
    "    new_elem = driver.find_elements(By.CLASS_NAME, t)[-1]\n",
    "    print('I scroll')\n",
    "    if elem == new_elem:\n",
    "        return\n",
    "    __scroll_to_bottom(new_elem)"
   ]
  },
  {
   "cell_type": "code",
   "execution_count": null,
   "id": "b6b3c262-2a46-419d-b85a-29e507bcb199",
   "metadata": {},
   "outputs": [],
   "source": []
  },
  {
   "cell_type": "code",
   "execution_count": 13,
   "id": "96b0d7c2-8cb2-4c9d-aedd-e5691836a66d",
   "metadata": {},
   "outputs": [],
   "source": [
    "from selenium.webdriver.support.ui import WebDriverWait\n",
    "from selenium.webdriver.support import expected_conditions as EC\n",
    "from selenium.webdriver.common.by import By\n",
    "\n",
    "opts = undetected_chromedriver.ChromeOptions()\n",
    "opts.add_argument('--no-sandbox')\n",
    "opts.add_argument('--disable-dev-shm-usage')\n",
    "opts.add_argument('headless')\n",
    "# opts.add_argument(\"--window-size=1366,768\")\n",
    "opts.add_argument('--disable-gpu')\n",
    "driver = undetected_chromedriver.Chrome(options=opts)\n",
    "\n",
    "driver.get(\"https://yandex.ru/maps/org/sberbank/1127148321/reviews\")\n",
    "\n",
    "# print(driver.page_source)\n",
    "\n",
    "business_aspect = []\n",
    "\n",
    "t = 'business-tab-wrapper' \n",
    "elements = driver.find_elements(By.CLASS_NAME, t)\n",
    "\n",
    "\n",
    "\n",
    "driver.close()\n",
    "driver.quit() "
   ]
  },
  {
   "cell_type": "code",
   "execution_count": 32,
   "id": "6aec8d6a-693b-4c05-98e7-113dc76278a5",
   "metadata": {},
   "outputs": [],
   "source": [
    "def find_between(s, first, last):\n",
    "    \"\"\"находит строку между символами first и last\"\"\"\n",
    "    try:\n",
    "        regex = rf'{first}(.*?){last}'\n",
    "        return re.findall(regex, s)\n",
    "    except ValueError:\n",
    "        return -1\n",
    "\n",
    "def handle_business_aspect(business_aspect):\n",
    "    d = {}\n",
    "\n",
    "    for aspect in business_aspect:\n",
    "        k = find_between(aspect, '', ' • ')[0]\n",
    "        v = find_between(aspect, ' • ', '%')[0]\n",
    "        d[k] = v\n",
    "    return d"
   ]
  },
  {
   "cell_type": "code",
   "execution_count": null,
   "id": "41cb7e21-b762-40cd-8353-c8f594d45e8c",
   "metadata": {},
   "outputs": [],
   "source": []
  },
  {
   "cell_type": "code",
   "execution_count": 36,
   "id": "4e9c58cb-8b43-4f1d-a412-2eab596adb56",
   "metadata": {},
   "outputs": [],
   "source": []
  },
  {
   "cell_type": "code",
   "execution_count": 7,
   "id": "1b97a1d2-a79f-4caa-99a6-6a1882ee35da",
   "metadata": {},
   "outputs": [
    {
     "ename": "WebDriverException",
     "evalue": "Message: unknown error: cannot connect to chrome at 127.0.0.1:54399\nfrom session not created: This version of ChromeDriver only supports Chrome version 125\nCurrent browser version is 124.0.6367.208\nStacktrace:\n0   undetected_chromedriver             0x0000000100fd28f8 undetected_chromedriver + 5146872\n1   undetected_chromedriver             0x0000000100fca86a undetected_chromedriver + 5113962\n2   undetected_chromedriver             0x0000000100b4bb6c undetected_chromedriver + 400236\n3   undetected_chromedriver             0x0000000100b87ec3 undetected_chromedriver + 646851\n4   undetected_chromedriver             0x0000000100b86fe0 undetected_chromedriver + 643040\n5   undetected_chromedriver             0x0000000100b7d557 undetected_chromedriver + 603479\n6   undetected_chromedriver             0x0000000100bc864a undetected_chromedriver + 910922\n7   undetected_chromedriver             0x0000000100bbb6d3 undetected_chromedriver + 857811\n8   undetected_chromedriver             0x0000000100b8b385 undetected_chromedriver + 660357\n9   undetected_chromedriver             0x0000000100b8bc1e undetected_chromedriver + 662558\n10  undetected_chromedriver             0x0000000100f94c60 undetected_chromedriver + 4893792\n11  undetected_chromedriver             0x0000000100f9a699 undetected_chromedriver + 4916889\n12  undetected_chromedriver             0x0000000100f76384 undetected_chromedriver + 4768644\n13  undetected_chromedriver             0x0000000100f9b179 undetected_chromedriver + 4919673\n14  undetected_chromedriver             0x0000000100f67c74 undetected_chromedriver + 4709492\n15  undetected_chromedriver             0x0000000100fbb008 undetected_chromedriver + 5050376\n16  undetected_chromedriver             0x0000000100fbb1c7 undetected_chromedriver + 5050823\n17  undetected_chromedriver             0x0000000100fca41e undetected_chromedriver + 5112862\n18  libsystem_pthread.dylib             0x00007ff810ecc18b _pthread_start + 99\n19  libsystem_pthread.dylib             0x00007ff810ec7ae3 thread_start + 15\n",
     "output_type": "error",
     "traceback": [
      "\u001b[0;31m---------------------------------------------------------------------------\u001b[0m",
      "\u001b[0;31mWebDriverException\u001b[0m                        Traceback (most recent call last)",
      "Cell \u001b[0;32mIn[7], line 6\u001b[0m\n\u001b[1;32m      4\u001b[0m opts\u001b[38;5;241m.\u001b[39madd_argument(\u001b[38;5;124m'\u001b[39m\u001b[38;5;124mheadless\u001b[39m\u001b[38;5;124m'\u001b[39m)\n\u001b[1;32m      5\u001b[0m opts\u001b[38;5;241m.\u001b[39madd_argument(\u001b[38;5;124m'\u001b[39m\u001b[38;5;124m--disable-gpu\u001b[39m\u001b[38;5;124m'\u001b[39m)\n\u001b[0;32m----> 6\u001b[0m driver \u001b[38;5;241m=\u001b[39m \u001b[43mundetected_chromedriver\u001b[49m\u001b[38;5;241;43m.\u001b[39;49m\u001b[43mChrome\u001b[49m\u001b[43m(\u001b[49m\u001b[43moptions\u001b[49m\u001b[38;5;241;43m=\u001b[39;49m\u001b[43mopts\u001b[49m\u001b[43m)\u001b[49m\n\u001b[1;32m      9\u001b[0m yndx_bank_id \u001b[38;5;241m=\u001b[39m \u001b[38;5;241m237298732046\u001b[39m\n\u001b[1;32m     10\u001b[0m url \u001b[38;5;241m=\u001b[39m \u001b[38;5;124mf\u001b[39m\u001b[38;5;124m'\u001b[39m\u001b[38;5;124mhttps://yandex.ru/maps/org/alfa_bank/\u001b[39m\u001b[38;5;132;01m{\u001b[39;00myndx_bank_id\u001b[38;5;132;01m}\u001b[39;00m\u001b[38;5;124m'\u001b[39m\n",
      "File \u001b[0;32m~/miniconda3/envs/main/lib/python3.9/site-packages/undetected_chromedriver/__init__.py:466\u001b[0m, in \u001b[0;36mChrome.__init__\u001b[0;34m(self, options, user_data_dir, driver_executable_path, browser_executable_path, port, enable_cdp_events, desired_capabilities, advanced_elements, keep_alive, log_level, headless, version_main, patcher_force_close, suppress_welcome, use_subprocess, debug, no_sandbox, user_multi_procs, **kw)\u001b[0m\n\u001b[1;32m    459\u001b[0m     \u001b[38;5;28mself\u001b[39m\u001b[38;5;241m.\u001b[39mbrowser_pid \u001b[38;5;241m=\u001b[39m browser\u001b[38;5;241m.\u001b[39mpid\n\u001b[1;32m    462\u001b[0m service \u001b[38;5;241m=\u001b[39m selenium\u001b[38;5;241m.\u001b[39mwebdriver\u001b[38;5;241m.\u001b[39mchromium\u001b[38;5;241m.\u001b[39mservice\u001b[38;5;241m.\u001b[39mChromiumService(\n\u001b[1;32m    463\u001b[0m     \u001b[38;5;28mself\u001b[39m\u001b[38;5;241m.\u001b[39mpatcher\u001b[38;5;241m.\u001b[39mexecutable_path\n\u001b[1;32m    464\u001b[0m )\n\u001b[0;32m--> 466\u001b[0m \u001b[38;5;28;43msuper\u001b[39;49m\u001b[43m(\u001b[49m\u001b[43mChrome\u001b[49m\u001b[43m,\u001b[49m\u001b[43m \u001b[49m\u001b[38;5;28;43mself\u001b[39;49m\u001b[43m)\u001b[49m\u001b[38;5;241;43m.\u001b[39;49m\u001b[38;5;21;43m__init__\u001b[39;49m\u001b[43m(\u001b[49m\n\u001b[1;32m    467\u001b[0m \u001b[43m    \u001b[49m\u001b[43mservice\u001b[49m\u001b[38;5;241;43m=\u001b[39;49m\u001b[43mservice\u001b[49m\u001b[43m,\u001b[49m\n\u001b[1;32m    468\u001b[0m \u001b[43m    \u001b[49m\u001b[43moptions\u001b[49m\u001b[38;5;241;43m=\u001b[39;49m\u001b[43moptions\u001b[49m\u001b[43m,\u001b[49m\n\u001b[1;32m    469\u001b[0m \u001b[43m    \u001b[49m\u001b[43mkeep_alive\u001b[49m\u001b[38;5;241;43m=\u001b[39;49m\u001b[43mkeep_alive\u001b[49m\u001b[43m,\u001b[49m\n\u001b[1;32m    470\u001b[0m \u001b[43m\u001b[49m\u001b[43m)\u001b[49m\n\u001b[1;32m    472\u001b[0m \u001b[38;5;28mself\u001b[39m\u001b[38;5;241m.\u001b[39mreactor \u001b[38;5;241m=\u001b[39m \u001b[38;5;28;01mNone\u001b[39;00m\n\u001b[1;32m    474\u001b[0m \u001b[38;5;28;01mif\u001b[39;00m enable_cdp_events:\n",
      "File \u001b[0;32m~/miniconda3/envs/main/lib/python3.9/site-packages/selenium/webdriver/chrome/webdriver.py:45\u001b[0m, in \u001b[0;36mWebDriver.__init__\u001b[0;34m(self, options, service, keep_alive)\u001b[0m\n\u001b[1;32m     42\u001b[0m service \u001b[38;5;241m=\u001b[39m service \u001b[38;5;28;01mif\u001b[39;00m service \u001b[38;5;28;01melse\u001b[39;00m Service()\n\u001b[1;32m     43\u001b[0m options \u001b[38;5;241m=\u001b[39m options \u001b[38;5;28;01mif\u001b[39;00m options \u001b[38;5;28;01melse\u001b[39;00m Options()\n\u001b[0;32m---> 45\u001b[0m \u001b[38;5;28;43msuper\u001b[39;49m\u001b[43m(\u001b[49m\u001b[43m)\u001b[49m\u001b[38;5;241;43m.\u001b[39;49m\u001b[38;5;21;43m__init__\u001b[39;49m\u001b[43m(\u001b[49m\n\u001b[1;32m     46\u001b[0m \u001b[43m    \u001b[49m\u001b[43mbrowser_name\u001b[49m\u001b[38;5;241;43m=\u001b[39;49m\u001b[43mDesiredCapabilities\u001b[49m\u001b[38;5;241;43m.\u001b[39;49m\u001b[43mCHROME\u001b[49m\u001b[43m[\u001b[49m\u001b[38;5;124;43m\"\u001b[39;49m\u001b[38;5;124;43mbrowserName\u001b[39;49m\u001b[38;5;124;43m\"\u001b[39;49m\u001b[43m]\u001b[49m\u001b[43m,\u001b[49m\n\u001b[1;32m     47\u001b[0m \u001b[43m    \u001b[49m\u001b[43mvendor_prefix\u001b[49m\u001b[38;5;241;43m=\u001b[39;49m\u001b[38;5;124;43m\"\u001b[39;49m\u001b[38;5;124;43mgoog\u001b[39;49m\u001b[38;5;124;43m\"\u001b[39;49m\u001b[43m,\u001b[49m\n\u001b[1;32m     48\u001b[0m \u001b[43m    \u001b[49m\u001b[43moptions\u001b[49m\u001b[38;5;241;43m=\u001b[39;49m\u001b[43moptions\u001b[49m\u001b[43m,\u001b[49m\n\u001b[1;32m     49\u001b[0m \u001b[43m    \u001b[49m\u001b[43mservice\u001b[49m\u001b[38;5;241;43m=\u001b[39;49m\u001b[43mservice\u001b[49m\u001b[43m,\u001b[49m\n\u001b[1;32m     50\u001b[0m \u001b[43m    \u001b[49m\u001b[43mkeep_alive\u001b[49m\u001b[38;5;241;43m=\u001b[39;49m\u001b[43mkeep_alive\u001b[49m\u001b[43m,\u001b[49m\n\u001b[1;32m     51\u001b[0m \u001b[43m\u001b[49m\u001b[43m)\u001b[49m\n",
      "File \u001b[0;32m~/miniconda3/envs/main/lib/python3.9/site-packages/selenium/webdriver/chromium/webdriver.py:61\u001b[0m, in \u001b[0;36mChromiumDriver.__init__\u001b[0;34m(self, browser_name, vendor_prefix, options, service, keep_alive)\u001b[0m\n\u001b[1;32m     52\u001b[0m executor \u001b[38;5;241m=\u001b[39m ChromiumRemoteConnection(\n\u001b[1;32m     53\u001b[0m     remote_server_addr\u001b[38;5;241m=\u001b[39m\u001b[38;5;28mself\u001b[39m\u001b[38;5;241m.\u001b[39mservice\u001b[38;5;241m.\u001b[39mservice_url,\n\u001b[1;32m     54\u001b[0m     browser_name\u001b[38;5;241m=\u001b[39mbrowser_name,\n\u001b[0;32m   (...)\u001b[0m\n\u001b[1;32m     57\u001b[0m     ignore_proxy\u001b[38;5;241m=\u001b[39moptions\u001b[38;5;241m.\u001b[39m_ignore_local_proxy,\n\u001b[1;32m     58\u001b[0m )\n\u001b[1;32m     60\u001b[0m \u001b[38;5;28;01mtry\u001b[39;00m:\n\u001b[0;32m---> 61\u001b[0m     \u001b[38;5;28;43msuper\u001b[39;49m\u001b[43m(\u001b[49m\u001b[43m)\u001b[49m\u001b[38;5;241;43m.\u001b[39;49m\u001b[38;5;21;43m__init__\u001b[39;49m\u001b[43m(\u001b[49m\u001b[43mcommand_executor\u001b[49m\u001b[38;5;241;43m=\u001b[39;49m\u001b[43mexecutor\u001b[49m\u001b[43m,\u001b[49m\u001b[43m \u001b[49m\u001b[43moptions\u001b[49m\u001b[38;5;241;43m=\u001b[39;49m\u001b[43moptions\u001b[49m\u001b[43m)\u001b[49m\n\u001b[1;32m     62\u001b[0m \u001b[38;5;28;01mexcept\u001b[39;00m \u001b[38;5;167;01mException\u001b[39;00m:\n\u001b[1;32m     63\u001b[0m     \u001b[38;5;28mself\u001b[39m\u001b[38;5;241m.\u001b[39mquit()\n",
      "File \u001b[0;32m~/miniconda3/envs/main/lib/python3.9/site-packages/selenium/webdriver/remote/webdriver.py:208\u001b[0m, in \u001b[0;36mWebDriver.__init__\u001b[0;34m(self, command_executor, keep_alive, file_detector, options)\u001b[0m\n\u001b[1;32m    206\u001b[0m \u001b[38;5;28mself\u001b[39m\u001b[38;5;241m.\u001b[39m_authenticator_id \u001b[38;5;241m=\u001b[39m \u001b[38;5;28;01mNone\u001b[39;00m\n\u001b[1;32m    207\u001b[0m \u001b[38;5;28mself\u001b[39m\u001b[38;5;241m.\u001b[39mstart_client()\n\u001b[0;32m--> 208\u001b[0m \u001b[38;5;28;43mself\u001b[39;49m\u001b[38;5;241;43m.\u001b[39;49m\u001b[43mstart_session\u001b[49m\u001b[43m(\u001b[49m\u001b[43mcapabilities\u001b[49m\u001b[43m)\u001b[49m\n",
      "File \u001b[0;32m~/miniconda3/envs/main/lib/python3.9/site-packages/undetected_chromedriver/__init__.py:724\u001b[0m, in \u001b[0;36mChrome.start_session\u001b[0;34m(self, capabilities, browser_profile)\u001b[0m\n\u001b[1;32m    722\u001b[0m \u001b[38;5;28;01mif\u001b[39;00m \u001b[38;5;129;01mnot\u001b[39;00m capabilities:\n\u001b[1;32m    723\u001b[0m     capabilities \u001b[38;5;241m=\u001b[39m \u001b[38;5;28mself\u001b[39m\u001b[38;5;241m.\u001b[39moptions\u001b[38;5;241m.\u001b[39mto_capabilities()\n\u001b[0;32m--> 724\u001b[0m \u001b[38;5;28;43msuper\u001b[39;49m\u001b[43m(\u001b[49m\u001b[43mselenium\u001b[49m\u001b[38;5;241;43m.\u001b[39;49m\u001b[43mwebdriver\u001b[49m\u001b[38;5;241;43m.\u001b[39;49m\u001b[43mchrome\u001b[49m\u001b[38;5;241;43m.\u001b[39;49m\u001b[43mwebdriver\u001b[49m\u001b[38;5;241;43m.\u001b[39;49m\u001b[43mWebDriver\u001b[49m\u001b[43m,\u001b[49m\u001b[43m \u001b[49m\u001b[38;5;28;43mself\u001b[39;49m\u001b[43m)\u001b[49m\u001b[38;5;241;43m.\u001b[39;49m\u001b[43mstart_session\u001b[49m\u001b[43m(\u001b[49m\n\u001b[1;32m    725\u001b[0m \u001b[43m    \u001b[49m\u001b[43mcapabilities\u001b[49m\n\u001b[1;32m    726\u001b[0m \u001b[43m\u001b[49m\u001b[43m)\u001b[49m\n",
      "File \u001b[0;32m~/miniconda3/envs/main/lib/python3.9/site-packages/selenium/webdriver/remote/webdriver.py:292\u001b[0m, in \u001b[0;36mWebDriver.start_session\u001b[0;34m(self, capabilities)\u001b[0m\n\u001b[1;32m    285\u001b[0m \u001b[38;5;250m\u001b[39m\u001b[38;5;124;03m\"\"\"Creates a new session with the desired capabilities.\u001b[39;00m\n\u001b[1;32m    286\u001b[0m \n\u001b[1;32m    287\u001b[0m \u001b[38;5;124;03m:Args:\u001b[39;00m\n\u001b[1;32m    288\u001b[0m \u001b[38;5;124;03m - capabilities - a capabilities dict to start the session with.\u001b[39;00m\n\u001b[1;32m    289\u001b[0m \u001b[38;5;124;03m\"\"\"\u001b[39;00m\n\u001b[1;32m    291\u001b[0m caps \u001b[38;5;241m=\u001b[39m _create_caps(capabilities)\n\u001b[0;32m--> 292\u001b[0m response \u001b[38;5;241m=\u001b[39m \u001b[38;5;28;43mself\u001b[39;49m\u001b[38;5;241;43m.\u001b[39;49m\u001b[43mexecute\u001b[49m\u001b[43m(\u001b[49m\u001b[43mCommand\u001b[49m\u001b[38;5;241;43m.\u001b[39;49m\u001b[43mNEW_SESSION\u001b[49m\u001b[43m,\u001b[49m\u001b[43m \u001b[49m\u001b[43mcaps\u001b[49m\u001b[43m)\u001b[49m[\u001b[38;5;124m\"\u001b[39m\u001b[38;5;124mvalue\u001b[39m\u001b[38;5;124m\"\u001b[39m]\n\u001b[1;32m    293\u001b[0m \u001b[38;5;28mself\u001b[39m\u001b[38;5;241m.\u001b[39msession_id \u001b[38;5;241m=\u001b[39m response\u001b[38;5;241m.\u001b[39mget(\u001b[38;5;124m\"\u001b[39m\u001b[38;5;124msessionId\u001b[39m\u001b[38;5;124m\"\u001b[39m)\n\u001b[1;32m    294\u001b[0m \u001b[38;5;28mself\u001b[39m\u001b[38;5;241m.\u001b[39mcaps \u001b[38;5;241m=\u001b[39m response\u001b[38;5;241m.\u001b[39mget(\u001b[38;5;124m\"\u001b[39m\u001b[38;5;124mcapabilities\u001b[39m\u001b[38;5;124m\"\u001b[39m)\n",
      "File \u001b[0;32m~/miniconda3/envs/main/lib/python3.9/site-packages/selenium/webdriver/remote/webdriver.py:347\u001b[0m, in \u001b[0;36mWebDriver.execute\u001b[0;34m(self, driver_command, params)\u001b[0m\n\u001b[1;32m    345\u001b[0m response \u001b[38;5;241m=\u001b[39m \u001b[38;5;28mself\u001b[39m\u001b[38;5;241m.\u001b[39mcommand_executor\u001b[38;5;241m.\u001b[39mexecute(driver_command, params)\n\u001b[1;32m    346\u001b[0m \u001b[38;5;28;01mif\u001b[39;00m response:\n\u001b[0;32m--> 347\u001b[0m     \u001b[38;5;28;43mself\u001b[39;49m\u001b[38;5;241;43m.\u001b[39;49m\u001b[43merror_handler\u001b[49m\u001b[38;5;241;43m.\u001b[39;49m\u001b[43mcheck_response\u001b[49m\u001b[43m(\u001b[49m\u001b[43mresponse\u001b[49m\u001b[43m)\u001b[49m\n\u001b[1;32m    348\u001b[0m     response[\u001b[38;5;124m\"\u001b[39m\u001b[38;5;124mvalue\u001b[39m\u001b[38;5;124m\"\u001b[39m] \u001b[38;5;241m=\u001b[39m \u001b[38;5;28mself\u001b[39m\u001b[38;5;241m.\u001b[39m_unwrap_value(response\u001b[38;5;241m.\u001b[39mget(\u001b[38;5;124m\"\u001b[39m\u001b[38;5;124mvalue\u001b[39m\u001b[38;5;124m\"\u001b[39m, \u001b[38;5;28;01mNone\u001b[39;00m))\n\u001b[1;32m    349\u001b[0m     \u001b[38;5;28;01mreturn\u001b[39;00m response\n",
      "File \u001b[0;32m~/miniconda3/envs/main/lib/python3.9/site-packages/selenium/webdriver/remote/errorhandler.py:229\u001b[0m, in \u001b[0;36mErrorHandler.check_response\u001b[0;34m(self, response)\u001b[0m\n\u001b[1;32m    227\u001b[0m         alert_text \u001b[38;5;241m=\u001b[39m value[\u001b[38;5;124m\"\u001b[39m\u001b[38;5;124malert\u001b[39m\u001b[38;5;124m\"\u001b[39m]\u001b[38;5;241m.\u001b[39mget(\u001b[38;5;124m\"\u001b[39m\u001b[38;5;124mtext\u001b[39m\u001b[38;5;124m\"\u001b[39m)\n\u001b[1;32m    228\u001b[0m     \u001b[38;5;28;01mraise\u001b[39;00m exception_class(message, screen, stacktrace, alert_text)  \u001b[38;5;66;03m# type: ignore[call-arg]  # mypy is not smart enough here\u001b[39;00m\n\u001b[0;32m--> 229\u001b[0m \u001b[38;5;28;01mraise\u001b[39;00m exception_class(message, screen, stacktrace)\n",
      "\u001b[0;31mWebDriverException\u001b[0m: Message: unknown error: cannot connect to chrome at 127.0.0.1:54399\nfrom session not created: This version of ChromeDriver only supports Chrome version 125\nCurrent browser version is 124.0.6367.208\nStacktrace:\n0   undetected_chromedriver             0x0000000100fd28f8 undetected_chromedriver + 5146872\n1   undetected_chromedriver             0x0000000100fca86a undetected_chromedriver + 5113962\n2   undetected_chromedriver             0x0000000100b4bb6c undetected_chromedriver + 400236\n3   undetected_chromedriver             0x0000000100b87ec3 undetected_chromedriver + 646851\n4   undetected_chromedriver             0x0000000100b86fe0 undetected_chromedriver + 643040\n5   undetected_chromedriver             0x0000000100b7d557 undetected_chromedriver + 603479\n6   undetected_chromedriver             0x0000000100bc864a undetected_chromedriver + 910922\n7   undetected_chromedriver             0x0000000100bbb6d3 undetected_chromedriver + 857811\n8   undetected_chromedriver             0x0000000100b8b385 undetected_chromedriver + 660357\n9   undetected_chromedriver             0x0000000100b8bc1e undetected_chromedriver + 662558\n10  undetected_chromedriver             0x0000000100f94c60 undetected_chromedriver + 4893792\n11  undetected_chromedriver             0x0000000100f9a699 undetected_chromedriver + 4916889\n12  undetected_chromedriver             0x0000000100f76384 undetected_chromedriver + 4768644\n13  undetected_chromedriver             0x0000000100f9b179 undetected_chromedriver + 4919673\n14  undetected_chromedriver             0x0000000100f67c74 undetected_chromedriver + 4709492\n15  undetected_chromedriver             0x0000000100fbb008 undetected_chromedriver + 5050376\n16  undetected_chromedriver             0x0000000100fbb1c7 undetected_chromedriver + 5050823\n17  undetected_chromedriver             0x0000000100fca41e undetected_chromedriver + 5112862\n18  libsystem_pthread.dylib             0x00007ff810ecc18b _pthread_start + 99\n19  libsystem_pthread.dylib             0x00007ff810ec7ae3 thread_start + 15\n"
     ]
    }
   ],
   "source": [
    "opts = undetected_chromedriver.ChromeOptions()\n",
    "opts.add_argument('--no-sandbox')\n",
    "opts.add_argument('--disable-dev-shm-usage')\n",
    "opts.add_argument('headless')\n",
    "opts.add_argument('--disable-gpu')\n",
    "driver = undetected_chromedriver.Chrome(options=opts)\n",
    "\n",
    "\n",
    "yndx_bank_id = 237298732046\n",
    "url = f'https://yandex.ru/maps/org/alfa_bank/{yndx_bank_id}'\n",
    "driver.get(url)\n",
    "\n",
    "# t = 'business-tab-wrapper' \n",
    "# elements = driver.find_elements(By.CLASS_NAME, t)\n",
    "\n",
    "# # может работать не с 1ого раза\n",
    "# if len(elements) > 1:\n",
    "\n",
    "#     # без этого не работает\n",
    "#     elements = driver.find_elements(By.CLASS_NAME, t)\n",
    "\n",
    "soup_content = BeautifulSoup(driver.page_source, \"lxml\")\n",
    "\n",
    "try:\n",
    "    for data in soup_content.find_all(\"div\", {\"class\": \"business-working-status-view _closed _no-data\"}):\n",
    "        name = data.getText()\n",
    "    return name\n",
    "except Exception:\n",
    "    return \"\""
   ]
  },
  {
   "cell_type": "code",
   "execution_count": 5,
   "id": "84bcde0e-b2d0-437b-ba22-e1ce58945b42",
   "metadata": {},
   "outputs": [],
   "source": [
    "def get_yndx_id_from_chain(yndx_bank_id):\n",
    "    \n",
    "    opts = undetected_chromedriver.ChromeOptions()\n",
    "    opts.add_argument('--no-sandbox')\n",
    "    opts.add_argument('--disable-dev-shm-usage')\n",
    "    opts.add_argument('headless')\n",
    "    opts.add_argument('--disable-gpu')\n",
    "    driver = undetected_chromedriver.Chrome(options=opts)\n",
    "    \n",
    "    # TODO: для разных банков - name == sberbank\n",
    "    # bank_name = 'bank_vtb'\n",
    "    # url = f'https://yandex.ru/maps/org/{bank_name}/{yndx_bank_id}/chain/'\n",
    "    url = f'https://yandex.ru/maps/org/sberbank/{yndx_bank_id}/chain/'\n",
    "    driver.get(url)\n",
    "    \n",
    "    t = 'business-tab-wrapper' \n",
    "    elements = driver.find_elements(By.CLASS_NAME, t)\n",
    "    \n",
    "    # может работать не с 1ого раза\n",
    "    if len(elements) > 1:\n",
    "\n",
    "        # без этого не работает\n",
    "        elements = driver.find_elements(By.CLASS_NAME, t)\n",
    "    \n",
    "        seen = []\n",
    "    \n",
    "        while True:\n",
    "            driver.execute_script(\"arguments[0].scrollIntoView();\", elements[-1]);\n",
    "            # TODO: подольше спать?\n",
    "            time.sleep(round(random.uniform(230.1, 239.9), 2))\n",
    "            elements = driver.find_elements(By.CLASS_NAME, t)\n",
    "            if len(elements) < 1:\n",
    "                time.sleep(round(random.uniform(10.1, 19.9), 2))\n",
    "    \n",
    "            page3 = elements[3].get_attribute('innerHTML')\n",
    "            yndx_idx = get_id_from_page(page3)\n",
    "            \n",
    "            last_size = len(yndx_idx)\n",
    "            seen.append(last_size)\n",
    "            \n",
    "            # TODO: проверить, всё ли сохраняется?\n",
    "            if len(set(seen))-1 < len(seen):\n",
    "                break\n",
    "    \n",
    "    else:\n",
    "        print('driver stopped')\n",
    "        driver.close()\n",
    "        driver.quit()\n",
    "        \n",
    "    driver.close()\n",
    "    driver.quit() \n",
    "    \n",
    "    return yndx_idx"
   ]
  },
  {
   "cell_type": "code",
   "execution_count": 105,
   "id": "34a86370-cf4b-4ad1-9a21-ecedaff210b5",
   "metadata": {},
   "outputs": [],
   "source": [
    "# bank_name = 'alfa_bank'\n",
    "# yndx_bank_id = 89484726721\n",
    "\n",
    "# opts = undetected_chromedriver.ChromeOptions()\n",
    "# opts.add_argument('--no-sandbox')\n",
    "# opts.add_argument('--disable-dev-shm-usage')\n",
    "# opts.add_argument('headless')\n",
    "# opts.add_argument('--disable-gpu')\n",
    "# driver = undetected_chromedriver.Chrome(options=opts)\n",
    "\n",
    "# url = f'https://yandex.ru/maps/org/{bank_name}/{yndx_bank_id}/chain/'\n",
    "# driver.get(url)\n",
    "\n",
    "# t = 'business-tab-wrapper' \n",
    "# elements = driver.find_elements(By.CLASS_NAME, t)\n",
    "\n",
    "# # может работать не с 1ого раза\n",
    "# if len(elements) > 1:\n",
    "\n",
    "#     # без этого не работает\n",
    "#     elements = driver.find_elements(By.CLASS_NAME, t)\n",
    "\n",
    "#     seen = []\n",
    "\n",
    "#     while True:\n",
    "#         driver.execute_script(\"arguments[0].scrollIntoView();\", elements[-1]);\n",
    "\n",
    "#         # time.sleep(round(random.uniform(230.1, 239.9), 2))\n",
    "#         elements = driver.find_elements(By.CLASS_NAME, t)\n",
    "#         if len(elements) < 1:\n",
    "#             print('len < 1')\n",
    "#             time.sleep(round(random.uniform(10.1, 19.9), 2))\n",
    "    \n",
    "#         page3 = elements[3].get_attribute('innerHTML')\n",
    "#         print(page3)\n",
    "#         yndx_idx = get_id_from_page(page3)\n",
    "        \n",
    "#         # last_size = len(yndx_idx)\n",
    "#         # seen.append(last_size)\n",
    "        \n",
    "#         # # TODO: проверить, всё ли сохраняется?\n",
    "#         # if len(set(seen))-1 < len(seen):\n",
    "#         #     break"
   ]
  },
  {
   "cell_type": "code",
   "execution_count": 21,
   "id": "4df7797a-eede-40ba-8a02-ab8198cf6092",
   "metadata": {},
   "outputs": [
    {
     "data": {
      "text/plain": [
       "'https://yandex.ru/maps/org/sberbank/1128554212'"
      ]
     },
     "execution_count": 21,
     "metadata": {},
     "output_type": "execute_result"
    }
   ],
   "source": [
    "# fake_links = '/Users/anyarulina/Downloads/links_sberbank/sberbank/link_Fake.pkl'\n",
    "check_links = '/Users/anyarulina/parser/check_link_1011010028.pkl'\n",
    "\n",
    "with open(check_links, 'rb') as handle:\n",
    "    check_links = pickle.load(handle)\n",
    "check_links = ['https://yandex.ru/maps/org/sberbank/' + c for c in check_links]\n",
    "check_links[2]"
   ]
  },
  {
   "cell_type": "code",
   "execution_count": 22,
   "id": "00f471e3-8e8d-48ea-be3d-a9bacafc276e",
   "metadata": {},
   "outputs": [
    {
     "data": {
      "text/plain": [
       "23"
      ]
     },
     "execution_count": 22,
     "metadata": {},
     "output_type": "execute_result"
    }
   ],
   "source": [
    "msk_links = '/Users/anyarulina/Downloads/links_sberbank/sberbank/link_Moskva.pkl'\n",
    "\n",
    "with open(msk_links, 'rb') as handle:\n",
    "    msk_links = pickle.load(handle)\n",
    "len(msk_links)"
   ]
  },
  {
   "cell_type": "code",
   "execution_count": 23,
   "id": "1dfe5d3b-7e97-4a8d-893e-4c0039b7e85c",
   "metadata": {},
   "outputs": [
    {
     "data": {
      "text/plain": [
       "set()"
      ]
     },
     "execution_count": 23,
     "metadata": {},
     "output_type": "execute_result"
    }
   ],
   "source": [
    "set(msk_links).difference(set(check_links))"
   ]
  },
  {
   "cell_type": "code",
   "execution_count": 24,
   "id": "210da04d-8e49-4c5c-afb1-458d8444943a",
   "metadata": {},
   "outputs": [
    {
     "data": {
      "text/plain": [
       "set()"
      ]
     },
     "execution_count": 24,
     "metadata": {},
     "output_type": "execute_result"
    }
   ],
   "source": [
    "set(check_links).difference(set(msk_links))"
   ]
  },
  {
   "cell_type": "code",
   "execution_count": 4,
   "id": "2b2da0cf-3067-483c-9861-cdb3d7868ab4",
   "metadata": {},
   "outputs": [],
   "source": [
    "# t = 'business-reviews-card-view__review'\n",
    "# t = 'search-snippet-view__body _type_business _wide'\n",
    "# t = 'search-business-snippet-view__content'\n",
    "# t = 'search-business-snippet-view__sequence' # +-\n",
    "# t = 'business-tab-wrapper__content' # +++++\n",
    "# t = 'search-business-snippet-view__address' -\n",
    "t = 'business-tab-wrapper' # +++++ 25 address\n",
    "# t = 'business-tab-wrapper__content'\n",
    "# t = 'search-snippet-view__body _type_business _wide'\n",
    "# t = 'search-snippet'\n",
    "# t = 'search-snippet-view'\n",
    "# t = 'business-tab-wrapper__content' # +\n",
    "# t = 'card-businesses-list__list'\n",
    "# t = 'card-businesses-list'\n",
    "\n",
    "# t = 'business-tab-wrapper _materialized' \n",
    "# <div data-chunk=\"search-snippet\"\n",
    "\n",
    "# t = 'sidebar-container'"
   ]
  },
  {
   "cell_type": "code",
   "execution_count": 113,
   "id": "6e04e243-1865-4bb3-93de-81cd9fff91ed",
   "metadata": {},
   "outputs": [],
   "source": [
    "def get_vtb_id_from_chain(vtb_bank_id):\n",
    "    \n",
    "    opts = undetected_chromedriver.ChromeOptions()\n",
    "    opts.add_argument('--no-sandbox')\n",
    "    opts.add_argument('--disable-dev-shm-usage')\n",
    "    opts.add_argument('headless')\n",
    "    opts.add_argument('--disable-gpu')\n",
    "    driver = undetected_chromedriver.Chrome(options=opts)\n",
    "    \n",
    "    url = f'https://yandex.ru/maps/org/bank_vtb/{vtb_bank_id}/chain/'\n",
    "    driver.get(url)\n",
    "    \n",
    "    t = 'business-tab-wrapper' \n",
    "    elements = driver.find_elements(By.CLASS_NAME, t)\n",
    "    \n",
    "    # может работать не с 1ого раза\n",
    "    if len(elements) > 1:\n",
    "    \n",
    "        # без этого не работает\n",
    "        elements = driver.find_elements(By.CLASS_NAME, t)\n",
    "    \n",
    "        seen = []\n",
    "    \n",
    "        while True:\n",
    "            driver.execute_script(\"arguments[0].scrollIntoView();\", elements[-1]);\n",
    "            # TODO: подольше спать?\n",
    "            time.sleep(5)\n",
    "            elements = driver.find_elements(By.CLASS_NAME, t)\n",
    "            if len(elements) < 1:\n",
    "                time.sleep(5)\n",
    "    \n",
    "            page3 = elements[3].get_attribute('innerHTML')\n",
    "            yndx_idx = get_id_from_page(page3)\n",
    "            \n",
    "            last_size = len(yndx_idx)\n",
    "            seen.append(last_size)\n",
    "            \n",
    "            if len(set(seen)) < len(seen):\n",
    "                print('I finished')\n",
    "                break\n",
    "    \n",
    "    else:\n",
    "        print('driver stopped')\n",
    "        driver.close()\n",
    "        driver.quit()\n",
    "        \n",
    "    driver.close()\n",
    "    driver.quit() \n",
    "    \n",
    "    return yndx_idx"
   ]
  },
  {
   "cell_type": "code",
   "execution_count": 114,
   "id": "9b0e45e0-65c4-482a-81e9-802cf5417900",
   "metadata": {},
   "outputs": [
    {
     "name": "stdout",
     "output_type": "stream",
     "text": [
      "founded 25 ids\n",
      "founded 50 ids\n",
      "founded 75 ids\n"
     ]
    },
    {
     "ename": "KeyboardInterrupt",
     "evalue": "",
     "output_type": "error",
     "traceback": [
      "\u001b[0;31m---------------------------------------------------------------------------\u001b[0m",
      "\u001b[0;31mKeyboardInterrupt\u001b[0m                         Traceback (most recent call last)",
      "Cell \u001b[0;32mIn[114], line 1\u001b[0m\n\u001b[0;32m----> 1\u001b[0m yndx_idx \u001b[38;5;241m=\u001b[39m \u001b[43mget_vtb_id_from_chain\u001b[49m\u001b[43m(\u001b[49m\u001b[38;5;241;43m119121952644\u001b[39;49m\u001b[43m)\u001b[49m\n",
      "Cell \u001b[0;32mIn[113], line 27\u001b[0m, in \u001b[0;36mget_vtb_id_from_chain\u001b[0;34m(vtb_bank_id)\u001b[0m\n\u001b[1;32m     25\u001b[0m driver\u001b[38;5;241m.\u001b[39mexecute_script(\u001b[38;5;124m\"\u001b[39m\u001b[38;5;124marguments[0].scrollIntoView();\u001b[39m\u001b[38;5;124m\"\u001b[39m, elements[\u001b[38;5;241m-\u001b[39m\u001b[38;5;241m1\u001b[39m]);\n\u001b[1;32m     26\u001b[0m \u001b[38;5;66;03m# TODO: подольше спать?\u001b[39;00m\n\u001b[0;32m---> 27\u001b[0m \u001b[43mtime\u001b[49m\u001b[38;5;241;43m.\u001b[39;49m\u001b[43msleep\u001b[49m\u001b[43m(\u001b[49m\u001b[38;5;241;43m5\u001b[39;49m\u001b[43m)\u001b[49m\n\u001b[1;32m     28\u001b[0m elements \u001b[38;5;241m=\u001b[39m driver\u001b[38;5;241m.\u001b[39mfind_elements(By\u001b[38;5;241m.\u001b[39mCLASS_NAME, t)\n\u001b[1;32m     29\u001b[0m \u001b[38;5;28;01mif\u001b[39;00m \u001b[38;5;28mlen\u001b[39m(elements) \u001b[38;5;241m<\u001b[39m \u001b[38;5;241m1\u001b[39m:\n",
      "\u001b[0;31mKeyboardInterrupt\u001b[0m: "
     ]
    }
   ],
   "source": [
    "yndx_idx = get_vtb_id_from_chain(119121952644)"
   ]
  },
  {
   "cell_type": "code",
   "execution_count": 11,
   "id": "627f2336-5fbe-4550-9781-53a8bdc2aeb9",
   "metadata": {},
   "outputs": [
    {
     "name": "stdout",
     "output_type": "stream",
     "text": [
      "['108842531028', '115970153357', '58126187224', '1269903998', '1065477601', '235337541767', '1494695036', '1018823642', '4591086156', '220673277256', '1010681681', '1081597905', '112742912522', '117095934626', '29783571280', '1437293025', '27133499164', '1130286215', '1033745759', '1327391199', '7128644451', '65217920821', '1319804464', '1070033100', '72023112309', '11536838795', '1255057274', '25664524981', '1057066856', '74709651787', '1086135893', '154867663938', '17240174828', '1420832132', '1270083581', '1531857223', '1073336641', '1759951598', '57803806217', '1394732712', '21763314314', '1096076218', '186437166625', '120349263024', '1310673410', '1059995666', '1060668956', '182810389580', '1218613928', '35412070788', '37012281512', '1662536963', '1099217561', '83314062840', '1275504150', '32289656542', '137237435722', '1243081137', '1214808353', '1320953515', '1508412341', '149052401015', '44940801987', '90150627438', '226682227522', '68953039594', '1503457777', '1510939541', '1139314974', '32980777105', '1536220377', '1417187528', '130819204134', '1058116075', '159633123975', '202736422246', '1006637277', '1167797824', '100378522032', '1027838939', '1452029437', '1271730046', '1397223597', '1365092242', '177929122556', '1017083166', '1078005708', '144951184809', '1178715162', '85088963025', '113869603954', '1464290438', '1475949901', '1211913106', '13062900424', '1486115940', '1432013573', '1229122030', '1129311545', '1492102809', '206866879787', '175937738734', '1405085351', '1133133174', '1090304853', '1802731966', '58689134461', '1098414135', '1019185066', '176696200464', '179272568855', '1388074342', '80526591552', '154162719984', '1079232532', '1068286415', '1157217772', '171609631901', '1327634980', '199885643442', '119250669481', '1058066033', '176494010265', '60132181422', '1010582592', '207919023267', '78334621168', '145793351030', '83634203779', '1368139062', '119121952644', '114281626164', '189663965209', '1070842490', '118410367881', '31364458912', '203885877575', '1134774279', '69051694660', '1060829363', '1624854264', '1001900676', '1133672965', '128015644028', '45103610626', '18386599764', '1085358334', '1069528397', '1117097104', '1035051996', '51311484203', '1269427401', '223601498690', '1349958378', '145962641359', '1068088965', '1422505338', '1466857978', '154019497489', '218367056356', '129444039948', '10627743983', '230569956659', '149864589024', '11125010759']\n"
     ]
    }
   ],
   "source": [
    "print(yndx_idx)"
   ]
  },
  {
   "cell_type": "code",
   "execution_count": null,
   "id": "14d954b3-d7ed-4809-a5c0-9cb60fc7dfc8",
   "metadata": {},
   "outputs": [],
   "source": [
    "t = 'business-reviews-card-view__review'\n",
    "\n",
    "class MyParser:\n",
    "    def __init__(self, driver):\n",
    "        self.driver = driver\n",
    "\n",
    "    def __scroll_to_bottom(self, elem) -> None:\n",
    "        \"\"\"\n",
    "        Скроллим список до последнего отзыва\n",
    "        :param elem: Последний отзыв в списке\n",
    "        :param driver: Драйвер undetected_chromedriver\n",
    "        :return: None\n",
    "        \"\"\"\n",
    "        self.driver.execute_script(\n",
    "            \"arguments[0].scrollIntoView();\",\n",
    "            elem\n",
    "        )\n",
    "        time.sleep(1)\n",
    "        new_elem = self.driver.find_elements(By.CLASS_NAME, t)[-1]\n",
    "        # new_elem = driver.find_elements(By.TAG_NAME, \"a\")[-1]\n",
    "        print('I scroll')\n",
    "        if elem == new_elem:\n",
    "            return\n",
    "        self.__scroll_to_bottom(new_elem)\n",
    "        \n",
    "\n",
    "    def __get_data_item(self, elem):\n",
    "        \"\"\"\n",
    "        Спарсить данные по отзыву\n",
    "        :param elem: Отзыв из списка\n",
    "        :return: Словарь\n",
    "        {\n",
    "            name: str\n",
    "            icon_href: Union[str, None]\n",
    "            date: float\n",
    "            text: str\n",
    "            stars: float\n",
    "        }\n",
    "        \"\"\"\n",
    "\n",
    "        # try:\n",
    "        #     link = elem.find_element(By.XPATH, \".//meta[@property='al:ios:url']\").get_attribute('content')\n",
    "        # except NoSuchElementException:\n",
    "        #     print(\"no LINK\")\n",
    "        #     link = None\n",
    "\n",
    "        try:\n",
    "            link = elem.find_element(By.XPATH, \".//meta[@itemprop='datePublished']\").get_attribute('content')\n",
    "        except NoSuchElementException:\n",
    "            link = None\n",
    "\n",
    "        # try:\n",
    "        #     link = elem.find_element(By.XPATH, \".//meta[@property='al:ios:url']\").get_attribute('content')\n",
    "        # except NoSuchElementException:\n",
    "        #     print(\"no LINK\")\n",
    "        #     link = None\n",
    "        \n",
    "        try:\n",
    "            address = elem.find_element(By.XPATH, \".//a[@class='search-business-snippet-view__address']\").get_attribute('href')\n",
    "            # icon_href = icon_href.split('\"')[1]\n",
    "        except NoSuchElementException:\n",
    "            print('no ADRESS')\n",
    "            address = None\n",
    "\n",
    "        print(f'link {link}')\n",
    "        item = Filial(\n",
    "            link=link,\n",
    "            address=address\n",
    "        )\n",
    "        return asdict(item)\n",
    "\n",
    "\n",
    "\n",
    "    def __get_data_reviews(self) -> list:\n",
    "        reviews = []\n",
    "    \n",
    "        elements = self.driver.find_elements(By.CLASS_NAME, t)\n",
    "        print('elements 1 ', elements)\n",
    "        #  time.sleep(2)\n",
    "        # element.click()\n",
    "        if len(elements) > 0:\n",
    "            print('find elements level 1 ', elements)\n",
    "        else:\n",
    "            1/0\n",
    "        if len(elements) > 1:\n",
    "            self.__scroll_to_bottom(elements[-1])\n",
    "            elements = self.driver.find_elements(By.CLASS_NAME, t)\n",
    "            print('elements 1 ', elements)\n",
    "            if len(elements) > 0:\n",
    "                print('find elements level 2 ', elements)\n",
    "            for elem in elements:\n",
    "                reviews.append(self.__get_data_item(elem))\n",
    "        return reviews\n",
    "\n",
    "    def __isinstance_page(self):\n",
    "        try:\n",
    "            xpath_name = \".//h1[@class='orgpage-header-view__header']\"\n",
    "            name = self.driver.find_element(By.XPATH, xpath_name).text\n",
    "            return True\n",
    "        except NoSuchElementException:\n",
    "            return False\n",
    "\n",
    "    def parse_all_data(self) -> dict:\n",
    "        \"\"\"\n",
    "        Начинаем парсить данные.\n",
    "        :return: Словарь данных\n",
    "        {\n",
    "             company_info:{\n",
    "                    name: str\n",
    "                    rating: float\n",
    "                    count_rating: int\n",
    "                    stars: float\n",
    "            },\n",
    "            company_reviews:[\n",
    "                {\n",
    "                  name: str\n",
    "                  icon_href: str\n",
    "                  date: timestamp\n",
    "                  text: str\n",
    "                  stars: float\n",
    "                }\n",
    "            ]\n",
    "        }\n",
    "        \"\"\"\n",
    "        if not self.__isinstance_page():\n",
    "            return {'error': 'Страница не найдена'}\n",
    "        return {'company_info': self.__get_data_campaign(), 'company_reviews': self.__get_data_reviews()}\n",
    "\n",
    "    def parse_reviews(self) -> dict:\n",
    "        \"\"\"\n",
    "        Начинаем парсить данные только отзывы.\n",
    "        :return: Массив отзывов\n",
    "        {\n",
    "            company_reviews:[\n",
    "                {\n",
    "                  name: str\n",
    "                  icon_href: str\n",
    "                  date: timestamp\n",
    "                  text: str\n",
    "                  stars: float\n",
    "                }\n",
    "            ]\n",
    "        }\n",
    "\n",
    "        \"\"\"\n",
    "        if not self.__isinstance_page():\n",
    "            return {'error': 'Страница не найдена'}\n",
    "        return {'company_reviews': self.__get_data_reviews()}\n",
    "\n",
    "\n",
    "\n",
    "\n",
    "class YandexParser2:\n",
    "    def __init__(self, id_yandex: int):\n",
    "        \"\"\"\n",
    "        @param id_yandex: ID Яндекс компании\n",
    "        \"\"\"\n",
    "        self.id_yandex = id_yandex\n",
    "\n",
    "    def __open_page(self):\n",
    "        url = 'https://yandex.ru/maps/org/{}/reviews/'.format(str(self.id_yandex))\n",
    "        # url = 'https://yandex.ru/maps/org/{}/chain/'.format(str(self.id_yandex))\n",
    "        opts = undetected_chromedriver.ChromeOptions()\n",
    "        opts.add_argument('--no-sandbox')\n",
    "        opts.add_argument('--disable-dev-shm-usage')\n",
    "        opts.add_argument('headless')\n",
    "        opts.add_argument('--disable-gpu')\n",
    "        driver = undetected_chromedriver.Chrome(options=opts)\n",
    "        parser = MyParser(driver)\n",
    "        driver.get(url)\n",
    "        return parser\n",
    "\n",
    "    def parse(self, type_parse: str = 'default') -> dict:\n",
    "        \"\"\"\n",
    "        Функция получения данных в виде\n",
    "        @param type_parse: Тип данных, принимает значения:\n",
    "            default - получает все данные по аккаунту\n",
    "            company - получает данные по компании\n",
    "            reviews - получает данные по отчетам\n",
    "        @return: Данные по запрошенному типу\n",
    "        \"\"\"\n",
    "        result:dict = {}\n",
    "        page = self.__open_page()\n",
    "        time.sleep(4)\n",
    "        try:\n",
    "            if type_parse == 'default':\n",
    "                result = page.parse_all_data()\n",
    "            if type_parse == 'company':\n",
    "                result = page.parse_company_info()\n",
    "            if type_parse == 'reviews':\n",
    "                print('start get reviews')\n",
    "                result = page.parse_reviews()\n",
    "        except Exception as e:\n",
    "            print('error: ', e)\n",
    "            return result\n",
    "        finally:\n",
    "            page.driver.close()\n",
    "            page.driver.quit()\n",
    "            print('driver closed')\n",
    "            return result\n"
   ]
  },
  {
   "cell_type": "code",
   "execution_count": null,
   "id": "aa5671aa-9cb8-4306-8c6c-f1cbd0c622c9",
   "metadata": {},
   "outputs": [],
   "source": [
    "# parser = YandexParser2(220673277256)\n",
    "\n",
    "# reviews = parser.parse(type_parse='reviews')"
   ]
  },
  {
   "cell_type": "code",
   "execution_count": null,
   "id": "0c67dc39-0721-4b7a-b8e4-913350d3c134",
   "metadata": {},
   "outputs": [],
   "source": [
    "reviews"
   ]
  },
  {
   "cell_type": "code",
   "execution_count": null,
   "id": "ee899448-aa7e-4f6f-a922-4a7cd38bfca3",
   "metadata": {},
   "outputs": [],
   "source": [
    "# opts = undetected_chromedriver.ChromeOptions()\n",
    "# opts.add_argument('--no-sandbox')\n",
    "# opts.add_argument('--disable-dev-shm-usage')\n",
    "# opts.add_argument('headless')\n",
    "# opts.add_argument('--disable-gpu')\n",
    "# driver = undetected_chromedriver.Chrome(options=opts)\n",
    "#         # parser = Parser(driver)\n",
    "# # url_com = 'https://yandex.ru/maps/org/bank_vtb/115970153357/chain/'\n",
    "# url = 'https://yandex.ru/maps/org/115970153357/chain/'\n",
    "# driver.get(url)  \n",
    "\n",
    "\n",
    "\n",
    "# reviews = __get_data_reviews()"
   ]
  },
  {
   "cell_type": "code",
   "execution_count": null,
   "id": "aa1fc3d2-0671-4693-ba47-50e901008932",
   "metadata": {},
   "outputs": [],
   "source": []
  },
  {
   "cell_type": "code",
   "execution_count": null,
   "id": "600de7c9-8a0f-4f56-bfe9-14db305c2352",
   "metadata": {},
   "outputs": [],
   "source": [
    "# # # # # # # # # # # # # # # # # # # # # # # # # # # # # # # # # # # # # # # # # # # # # # # # "
   ]
  },
  {
   "cell_type": "code",
   "execution_count": null,
   "id": "308aaa48-47af-4123-a61e-441ad898f7a1",
   "metadata": {},
   "outputs": [],
   "source": [
    "# search-business-snippet-view__content\n",
    "\n",
    "# search-business-snippet-view__address\n",
    "\n",
    "# search-business-snippet-view__sequence-item _priority_low"
   ]
  },
  {
   "cell_type": "code",
   "execution_count": null,
   "id": "a6ba97ef-ed45-4f37-bf62-c0d204e3ded4",
   "metadata": {},
   "outputs": [],
   "source": []
  },
  {
   "cell_type": "code",
   "execution_count": null,
   "id": "384d049d-a9bf-4833-a4d6-2e7f9c718ef6",
   "metadata": {},
   "outputs": [],
   "source": [
    "t = 'business-urls-view__link'"
   ]
  },
  {
   "cell_type": "code",
   "execution_count": null,
   "id": "a259ce90-370d-4b89-986d-14f8ba9bda5b",
   "metadata": {},
   "outputs": [],
   "source": []
  },
  {
   "cell_type": "code",
   "execution_count": null,
   "id": "26177a82-247c-44a8-b15f-dcfc41cd4f10",
   "metadata": {},
   "outputs": [],
   "source": [
    "'business-urls-view__link'\n",
    "'business-urls-view__url'\n",
    "'business-tab-wrapper__content'\n",
    "'.business-card-view__main-wrapper'\n",
    "\"business-card-view__awards\"\n",
    "\n",
    "'business-card-view__extend'"
   ]
  },
  {
   "cell_type": "code",
   "execution_count": null,
   "id": "b57c49b1-9b8e-4c79-a982-e60577835e56",
   "metadata": {},
   "outputs": [],
   "source": []
  },
  {
   "cell_type": "code",
   "execution_count": null,
   "id": "fa1ae07a-7a50-450d-9c7c-676b95d09bd0",
   "metadata": {},
   "outputs": [],
   "source": [
    "# # # # # "
   ]
  },
  {
   "cell_type": "code",
   "execution_count": 3,
   "id": "949a9613-f979-4f09-8340-3aad64fb2426",
   "metadata": {},
   "outputs": [],
   "source": [
    "apikey = '03242919-f9c6-41e0-ba0c-17cc0accf419'\n",
    "bank_names_dict = {'sberbank' : 'сбербанк',\n",
    "               'vtb_bank' : 'банк втб',\n",
    "               'alfa_bank' : 'альфа банк',\n",
    "               'gosbank' : 'госбанк',\n",
    "               'crb' :'Центральный республиканский банк'\n",
    "               }\n",
    "bank_name = 'sberbank'\n",
    "city_name = 'Ульяновск'\n",
    "text = f'{bank_names_dict[bank_name]} {city_name}'\n",
    "params = dict(\n",
    "text=text,\n",
    "type='biz',\n",
    "lang='en_US',\n",
    "apikey=apikey\n",
    ")\n",
    "url = 'https://search-maps.yandex.ru/v1/'\n",
    "resp = requests.get(url=url, params=params)\n",
    "data = resp.json()"
   ]
  },
  {
   "cell_type": "code",
   "execution_count": 4,
   "id": "486d2f03-12d1-456b-a773-86de253bef3d",
   "metadata": {},
   "outputs": [
    {
     "data": {
      "text/plain": [
       "{'type': 'FeatureCollection',\n",
       " 'properties': {'ResponseMetaData': {'SearchResponse': {'found': 20,\n",
       "    'display': 'multiple'},\n",
       "   'SearchRequest': {'request': 'сбербанк Ульяновск',\n",
       "    'skip': 0,\n",
       "    'results': 10,\n",
       "    'boundedBy': [[37.048427, 55.43644866], [38.175903, 56.04690174]]}}},\n",
       " 'features': [{'type': 'Feature',\n",
       "   'geometry': {'type': 'Point', 'coordinates': [48.399056, 54.318917]},\n",
       "   'properties': {'name': 'Sberbank',\n",
       "    'description': 'Russian Federation, Ulyanovsk, Goncharova Street, 40А',\n",
       "    'boundedBy': [[48.394661, 54.316639], [48.402871, 54.321439]],\n",
       "    'uri': 'ymapsbm1://org?oid=238649675073',\n",
       "    'CompanyMetaData': {'id': '238649675073',\n",
       "     'name': 'Sberbank',\n",
       "     'address': 'Ulyanovsk, Goncharova Street, 40А',\n",
       "     'url': 'https://www.sberbank.com/ru/person/bank_cards/credit_cards/credit_sberkarta/vsp_1mln?utm_campaign=clientflow_july_dec_promo&utm_content=banners&utm_medium=fix&utm_source=yandex_business&utm_term=680927_3',\n",
       "     'Phones': [{'type': 'phone', 'formatted': '8 (800) 555-55-50'},\n",
       "      {'type': 'phone', 'formatted': '900'}],\n",
       "     'Categories': [{'class': 'banks', 'name': 'Bank'}],\n",
       "     'Hours': {'text': 'Mon-Fri 9:00\\u202fAM–6:30\\u202fPM; Sat 9:00\\u202fAM–2:00\\u202fPM',\n",
       "      'Availabilities': [{'Intervals': [{'from': '09:00:00',\n",
       "          'to': '18:30:00'}],\n",
       "        'Monday': True,\n",
       "        'Tuesday': True,\n",
       "        'Wednesday': True,\n",
       "        'Thursday': True,\n",
       "        'Friday': True},\n",
       "       {'Intervals': [{'from': '09:00:00', 'to': '14:00:00'}],\n",
       "        'Saturday': True}]},\n",
       "     'Features': [{'id': 'wheelchair_access',\n",
       "       'value': [{'id': 'unavailable', 'name': 'unavailable'}],\n",
       "       'name': 'wheelchair accessibility',\n",
       "       'type': 'enum'}]}}},\n",
       "  {'type': 'Feature',\n",
       "   'geometry': {'type': 'Point', 'coordinates': [48.381592, 54.306685]},\n",
       "   'properties': {'name': 'Sberbank',\n",
       "    'description': 'Russian Federation, Ulyanovsk, Minayeva Street, 26/1',\n",
       "    'boundedBy': [[48.377225, 54.304237], [48.385435, 54.309039]],\n",
       "    'uri': 'ymapsbm1://org?oid=151883863903',\n",
       "    'CompanyMetaData': {'id': '151883863903',\n",
       "     'name': 'Sberbank',\n",
       "     'address': 'Ulyanovsk, Minayeva Street, 26/1',\n",
       "     'url': 'https://www.sberbank.com/ru/person/bank_cards/credit_cards/credit_sberkarta/vsp_1mln?utm_campaign=clientflow_july_dec_promo&utm_content=banners&utm_medium=fix&utm_source=yandex_business&utm_term=680927_3',\n",
       "     'Phones': [{'type': 'phone', 'formatted': '8 (800) 555-55-50'},\n",
       "      {'type': 'phone', 'formatted': '900'},\n",
       "      {'type': 'phone', 'formatted': '0321'}],\n",
       "     'Categories': [{'class': 'banks', 'name': 'Bank'}],\n",
       "     'Hours': {'text': 'Mon-Fri 9:00\\u202fAM–6:00\\u202fPM',\n",
       "      'Availabilities': [{'Intervals': [{'from': '09:00:00',\n",
       "          'to': '18:00:00'}],\n",
       "        'Monday': True,\n",
       "        'Tuesday': True,\n",
       "        'Wednesday': True,\n",
       "        'Thursday': True,\n",
       "        'Friday': True}]}}}},\n",
       "  {'type': 'Feature',\n",
       "   'geometry': {'type': 'Point', 'coordinates': [48.402545, 54.327259]},\n",
       "   'properties': {'name': 'Sberbank',\n",
       "    'description': 'Russian Federation, Ulyanovsk, Radishcheva Street, 39',\n",
       "    'boundedBy': [[48.397266, 54.324805], [48.405477, 54.329604]],\n",
       "    'uri': 'ymapsbm1://org?oid=1021195474',\n",
       "    'CompanyMetaData': {'id': '1021195474',\n",
       "     'name': 'Sberbank',\n",
       "     'address': 'Ulyanovsk, Radishcheva Street, 39',\n",
       "     'url': 'https://www.sberbank.com/ru/person/bank_cards/credit_cards/credit_sberkarta/vsp_1mln?utm_campaign=clientflow_july_dec_promo&utm_content=banners&utm_medium=fix&utm_source=yandex_business&utm_term=680927_3',\n",
       "     'Phones': [{'type': 'phone', 'formatted': '8 (800) 555-55-50'},\n",
       "      {'type': 'phone', 'formatted': '900'},\n",
       "      {'type': 'phone', 'formatted': '0321'}],\n",
       "     'Categories': [{'class': 'banks', 'name': 'Bank'}],\n",
       "     'Hours': {'text': 'Mon-Fri 8:30\\u202fAM–6:00\\u202fPM',\n",
       "      'Availabilities': [{'Intervals': [{'from': '08:30:00',\n",
       "          'to': '18:00:00'}],\n",
       "        'Monday': True,\n",
       "        'Tuesday': True,\n",
       "        'Wednesday': True,\n",
       "        'Thursday': True,\n",
       "        'Friday': True}]}}}},\n",
       "  {'type': 'Feature',\n",
       "   'geometry': {'type': 'Point', 'coordinates': [48.393774, 54.319944]},\n",
       "   'properties': {'name': 'Sberbank',\n",
       "    'description': 'Russian Federation, Ulyanovsk, Karla Marksa Street, 12к3',\n",
       "    'boundedBy': [[48.390115, 54.317296], [48.398326, 54.322096]],\n",
       "    'uri': 'ymapsbm1://org?oid=144786276694',\n",
       "    'CompanyMetaData': {'id': '144786276694',\n",
       "     'name': 'Sberbank',\n",
       "     'address': 'Ulyanovsk, Karla Marksa Street, 12к3',\n",
       "     'url': 'https://www.sberbank.com/ru/person/bank_cards/credit_cards/credit_sberkarta/vsp_1mln?utm_campaign=clientflow_july_dec_promo&utm_content=banners&utm_medium=fix&utm_source=yandex_business&utm_term=680927_3',\n",
       "     'Phones': [{'type': 'phone', 'formatted': '8 (800) 555-55-50'},\n",
       "      {'type': 'phone', 'formatted': '900'},\n",
       "      {'type': 'phone', 'formatted': '0321'}],\n",
       "     'Categories': [{'class': 'banks', 'name': 'Bank'}],\n",
       "     'Hours': {'text': 'Mon-Fri 9:00\\u202fAM–6:00\\u202fPM; Sat 8:30\\u202fAM–3:30\\u202fPM',\n",
       "      'Availabilities': [{'Intervals': [{'from': '09:00:00',\n",
       "          'to': '18:00:00'}],\n",
       "        'Monday': True,\n",
       "        'Tuesday': True,\n",
       "        'Wednesday': True,\n",
       "        'Thursday': True,\n",
       "        'Friday': True},\n",
       "       {'Intervals': [{'from': '08:30:00', 'to': '15:30:00'}],\n",
       "        'Saturday': True}]},\n",
       "     'Features': [{'id': 'call_button',\n",
       "       'value': True,\n",
       "       'name': 'Staff call button',\n",
       "       'type': 'bool'},\n",
       "      {'id': 'wheelchair_access',\n",
       "       'value': [{'id': 'full_access', 'name': 'full access'}],\n",
       "       'name': 'wheelchair accessibility',\n",
       "       'type': 'enum'}]}}},\n",
       "  {'type': 'Feature',\n",
       "   'geometry': {'type': 'Point', 'coordinates': [48.303063, 54.269817]},\n",
       "   'properties': {'name': 'Sberbank',\n",
       "    'description': 'Russian Federation, Ulyanovsk, Kamyshinskaya Street, 4А',\n",
       "    'boundedBy': [[48.298838, 54.267331], [48.307048, 54.272136]],\n",
       "    'uri': 'ymapsbm1://org?oid=101142138133',\n",
       "    'CompanyMetaData': {'id': '101142138133',\n",
       "     'name': 'Sberbank',\n",
       "     'address': 'Ulyanovsk, Kamyshinskaya Street, 4А',\n",
       "     'url': 'https://www.sberbank.com/ru/person/bank_cards/credit_cards/credit_sberkarta/vsp_1mln?utm_campaign=clientflow_july_dec_promo&utm_content=banners&utm_medium=fix&utm_source=yandex_business&utm_term=680927_3',\n",
       "     'Phones': [{'type': 'phone', 'formatted': '8 (800) 555-55-50'},\n",
       "      {'type': 'phone', 'formatted': '900'},\n",
       "      {'type': 'phone', 'formatted': '0321'}],\n",
       "     'Categories': [{'class': 'banks', 'name': 'Bank'}],\n",
       "     'Hours': {'text': 'Mon 8:30\\u202fAM–6:00\\u202fPM; Tue 8:30\\u202fAM–6:30\\u202fPM; Wed-Fri 8:30\\u202fAM–6:00\\u202fPM; Sat 9:00\\u202fAM–3:00\\u202fPM; Sun 9:00\\u202fAM–12:30\\u202fPM',\n",
       "      'Availabilities': [{'Intervals': [{'from': '08:30:00',\n",
       "          'to': '18:00:00'}],\n",
       "        'Monday': True},\n",
       "       {'Intervals': [{'from': '08:30:00', 'to': '18:30:00'}],\n",
       "        'Tuesday': True},\n",
       "       {'Intervals': [{'from': '08:30:00', 'to': '18:00:00'}],\n",
       "        'Wednesday': True,\n",
       "        'Thursday': True,\n",
       "        'Friday': True},\n",
       "       {'Intervals': [{'from': '09:00:00', 'to': '15:00:00'}],\n",
       "        'Saturday': True},\n",
       "       {'Intervals': [{'from': '09:00:00', 'to': '12:30:00'}],\n",
       "        'Sunday': True}]}}}},\n",
       "  {'type': 'Feature',\n",
       "   'geometry': {'type': 'Point', 'coordinates': [48.331294, 54.30398]},\n",
       "   'properties': {'name': 'Sberbank',\n",
       "    'description': 'Russian Federation, Ulyanovsk, 50-letiya VLKSM Avenue, 20',\n",
       "    'boundedBy': [[48.32726, 54.301579], [48.335471, 54.306381]],\n",
       "    'uri': 'ymapsbm1://org?oid=134049427938',\n",
       "    'CompanyMetaData': {'id': '134049427938',\n",
       "     'name': 'Sberbank',\n",
       "     'address': 'Ulyanovsk, 50-letiya VLKSM Avenue, 20',\n",
       "     'url': 'https://www.sberbank.com/ru/person/bank_cards/credit_cards/credit_sberkarta/vsp_1mln?utm_campaign=clientflow_july_dec_promo&utm_content=banners&utm_medium=fix&utm_source=yandex_business&utm_term=680927_3',\n",
       "     'Phones': [{'type': 'phone', 'formatted': '8 (800) 555-55-50'},\n",
       "      {'type': 'phone', 'formatted': '0321'},\n",
       "      {'type': 'phone', 'formatted': '900'}],\n",
       "     'Categories': [{'class': 'banks', 'name': 'Bank'}],\n",
       "     'Hours': {'text': 'Mon-Fri 8:30\\u202fAM–6:00\\u202fPM; Sat 8:30\\u202fAM–3:30\\u202fPM',\n",
       "      'Availabilities': [{'Intervals': [{'from': '08:30:00',\n",
       "          'to': '18:00:00'}],\n",
       "        'Monday': True,\n",
       "        'Tuesday': True,\n",
       "        'Wednesday': True,\n",
       "        'Thursday': True,\n",
       "        'Friday': True},\n",
       "       {'Intervals': [{'from': '08:30:00', 'to': '15:30:00'}],\n",
       "        'Saturday': True}]}}}},\n",
       "  {'type': 'Feature',\n",
       "   'geometry': {'type': 'Point', 'coordinates': [48.370902, 54.346509]},\n",
       "   'properties': {'name': 'Sberbank',\n",
       "    'description': 'Russian Federation, Ulyanovsk, Narimanova Avenue, 51',\n",
       "    'boundedBy': [[48.366588, 54.344176], [48.374799, 54.348973]],\n",
       "    'uri': 'ymapsbm1://org?oid=1031514095',\n",
       "    'CompanyMetaData': {'id': '1031514095',\n",
       "     'name': 'Sberbank',\n",
       "     'address': 'Ulyanovsk, Narimanova Avenue, 51',\n",
       "     'url': 'https://www.sberbank.com/ru/person/bank_cards/credit_cards/credit_sberkarta/vsp_1mln?utm_campaign=clientflow_july_dec_promo&utm_content=banners&utm_medium=fix&utm_source=yandex_business&utm_term=680927_3',\n",
       "     'Phones': [{'type': 'phone', 'formatted': '8 (800) 555-55-50'},\n",
       "      {'type': 'phone', 'formatted': '900'},\n",
       "      {'type': 'phone', 'formatted': '0321'}],\n",
       "     'Categories': [{'class': 'banks', 'name': 'Bank'}],\n",
       "     'Hours': {'text': 'Mon-Fri 8:30\\u202fAM–6:30\\u202fPM; Sat 9:00\\u202fAM–2:30\\u202fPM',\n",
       "      'Availabilities': [{'Intervals': [{'from': '08:30:00',\n",
       "          'to': '18:30:00'}],\n",
       "        'Monday': True,\n",
       "        'Tuesday': True,\n",
       "        'Wednesday': True,\n",
       "        'Thursday': True,\n",
       "        'Friday': True},\n",
       "       {'Intervals': [{'from': '09:00:00', 'to': '14:30:00'}],\n",
       "        'Saturday': True}]},\n",
       "     'Features': [{'id': 'wheelchair_access',\n",
       "       'value': [{'id': 'full_access', 'name': 'full access'}],\n",
       "       'name': 'wheelchair accessibility',\n",
       "       'type': 'enum'}]}}},\n",
       "  {'type': 'Feature',\n",
       "   'geometry': {'type': 'Point', 'coordinates': [48.378653, 54.30139]},\n",
       "   'properties': {'name': 'Sberbank',\n",
       "    'description': 'Russian Federation, Ulyanovsk, 12 Sentyabrya Street, 83',\n",
       "    'boundedBy': [[48.374332, 54.299346], [48.382543, 54.304148]],\n",
       "    'uri': 'ymapsbm1://org?oid=1092774498',\n",
       "    'CompanyMetaData': {'id': '1092774498',\n",
       "     'name': 'Sberbank',\n",
       "     'address': 'Ulyanovsk, 12 Sentyabrya Street, 83',\n",
       "     'url': 'https://www.sberbank.com/ru/person/bank_cards/credit_cards/credit_sberkarta/vsp_1mln?utm_campaign=clientflow_july_dec_promo&utm_content=banners&utm_medium=fix&utm_source=yandex_business&utm_term=680927_3',\n",
       "     'Phones': [{'type': 'phone', 'formatted': '8 (800) 555-55-50'},\n",
       "      {'type': 'phone', 'formatted': '900'},\n",
       "      {'type': 'phone', 'formatted': '0321'}],\n",
       "     'Categories': [{'class': 'banks', 'name': 'Bank'}],\n",
       "     'Hours': {'text': 'Mon 8:30\\u202fAM–5:00\\u202fPM; Tue 8:30\\u202fAM–5:30\\u202fPM; Wed-Fri 8:30\\u202fAM–5:00\\u202fPM; Sat 8:30\\u202fAM–2:00\\u202fPM',\n",
       "      'Availabilities': [{'Intervals': [{'from': '08:30:00',\n",
       "          'to': '17:00:00'}],\n",
       "        'Monday': True},\n",
       "       {'Intervals': [{'from': '08:30:00', 'to': '17:30:00'}],\n",
       "        'Tuesday': True},\n",
       "       {'Intervals': [{'from': '08:30:00', 'to': '17:00:00'}],\n",
       "        'Wednesday': True,\n",
       "        'Thursday': True,\n",
       "        'Friday': True},\n",
       "       {'Intervals': [{'from': '08:30:00', 'to': '14:00:00'}],\n",
       "        'Saturday': True}]},\n",
       "     'Features': [{'id': 'call_button',\n",
       "       'value': True,\n",
       "       'name': 'Staff call button',\n",
       "       'type': 'bool'},\n",
       "      {'id': 'wheelchair_access',\n",
       "       'value': [{'id': 'unavailable', 'name': 'unavailable'}],\n",
       "       'name': 'wheelchair accessibility',\n",
       "       'type': 'enum'}]}}},\n",
       "  {'type': 'Feature',\n",
       "   'geometry': {'type': 'Point', 'coordinates': [48.483553, 54.330726]},\n",
       "   'properties': {'name': 'Sberbank',\n",
       "    'description': 'Russian Federation, Ulyanovsk, Metallistov Street, 17',\n",
       "    'boundedBy': [[48.479237, 54.328454], [48.487448, 54.333253]],\n",
       "    'uri': 'ymapsbm1://org?oid=1034585429',\n",
       "    'CompanyMetaData': {'id': '1034585429',\n",
       "     'name': 'Sberbank',\n",
       "     'address': 'Ulyanovsk, Metallistov Street, 17',\n",
       "     'url': 'https://www.sberbank.com/ru/person/bank_cards/credit_cards/credit_sberkarta/vsp_1mln?utm_campaign=clientflow_july_dec_promo&utm_content=banners&utm_medium=fix&utm_source=yandex_business&utm_term=680927_3',\n",
       "     'Phones': [{'type': 'phone', 'formatted': '8 (800) 555-55-50'},\n",
       "      {'type': 'phone', 'formatted': '900'},\n",
       "      {'type': 'phone', 'formatted': '0321'}],\n",
       "     'Categories': [{'class': 'banks', 'name': 'Bank'}],\n",
       "     'Hours': {'text': 'Mon-Fri 8:00\\u202fAM–6:00\\u202fPM; Sat 8:30\\u202fAM–3:30\\u202fPM',\n",
       "      'Availabilities': [{'Intervals': [{'from': '08:00:00',\n",
       "          'to': '18:00:00'}],\n",
       "        'Monday': True,\n",
       "        'Tuesday': True,\n",
       "        'Wednesday': True,\n",
       "        'Thursday': True,\n",
       "        'Friday': True},\n",
       "       {'Intervals': [{'from': '08:30:00', 'to': '15:30:00'}],\n",
       "        'Saturday': True}]}}}},\n",
       "  {'type': 'Feature',\n",
       "   'geometry': {'type': 'Point', 'coordinates': [48.578103, 54.377985]},\n",
       "   'properties': {'name': 'Sberbank',\n",
       "    'description': 'Russian Federation, Ulyanovsk, Ulyanovskiy Avenue, 20',\n",
       "    'boundedBy': [[48.573767, 54.375822], [48.581978, 54.380616]],\n",
       "    'uri': 'ymapsbm1://org?oid=1128865244',\n",
       "    'CompanyMetaData': {'id': '1128865244',\n",
       "     'name': 'Sberbank',\n",
       "     'address': 'Ulyanovsk, Ulyanovskiy Avenue, 20',\n",
       "     'url': 'https://www.sberbank.com/ru/person/bank_cards/credit_cards/credit_sberkarta/vsp_1mln?utm_campaign=clientflow_july_dec_promo&utm_content=banners&utm_medium=fix&utm_source=yandex_business&utm_term=680927_3',\n",
       "     'Phones': [{'type': 'phone', 'formatted': '8 (800) 555-55-50'},\n",
       "      {'type': 'phone', 'formatted': '0321'},\n",
       "      {'type': 'phone', 'formatted': '900'}],\n",
       "     'Categories': [{'class': 'banks', 'name': 'Bank'}],\n",
       "     'Hours': {'text': 'Mon-Fri 9:00\\u202fAM–6:00\\u202fPM',\n",
       "      'Availabilities': [{'Intervals': [{'from': '09:00:00',\n",
       "          'to': '18:00:00'}],\n",
       "        'Monday': True,\n",
       "        'Tuesday': True,\n",
       "        'Wednesday': True,\n",
       "        'Thursday': True,\n",
       "        'Friday': True}]},\n",
       "     'Features': [{'id': 'wheelchair_access',\n",
       "       'value': [{'id': 'full_access', 'name': 'full access'}],\n",
       "       'name': 'wheelchair accessibility',\n",
       "       'type': 'enum'}]}}}]}"
      ]
     },
     "execution_count": 4,
     "metadata": {},
     "output_type": "execute_result"
    }
   ],
   "source": [
    "data"
   ]
  },
  {
   "cell_type": "code",
   "execution_count": null,
   "id": "24a425f2-0e35-4dd5-8bd2-154077122757",
   "metadata": {},
   "outputs": [],
   "source": []
  }
 ],
 "metadata": {
  "kernelspec": {
   "display_name": "Python 3 (ipykernel)",
   "language": "python",
   "name": "python3"
  },
  "language_info": {
   "codemirror_mode": {
    "name": "ipython",
    "version": 3
   },
   "file_extension": ".py",
   "mimetype": "text/x-python",
   "name": "python",
   "nbconvert_exporter": "python",
   "pygments_lexer": "ipython3",
   "version": "3.9.18"
  }
 },
 "nbformat": 4,
 "nbformat_minor": 5
}
